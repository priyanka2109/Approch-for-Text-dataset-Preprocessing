{
  "nbformat": 4,
  "nbformat_minor": 0,
  "metadata": {
    "kernelspec": {
      "display_name": "Python 3",
      "language": "python",
      "name": "python3"
    },
    "language_info": {
      "codemirror_mode": {
        "name": "ipython",
        "version": 3
      },
      "file_extension": ".py",
      "mimetype": "text/x-python",
      "name": "python",
      "nbconvert_exporter": "python",
      "pygments_lexer": "ipython3",
      "version": "3.7.7"
    },
    "colab": {
      "name": "Untitled2.ipynb",
      "provenance": [],
      "include_colab_link": true
    }
  },
  "cells": [
    {
      "cell_type": "markdown",
      "metadata": {
        "id": "view-in-github",
        "colab_type": "text"
      },
      "source": [
        "<a href=\"https://colab.research.google.com/github/priyanka2109/eluvio-ds-assignment/blob/main/Eluvio_Assignment.ipynb\" target=\"_parent\"><img src=\"https://colab.research.google.com/assets/colab-badge.svg\" alt=\"Open In Colab\"/></a>"
      ]
    },
    {
      "cell_type": "code",
      "metadata": {
        "colab": {
          "base_uri": "https://localhost:8080/"
        },
        "id": "qcouUhm70tDo",
        "outputId": "52d484ba-735f-4d41-b236-865fedc32aa9"
      },
      "source": [
        "#For Loading data and performing certain operations\n",
        "import numpy as np\n",
        "import pandas as pd\n",
        "\n",
        "#For Data preprocessing\n",
        "import re\n",
        "import nltk\n",
        "nltk.download('stopwords')\n",
        "from nltk.corpus import stopwords\n",
        "from nltk.stem.porter import PorterStemmer\n",
        "ps = PorterStemmer()\n",
        "from nltk.stem import WordNetLemmatizer\n",
        "ls= WordNetLemmatizer()\n",
        "\n",
        "# For data visualisation\n",
        "import matplotlib.pyplot as plt\n",
        "import seaborn as sns\n",
        "import plotly.figure_factory as ff\n",
        "import plotly.graph_objects as go\n",
        "import plotly.express as px\n",
        "from matplotlib import pyplot as plt #for customisation\n",
        "%matplotlib inline\n",
        "# Seaborn for plotting and styling\n",
        "import seaborn as sns\n",
        "\n",
        "import warnings\n",
        "warnings.filterwarnings('ignore')\n",
        "\n"
      ],
      "execution_count": 2,
      "outputs": [
        {
          "output_type": "stream",
          "text": [
            "[nltk_data] Downloading package stopwords to /root/nltk_data...\n",
            "[nltk_data]   Package stopwords is already up-to-date!\n"
          ],
          "name": "stdout"
        }
      ]
    },
    {
      "cell_type": "code",
      "metadata": {
        "colab": {
          "base_uri": "https://localhost:8080/",
          "height": 254
        },
        "id": "sHtXqZSe0tDt",
        "outputId": "3792df58-2587-4862-a9bd-a84c03d49e43"
      },
      "source": [
        "#Loading the dataset \n",
        "df= pd.read_csv(\"Eluvio_DS_Challenge.csv\")\n",
        "df.head()\n"
      ],
      "execution_count": 3,
      "outputs": [
        {
          "output_type": "execute_result",
          "data": {
            "text/html": [
              "<div>\n",
              "<style scoped>\n",
              "    .dataframe tbody tr th:only-of-type {\n",
              "        vertical-align: middle;\n",
              "    }\n",
              "\n",
              "    .dataframe tbody tr th {\n",
              "        vertical-align: top;\n",
              "    }\n",
              "\n",
              "    .dataframe thead th {\n",
              "        text-align: right;\n",
              "    }\n",
              "</style>\n",
              "<table border=\"1\" class=\"dataframe\">\n",
              "  <thead>\n",
              "    <tr style=\"text-align: right;\">\n",
              "      <th></th>\n",
              "      <th>time_created</th>\n",
              "      <th>date_created</th>\n",
              "      <th>up_votes</th>\n",
              "      <th>down_votes</th>\n",
              "      <th>title</th>\n",
              "      <th>over_18</th>\n",
              "      <th>author</th>\n",
              "      <th>category</th>\n",
              "    </tr>\n",
              "  </thead>\n",
              "  <tbody>\n",
              "    <tr>\n",
              "      <th>0</th>\n",
              "      <td>1201232046</td>\n",
              "      <td>2008-01-25</td>\n",
              "      <td>3</td>\n",
              "      <td>0</td>\n",
              "      <td>Scores killed in Pakistan clashes</td>\n",
              "      <td>False</td>\n",
              "      <td>polar</td>\n",
              "      <td>worldnews</td>\n",
              "    </tr>\n",
              "    <tr>\n",
              "      <th>1</th>\n",
              "      <td>1201232075</td>\n",
              "      <td>2008-01-25</td>\n",
              "      <td>2</td>\n",
              "      <td>0</td>\n",
              "      <td>Japan resumes refuelling mission</td>\n",
              "      <td>False</td>\n",
              "      <td>polar</td>\n",
              "      <td>worldnews</td>\n",
              "    </tr>\n",
              "    <tr>\n",
              "      <th>2</th>\n",
              "      <td>1201232523</td>\n",
              "      <td>2008-01-25</td>\n",
              "      <td>3</td>\n",
              "      <td>0</td>\n",
              "      <td>US presses Egypt on Gaza border</td>\n",
              "      <td>False</td>\n",
              "      <td>polar</td>\n",
              "      <td>worldnews</td>\n",
              "    </tr>\n",
              "    <tr>\n",
              "      <th>3</th>\n",
              "      <td>1201233290</td>\n",
              "      <td>2008-01-25</td>\n",
              "      <td>1</td>\n",
              "      <td>0</td>\n",
              "      <td>Jump-start economy: Give health care to all</td>\n",
              "      <td>False</td>\n",
              "      <td>fadi420</td>\n",
              "      <td>worldnews</td>\n",
              "    </tr>\n",
              "    <tr>\n",
              "      <th>4</th>\n",
              "      <td>1201274720</td>\n",
              "      <td>2008-01-25</td>\n",
              "      <td>4</td>\n",
              "      <td>0</td>\n",
              "      <td>Council of Europe bashes EU&amp;UN terror blacklist</td>\n",
              "      <td>False</td>\n",
              "      <td>mhermans</td>\n",
              "      <td>worldnews</td>\n",
              "    </tr>\n",
              "  </tbody>\n",
              "</table>\n",
              "</div>"
            ],
            "text/plain": [
              "   time_created date_created  up_votes  ...  over_18    author   category\n",
              "0    1201232046   2008-01-25         3  ...    False     polar  worldnews\n",
              "1    1201232075   2008-01-25         2  ...    False     polar  worldnews\n",
              "2    1201232523   2008-01-25         3  ...    False     polar  worldnews\n",
              "3    1201233290   2008-01-25         1  ...    False   fadi420  worldnews\n",
              "4    1201274720   2008-01-25         4  ...    False  mhermans  worldnews\n",
              "\n",
              "[5 rows x 8 columns]"
            ]
          },
          "metadata": {
            "tags": []
          },
          "execution_count": 3
        }
      ]
    },
    {
      "cell_type": "markdown",
      "metadata": {
        "id": "WxHVUz-80tDv"
      },
      "source": [
        "# Data Analysis"
      ]
    },
    {
      "cell_type": "code",
      "metadata": {
        "colab": {
          "base_uri": "https://localhost:8080/",
          "height": 294
        },
        "id": "Ua8eGWgj0tDv",
        "outputId": "b379f812-2887-446d-cb26-952fbf8ea906"
      },
      "source": [
        "df.describe()"
      ],
      "execution_count": 4,
      "outputs": [
        {
          "output_type": "execute_result",
          "data": {
            "text/html": [
              "<div>\n",
              "<style scoped>\n",
              "    .dataframe tbody tr th:only-of-type {\n",
              "        vertical-align: middle;\n",
              "    }\n",
              "\n",
              "    .dataframe tbody tr th {\n",
              "        vertical-align: top;\n",
              "    }\n",
              "\n",
              "    .dataframe thead th {\n",
              "        text-align: right;\n",
              "    }\n",
              "</style>\n",
              "<table border=\"1\" class=\"dataframe\">\n",
              "  <thead>\n",
              "    <tr style=\"text-align: right;\">\n",
              "      <th></th>\n",
              "      <th>time_created</th>\n",
              "      <th>up_votes</th>\n",
              "      <th>down_votes</th>\n",
              "    </tr>\n",
              "  </thead>\n",
              "  <tbody>\n",
              "    <tr>\n",
              "      <th>count</th>\n",
              "      <td>5.092360e+05</td>\n",
              "      <td>509236.000000</td>\n",
              "      <td>509236.0</td>\n",
              "    </tr>\n",
              "    <tr>\n",
              "      <th>mean</th>\n",
              "      <td>1.380240e+09</td>\n",
              "      <td>112.236283</td>\n",
              "      <td>0.0</td>\n",
              "    </tr>\n",
              "    <tr>\n",
              "      <th>std</th>\n",
              "      <td>7.090436e+07</td>\n",
              "      <td>541.694675</td>\n",
              "      <td>0.0</td>\n",
              "    </tr>\n",
              "    <tr>\n",
              "      <th>min</th>\n",
              "      <td>1.201232e+09</td>\n",
              "      <td>0.000000</td>\n",
              "      <td>0.0</td>\n",
              "    </tr>\n",
              "    <tr>\n",
              "      <th>25%</th>\n",
              "      <td>1.341585e+09</td>\n",
              "      <td>1.000000</td>\n",
              "      <td>0.0</td>\n",
              "    </tr>\n",
              "    <tr>\n",
              "      <th>50%</th>\n",
              "      <td>1.392909e+09</td>\n",
              "      <td>5.000000</td>\n",
              "      <td>0.0</td>\n",
              "    </tr>\n",
              "    <tr>\n",
              "      <th>75%</th>\n",
              "      <td>1.436527e+09</td>\n",
              "      <td>16.000000</td>\n",
              "      <td>0.0</td>\n",
              "    </tr>\n",
              "    <tr>\n",
              "      <th>max</th>\n",
              "      <td>1.479817e+09</td>\n",
              "      <td>21253.000000</td>\n",
              "      <td>0.0</td>\n",
              "    </tr>\n",
              "  </tbody>\n",
              "</table>\n",
              "</div>"
            ],
            "text/plain": [
              "       time_created       up_votes  down_votes\n",
              "count  5.092360e+05  509236.000000    509236.0\n",
              "mean   1.380240e+09     112.236283         0.0\n",
              "std    7.090436e+07     541.694675         0.0\n",
              "min    1.201232e+09       0.000000         0.0\n",
              "25%    1.341585e+09       1.000000         0.0\n",
              "50%    1.392909e+09       5.000000         0.0\n",
              "75%    1.436527e+09      16.000000         0.0\n",
              "max    1.479817e+09   21253.000000         0.0"
            ]
          },
          "metadata": {
            "tags": []
          },
          "execution_count": 4
        }
      ]
    },
    {
      "cell_type": "code",
      "metadata": {
        "colab": {
          "base_uri": "https://localhost:8080/"
        },
        "id": "nu59mCdD0tDw",
        "outputId": "31816a48-9def-409d-aa89-ea5cb86d1185"
      },
      "source": [
        "df.info()"
      ],
      "execution_count": 5,
      "outputs": [
        {
          "output_type": "stream",
          "text": [
            "<class 'pandas.core.frame.DataFrame'>\n",
            "RangeIndex: 509236 entries, 0 to 509235\n",
            "Data columns (total 8 columns):\n",
            " #   Column        Non-Null Count   Dtype \n",
            "---  ------        --------------   ----- \n",
            " 0   time_created  509236 non-null  int64 \n",
            " 1   date_created  509236 non-null  object\n",
            " 2   up_votes      509236 non-null  int64 \n",
            " 3   down_votes    509236 non-null  int64 \n",
            " 4   title         509236 non-null  object\n",
            " 5   over_18       509236 non-null  bool  \n",
            " 6   author        509236 non-null  object\n",
            " 7   category      509236 non-null  object\n",
            "dtypes: bool(1), int64(3), object(4)\n",
            "memory usage: 27.7+ MB\n"
          ],
          "name": "stdout"
        }
      ]
    },
    {
      "cell_type": "code",
      "metadata": {
        "colab": {
          "base_uri": "https://localhost:8080/"
        },
        "id": "DYm5OBuR0tDw",
        "outputId": "d0bef836-4860-4dec-dc93-5203a480ccb3"
      },
      "source": [
        "#Finding some relevant infromation from dataset\n",
        "print(\"Total number of news headlines : \", df.shape[0]) #shape of data\n",
        "print(\"Total number of authors : \", df[\"author\"].nunique()) #unique number of authors\n",
        "print(\"Total number of unqiue categories : \", df[\"category\"].nunique())#unique category of headlines\n",
        "print(\"Total number of unqiue time stamps : \", df[\"date_created\"].nunique())#unique dates\n",
        "print(\"Total number of unqiue downvotes : \", df[\"down_votes\"].nunique())#unique number of downvotes"
      ],
      "execution_count": 6,
      "outputs": [
        {
          "output_type": "stream",
          "text": [
            "Total number of news headlines :  509236\n",
            "Total number of authors :  85838\n",
            "Total number of unqiue categories :  1\n",
            "Total number of unqiue time stamps :  3223\n",
            "Total number of unqiue downvotes :  1\n"
          ],
          "name": "stdout"
        }
      ]
    },
    {
      "cell_type": "markdown",
      "metadata": {
        "id": "bjxLdG6E0tDx"
      },
      "source": [
        "1. We can clearly see that there is only one category for headline and the number of down votes are also same for every row.\n",
        "2. The difference in timestamp is also in seconds, so we can filter it out too.\n"
      ]
    },
    {
      "cell_type": "code",
      "metadata": {
        "colab": {
          "base_uri": "https://localhost:8080/",
          "height": 287
        },
        "id": "g_UCyVl10tDy",
        "outputId": "52148e11-ba09-4258-d569-5df159a22c22"
      },
      "source": [
        "#Plotting the relation between df variables\n",
        "sns.heatmap(df.corr(), annot=True)"
      ],
      "execution_count": 7,
      "outputs": [
        {
          "output_type": "execute_result",
          "data": {
            "text/plain": [
              "<matplotlib.axes._subplots.AxesSubplot at 0x7f17d389a850>"
            ]
          },
          "metadata": {
            "tags": []
          },
          "execution_count": 7
        },
        {
          "output_type": "display_data",
          "data": {
            "image/png": "[encoded data removed]",
            "text/plain": [
              "<Figure size 432x288 with 2 Axes>"
            ]
          },
          "metadata": {
            "tags": [],
            "needs_background": "light"
          }
        }
      ]
    },
    {
      "cell_type": "code",
      "metadata": {
        "id": "K-sEi2kb0tDy"
      },
      "source": [
        "#Considering the dataset which contains only author, up_votes and title\n",
        "df_sub=df.drop(['time_created','date_created','down_votes','over_18','category'],axis=1)"
      ],
      "execution_count": 8,
      "outputs": []
    },
    {
      "cell_type": "markdown",
      "metadata": {
        "id": "6Tov6eNf0tDz"
      },
      "source": [
        "The above filtered dataset will be used to see that what is the relation between number of newsheadline titles and number of \n",
        "up_votes for every author."
      ]
    },
    {
      "cell_type": "code",
      "metadata": {
        "colab": {
          "base_uri": "https://localhost:8080/",
          "height": 202
        },
        "id": "XWvGRNG80tDz",
        "outputId": "8e6753f0-a318-4056-d362-80a8c19d7240"
      },
      "source": [
        "df_sub.head()"
      ],
      "execution_count": 9,
      "outputs": [
        {
          "output_type": "execute_result",
          "data": {
            "text/html": [
              "<div>\n",
              "<style scoped>\n",
              "    .dataframe tbody tr th:only-of-type {\n",
              "        vertical-align: middle;\n",
              "    }\n",
              "\n",
              "    .dataframe tbody tr th {\n",
              "        vertical-align: top;\n",
              "    }\n",
              "\n",
              "    .dataframe thead th {\n",
              "        text-align: right;\n",
              "    }\n",
              "</style>\n",
              "<table border=\"1\" class=\"dataframe\">\n",
              "  <thead>\n",
              "    <tr style=\"text-align: right;\">\n",
              "      <th></th>\n",
              "      <th>up_votes</th>\n",
              "      <th>title</th>\n",
              "      <th>author</th>\n",
              "    </tr>\n",
              "  </thead>\n",
              "  <tbody>\n",
              "    <tr>\n",
              "      <th>0</th>\n",
              "      <td>3</td>\n",
              "      <td>Scores killed in Pakistan clashes</td>\n",
              "      <td>polar</td>\n",
              "    </tr>\n",
              "    <tr>\n",
              "      <th>1</th>\n",
              "      <td>2</td>\n",
              "      <td>Japan resumes refuelling mission</td>\n",
              "      <td>polar</td>\n",
              "    </tr>\n",
              "    <tr>\n",
              "      <th>2</th>\n",
              "      <td>3</td>\n",
              "      <td>US presses Egypt on Gaza border</td>\n",
              "      <td>polar</td>\n",
              "    </tr>\n",
              "    <tr>\n",
              "      <th>3</th>\n",
              "      <td>1</td>\n",
              "      <td>Jump-start economy: Give health care to all</td>\n",
              "      <td>fadi420</td>\n",
              "    </tr>\n",
              "    <tr>\n",
              "      <th>4</th>\n",
              "      <td>4</td>\n",
              "      <td>Council of Europe bashes EU&amp;UN terror blacklist</td>\n",
              "      <td>mhermans</td>\n",
              "    </tr>\n",
              "  </tbody>\n",
              "</table>\n",
              "</div>"
            ],
            "text/plain": [
              "   up_votes                                            title    author\n",
              "0         3                Scores killed in Pakistan clashes     polar\n",
              "1         2                 Japan resumes refuelling mission     polar\n",
              "2         3                  US presses Egypt on Gaza border     polar\n",
              "3         1     Jump-start economy: Give health care to all    fadi420\n",
              "4         4  Council of Europe bashes EU&UN terror blacklist  mhermans"
            ]
          },
          "metadata": {
            "tags": []
          },
          "execution_count": 9
        }
      ]
    },
    {
      "cell_type": "code",
      "metadata": {
        "id": "ocZHwijr0tD0"
      },
      "source": [
        "auth_line={} #dictionary for storing author and their total headline count\n",
        "auth_vote={} #dictionary for storing author and their total upvotes count\n",
        "\n",
        "for i in range(0,509236):\n",
        "  author=str(df['author'][i])\n",
        "  vote_val=int(df['up_votes'][i])\n",
        "  if author not in auth_line.keys():\n",
        "    auth_line.update({author:1})\n",
        "  else:\n",
        "    auth_line[author]+=1\n",
        "  if author not in auth_vote.keys():\n",
        "    auth_vote.update({author:vote_val})\n",
        "  else:\n",
        "    auth_vote[author]=auth_vote[author]+vote_val\n",
        "\n",
        "    "
      ],
      "execution_count": 10,
      "outputs": []
    },
    {
      "cell_type": "code",
      "metadata": {
        "id": "jZgpkJgX5kok"
      },
      "source": [
        "#Making a dataframe from the above dictionaries for checking the relation between author's upvotes count and headline count\n",
        "auth_line_vote=[]\n",
        "auth_line_vote=pd.DataFrame(auth_line_vote)\n",
        "auth_line_vote['author']=auth_vote.keys()\n",
        "auth_line_vote['headline_count']=auth_line.values()\n",
        "auth_line_vote['upvote_count']=auth_vote.values()"
      ],
      "execution_count": 11,
      "outputs": []
    },
    {
      "cell_type": "code",
      "metadata": {
        "colab": {
          "base_uri": "https://localhost:8080/",
          "height": 202
        },
        "id": "xOgAAmIy57BP",
        "outputId": "b90661ae-31fd-45f8-92c5-81adb475406a"
      },
      "source": [
        "auth_line_vote.head()"
      ],
      "execution_count": 12,
      "outputs": [
        {
          "output_type": "execute_result",
          "data": {
            "text/html": [
              "<div>\n",
              "<style scoped>\n",
              "    .dataframe tbody tr th:only-of-type {\n",
              "        vertical-align: middle;\n",
              "    }\n",
              "\n",
              "    .dataframe tbody tr th {\n",
              "        vertical-align: top;\n",
              "    }\n",
              "\n",
              "    .dataframe thead th {\n",
              "        text-align: right;\n",
              "    }\n",
              "</style>\n",
              "<table border=\"1\" class=\"dataframe\">\n",
              "  <thead>\n",
              "    <tr style=\"text-align: right;\">\n",
              "      <th></th>\n",
              "      <th>author</th>\n",
              "      <th>headline_count</th>\n",
              "      <th>upvote_count</th>\n",
              "    </tr>\n",
              "  </thead>\n",
              "  <tbody>\n",
              "    <tr>\n",
              "      <th>0</th>\n",
              "      <td>polar</td>\n",
              "      <td>50</td>\n",
              "      <td>1151</td>\n",
              "    </tr>\n",
              "    <tr>\n",
              "      <th>1</th>\n",
              "      <td>fadi420</td>\n",
              "      <td>2</td>\n",
              "      <td>1</td>\n",
              "    </tr>\n",
              "    <tr>\n",
              "      <th>2</th>\n",
              "      <td>mhermans</td>\n",
              "      <td>1</td>\n",
              "      <td>4</td>\n",
              "    </tr>\n",
              "    <tr>\n",
              "      <th>3</th>\n",
              "      <td>Armagedonovich</td>\n",
              "      <td>2</td>\n",
              "      <td>18</td>\n",
              "    </tr>\n",
              "    <tr>\n",
              "      <th>4</th>\n",
              "      <td>Clythos</td>\n",
              "      <td>6</td>\n",
              "      <td>28</td>\n",
              "    </tr>\n",
              "  </tbody>\n",
              "</table>\n",
              "</div>"
            ],
            "text/plain": [
              "           author  headline_count  upvote_count\n",
              "0           polar              50          1151\n",
              "1         fadi420               2             1\n",
              "2        mhermans               1             4\n",
              "3  Armagedonovich               2            18\n",
              "4         Clythos               6            28"
            ]
          },
          "metadata": {
            "tags": []
          },
          "execution_count": 12
        }
      ]
    },
    {
      "cell_type": "code",
      "metadata": {
        "colab": {
          "base_uri": "https://localhost:8080/",
          "height": 415
        },
        "id": "zsBV0e1S6BtM",
        "outputId": "488a88c1-a2cd-4a13-afac-d13379d61119"
      },
      "source": [
        "#Sorting on the basis of upvotes\n",
        "upvote_sort=auth_line_vote.sort_values(by=['upvote_count'])\n",
        "upvote_sort"
      ],
      "execution_count": 13,
      "outputs": [
        {
          "output_type": "execute_result",
          "data": {
            "text/html": [
              "<div>\n",
              "<style scoped>\n",
              "    .dataframe tbody tr th:only-of-type {\n",
              "        vertical-align: middle;\n",
              "    }\n",
              "\n",
              "    .dataframe tbody tr th {\n",
              "        vertical-align: top;\n",
              "    }\n",
              "\n",
              "    .dataframe thead th {\n",
              "        text-align: right;\n",
              "    }\n",
              "</style>\n",
              "<table border=\"1\" class=\"dataframe\">\n",
              "  <thead>\n",
              "    <tr style=\"text-align: right;\">\n",
              "      <th></th>\n",
              "      <th>author</th>\n",
              "      <th>headline_count</th>\n",
              "      <th>upvote_count</th>\n",
              "    </tr>\n",
              "  </thead>\n",
              "  <tbody>\n",
              "    <tr>\n",
              "      <th>42918</th>\n",
              "      <td>donatebaba</td>\n",
              "      <td>1</td>\n",
              "      <td>0</td>\n",
              "    </tr>\n",
              "    <tr>\n",
              "      <th>43562</th>\n",
              "      <td>robasolo</td>\n",
              "      <td>1</td>\n",
              "      <td>0</td>\n",
              "    </tr>\n",
              "    <tr>\n",
              "      <th>43560</th>\n",
              "      <td>SkyFall0007</td>\n",
              "      <td>1</td>\n",
              "      <td>0</td>\n",
              "    </tr>\n",
              "    <tr>\n",
              "      <th>43557</th>\n",
              "      <td>FakeAudio</td>\n",
              "      <td>1</td>\n",
              "      <td>0</td>\n",
              "    </tr>\n",
              "    <tr>\n",
              "      <th>43552</th>\n",
              "      <td>mandyivy</td>\n",
              "      <td>1</td>\n",
              "      <td>0</td>\n",
              "    </tr>\n",
              "    <tr>\n",
              "      <th>...</th>\n",
              "      <td>...</td>\n",
              "      <td>...</td>\n",
              "      <td>...</td>\n",
              "    </tr>\n",
              "    <tr>\n",
              "      <th>53629</th>\n",
              "      <td>Wagamaga</td>\n",
              "      <td>1490</td>\n",
              "      <td>580121</td>\n",
              "    </tr>\n",
              "    <tr>\n",
              "      <th>17630</th>\n",
              "      <td>DoremusJessup</td>\n",
              "      <td>5037</td>\n",
              "      <td>584380</td>\n",
              "    </tr>\n",
              "    <tr>\n",
              "      <th>24853</th>\n",
              "      <td>Libertatea</td>\n",
              "      <td>2108</td>\n",
              "      <td>832102</td>\n",
              "    </tr>\n",
              "    <tr>\n",
              "      <th>7925</th>\n",
              "      <td>anutensil</td>\n",
              "      <td>5730</td>\n",
              "      <td>1531544</td>\n",
              "    </tr>\n",
              "    <tr>\n",
              "      <th>295</th>\n",
              "      <td>maxwellhill</td>\n",
              "      <td>4023</td>\n",
              "      <td>1985416</td>\n",
              "    </tr>\n",
              "  </tbody>\n",
              "</table>\n",
              "<p>85838 rows × 3 columns</p>\n",
              "</div>"
            ],
            "text/plain": [
              "              author  headline_count  upvote_count\n",
              "42918     donatebaba               1             0\n",
              "43562       robasolo               1             0\n",
              "43560    SkyFall0007               1             0\n",
              "43557      FakeAudio               1             0\n",
              "43552       mandyivy               1             0\n",
              "...              ...             ...           ...\n",
              "53629       Wagamaga            1490        580121\n",
              "17630  DoremusJessup            5037        584380\n",
              "24853     Libertatea            2108        832102\n",
              "7925       anutensil            5730       1531544\n",
              "295      maxwellhill            4023       1985416\n",
              "\n",
              "[85838 rows x 3 columns]"
            ]
          },
          "metadata": {
            "tags": []
          },
          "execution_count": 13
        }
      ]
    },
    {
      "cell_type": "code",
      "metadata": {
        "colab": {
          "base_uri": "https://localhost:8080/",
          "height": 415
        },
        "id": "MABzTdAk6BdU",
        "outputId": "b37a9024-33e5-41e0-aed4-dcb0d16b1879"
      },
      "source": [
        "#Sorting on the basis of headlines\n",
        "headline_sort=auth_line_vote.sort_values(by=['headline_count'])\n",
        "headline_sort"
      ],
      "execution_count": 14,
      "outputs": [
        {
          "output_type": "execute_result",
          "data": {
            "text/html": [
              "<div>\n",
              "<style scoped>\n",
              "    .dataframe tbody tr th:only-of-type {\n",
              "        vertical-align: middle;\n",
              "    }\n",
              "\n",
              "    .dataframe tbody tr th {\n",
              "        vertical-align: top;\n",
              "    }\n",
              "\n",
              "    .dataframe thead th {\n",
              "        text-align: right;\n",
              "    }\n",
              "</style>\n",
              "<table border=\"1\" class=\"dataframe\">\n",
              "  <thead>\n",
              "    <tr style=\"text-align: right;\">\n",
              "      <th></th>\n",
              "      <th>author</th>\n",
              "      <th>headline_count</th>\n",
              "      <th>upvote_count</th>\n",
              "    </tr>\n",
              "  </thead>\n",
              "  <tbody>\n",
              "    <tr>\n",
              "      <th>42918</th>\n",
              "      <td>donatebaba</td>\n",
              "      <td>1</td>\n",
              "      <td>0</td>\n",
              "    </tr>\n",
              "    <tr>\n",
              "      <th>50494</th>\n",
              "      <td>sydneyreynolds</td>\n",
              "      <td>1</td>\n",
              "      <td>614</td>\n",
              "    </tr>\n",
              "    <tr>\n",
              "      <th>50495</th>\n",
              "      <td>uchet</td>\n",
              "      <td>1</td>\n",
              "      <td>0</td>\n",
              "    </tr>\n",
              "    <tr>\n",
              "      <th>50496</th>\n",
              "      <td>msilver5</td>\n",
              "      <td>1</td>\n",
              "      <td>2</td>\n",
              "    </tr>\n",
              "    <tr>\n",
              "      <th>50497</th>\n",
              "      <td>Dhimmicrat</td>\n",
              "      <td>1</td>\n",
              "      <td>5</td>\n",
              "    </tr>\n",
              "    <tr>\n",
              "      <th>...</th>\n",
              "      <td>...</td>\n",
              "      <td>...</td>\n",
              "      <td>...</td>\n",
              "    </tr>\n",
              "    <tr>\n",
              "      <th>107</th>\n",
              "      <td>igeldard</td>\n",
              "      <td>4013</td>\n",
              "      <td>51461</td>\n",
              "    </tr>\n",
              "    <tr>\n",
              "      <th>295</th>\n",
              "      <td>maxwellhill</td>\n",
              "      <td>4023</td>\n",
              "      <td>1985416</td>\n",
              "    </tr>\n",
              "    <tr>\n",
              "      <th>17630</th>\n",
              "      <td>DoremusJessup</td>\n",
              "      <td>5037</td>\n",
              "      <td>584380</td>\n",
              "    </tr>\n",
              "    <tr>\n",
              "      <th>7925</th>\n",
              "      <td>anutensil</td>\n",
              "      <td>5730</td>\n",
              "      <td>1531544</td>\n",
              "    </tr>\n",
              "    <tr>\n",
              "      <th>1325</th>\n",
              "      <td>davidreiss666</td>\n",
              "      <td>8897</td>\n",
              "      <td>338306</td>\n",
              "    </tr>\n",
              "  </tbody>\n",
              "</table>\n",
              "<p>85838 rows × 3 columns</p>\n",
              "</div>"
            ],
            "text/plain": [
              "               author  headline_count  upvote_count\n",
              "42918      donatebaba               1             0\n",
              "50494  sydneyreynolds               1           614\n",
              "50495           uchet               1             0\n",
              "50496        msilver5               1             2\n",
              "50497      Dhimmicrat               1             5\n",
              "...               ...             ...           ...\n",
              "107          igeldard            4013         51461\n",
              "295       maxwellhill            4023       1985416\n",
              "17630   DoremusJessup            5037        584380\n",
              "7925        anutensil            5730       1531544\n",
              "1325    davidreiss666            8897        338306\n",
              "\n",
              "[85838 rows x 3 columns]"
            ]
          },
          "metadata": {
            "tags": []
          },
          "execution_count": 14
        }
      ]
    },
    {
      "cell_type": "code",
      "metadata": {
        "colab": {
          "base_uri": "https://localhost:8080/",
          "height": 287
        },
        "id": "j8XQA--R6Q2k",
        "outputId": "545d3c74-af60-434e-f0c2-b6e18b3b74ab"
      },
      "source": [
        "#Checking the correlation graph between above two\n",
        "sns.heatmap(headline_sort.corr(),annot=True)"
      ],
      "execution_count": 15,
      "outputs": [
        {
          "output_type": "execute_result",
          "data": {
            "text/plain": [
              "<matplotlib.axes._subplots.AxesSubplot at 0x7f17caaadcd0>"
            ]
          },
          "metadata": {
            "tags": []
          },
          "execution_count": 15
        },
        {
          "output_type": "display_data",
          "data": {
            "image/png": "[encoded data removed]",
            "text/plain": [
              "<Figure size 432x288 with 2 Axes>"
            ]
          },
          "metadata": {
            "tags": [],
            "needs_background": "light"
          }
        }
      ]
    },
    {
      "cell_type": "markdown",
      "metadata": {
        "id": "VCKEopbn6bBK"
      },
      "source": [
        "From the above correlation graph, we can observe that the more the number of headlines, the more are the upvotes."
      ]
    },
    {
      "cell_type": "code",
      "metadata": {
        "id": "xV2SG4UI0tD1"
      },
      "source": [
        "#Considering a small subset of the dataset\n",
        "df_new=df.loc[0:5000,['up_votes','author']]"
      ],
      "execution_count": 16,
      "outputs": []
    },
    {
      "cell_type": "code",
      "metadata": {
        "colab": {
          "base_uri": "https://localhost:8080/",
          "height": 717
        },
        "id": "8h3NWOmB0tD2",
        "outputId": "ceb67215-b2a6-42a9-8077-ca2d2718f28f"
      },
      "source": [
        "#Plotting the graph between author and the number of upvotes an author has got\n",
        "fig = go.Figure([go.Bar(x=df_new[\"author\"].value_counts().index, y=df_new[\"up_votes\"])])\n",
        "fig['layout'].update(title={\"text\" : 'Distribution of authors on the basis of up votes','y':0.9,'x':0.5,'xanchor': 'center','yanchor': 'top'}, xaxis_title=\"name of author\",yaxis_title=\"Number of upvotes\")\n",
        "fig.update_layout(width=800,height=700)\n",
        "fig"
      ],
      "execution_count": 17,
      "outputs": [
        {
          "output_type": "display_data",
          "data": {
            "text/html": [
              "<html>\n",
              "<head><meta charset=\"utf-8\" /></head>\n",
              "<body>\n",
              "    <div>\n",
              "            <script src=\"https://cdnjs.cloudflare.com/ajax/libs/mathjax/2.7.5/MathJax.js?config=TeX-AMS-MML_SVG\"></script><script type=\"text/javascript\">if (window.MathJax) {MathJax.Hub.Config({SVG: {font: \"STIX-Web\"}});}</script>\n",
              "                <script type=\"text/javascript\">window.PlotlyConfig = {MathJaxConfig: 'local'};</script>\n",
              "        <script src=\"https://cdn.plot.ly/plotly-latest.min.js\"></script>    \n",
              "            <div id=\"b2bc8a37-5082-4b23-89c2-c4ff8a776429\" class=\"plotly-graph-div\" style=\"height:700px; width:800px;\"></div>\n",
              "            <script type=\"text/javascript\">\n",
              "                \n",
              "                    window.PLOTLYENV=window.PLOTLYENV || {};\n",
              "                    \n",
              "                if (document.getElementById(\"b2bc8a37-5082-4b23-89c2-c4ff8a776429\")) {\n",
              "                    Plotly.newPlot(\n",
              "                        'b2bc8a37-5082-4b23-89c2-c4ff8a776429',\n",
              "                        [{\"type\": \"bar\", \"x\": [\"igeldard\", \"twolf1\", \"BravoLima\", \"jips\", \"yorosa\", \"Moldavite\", \"EllieElliott\", \"muzity\", \"gregwont\", \"jmchez\", \"greenascanbe\", \"vadimm\", \"dougmataconis\", \"r3dd173r\", \"PaperLess\", \"maxwellhill\", \"J-Ro\", \"PTPolitics\", \"udontneedaweatherman\", \"silence_hr\", \"qgyh2\", \"bornarchitect\", \"joelrw\", \"georgewashingtonblog\", \"nebm\", \"stesch\", \"JoeyRamone63\", \"xrenditionx\", \"Jantar\", \"delelles\", \"dizzle67\", \"PintOfGuinness\", \"dave_L\", \"anonymgrl\", \"nickstreet36\", \"vanibahl\", \"BeTheChange\", \"kuato\", \"ramblasos\", \"nelsonjs\", \"GirlGeorge\", \"leopoldo\", \"JessicaLaurie\", \"petercasier\", \"andybigs\", \"linkedlist\", \"emoticon\", \"samblesj\", \"primbet\", \"democracy101\", \"newton_dave\", \"megablahblah\", \"BuboTitan\", \"goghi\", \"JewishPropaganda\", \"jaybol\", \"mlawless1138\", \"bgholt1970\", \"realneil\", \"shenglong\", \"thatch\", \"InksLWC\", \"BookWormPride\", \"markansoul\", \"azron\", \"L2182\", \"Escafane\", \"swampsparrow\", \"dailyn\", \"sid13\", \"rmuser\", \"revoman\", \"rjonesx\", \"hotwingbias\", \"wang-banger\", \"brutus1964\", \"cavedave\", \"pianist\", \"digitalfever\", \"Imagineti\", \"thefifthseal\", \"ukcz\", \"sonicreducer333\", \"nonamegirl\", \"moriquendo\", \"docaps\", \"chall85\", \"seeya\", \"matthewmoore2\", \"ramises\", \"adrian67\", \"Roark\", \"JonValjon\", \"Radoman\", \"floydiannyc\", \"motang\", \"mactep86\", \"blinkin\", \"ropers\", \"vmas\", \"polar\", \"jingle2020\", \"Aerik\", \"bethy08\", \"HaxSir\", \"Winoria\", \"luvtosurf\", \"MikaelMN\", \"pechinburger\", \"politicallore\", \"darkchild82\", \"skypedia\", \"windeva\", \"makingspace\", \"smacfarl\", \"PeterO111\", \"WaterDragon\", \"HeliumFlash\", \"Manutd77\", \"claybodie\", \"ogleme\", \"buzaw0nk\", \"achilles\", \"voilavoila\", \"sa7ouri\", \"quentinnuk\", \"fairtrialforw\", \"Slipgrid\", \"nakejnick\", \"BigFeets\", \"D-Style\", \"garyp714\", \"redditnews\", \"andy4443\", \"0boy\", \"intangible-tangerine\", \"SVOboy\", \"ninzee\", \"DougBolivar\", \"Islay12ut\", \"lemonescomy\", \"digital\", \"wahabuddin\", \"futurist08\", \"uwjames\", \"gavinhudson1\", \"worldpeacenow\", \"jailbeta\", \"mwilkerson\", \"ramses84\", \"castanova\", \"Joneth\", \"alllie\", \"cptnlazer\", \"ratebeer\", \"kevin143\", \"andrewd\", \"psogle\", \"sandyenglish\", \"roccobuttonlucky\", \"DisConform\", \"WhoKilledTeddyBear\", \"santo71\", \"nbsp\", \"Neticule\", \"mickyarba\", \"nicereddit\", \"kostenium\", \"charliepage\", \"lovebandit\", \"cybrspin\", \"fitqueenb\", \"100thm0nkey\", \"Formosus\", \"yuk2k\", \"buddhazen\", \"arvindkatoch1\", \"CG10277\", \"kspec1212\", \"DarthTater\", \"hafling\", \"burtonmkz\", \"geekmom2\", \"johnmudd\", \"mundofolk\", \"Venera07\", \"JonDonnis\", \"Saydrah\", \"gIowingsheep\", \"wgsl\", \"ScrewDriver\", \"qtoo\", \"spike\", \"Brecca\", \"sense\", \"princessa\", \"themusicgod1\", \"AndyDjor\", \"Schnooz\", \"08ronpaul08\", \"nomdeweb\", \"TMM\", \"Th3_C0bra\", \"pratn\", \"ubikwitous\", \"kwh\", \"rpi22\", \"daylily\", \"theeeggman\", \"docomo\", \"doody\", \"sneakyfrenchspy\", \"Mortikhi\", \"key95\", \"elvenrunelord\", \"windynights\", \"vanzan\", \"chemicalmarriage\", \"j1337\", \"noname99\", \"NMom\", \"fabbigabby\", \"alexkehr\", \"Zebby\", \"johnneat\", \"flynth99\", \"Sibiryak\", \"rossta\", \"ethanz5\", \"DonAlpha\", \"wonderyort\", \"abroadvolunteer\", \"keit_shifter\", \"gaucho1976\", \"itaye\", \"eraserh\", \"Clythos\", \"ahmedbilal\", \"carsonbiz\", \"Hedgehog2006\", \"ssjjss\", \"cheetahtech\", \"p1234\", \"downdiagonal\", \"pizzatime\", \"tbhurst\", \"XS4Me\", \"MrUniverse\", \"belair\", \"Noink\", \"TechnologyBB\", \"theredkap\", \"spoook\", \"idonotlikereddit\", \"Dark-Star\", \"herminator\", \"Schwallex\", \"ubernoggin\", \"Lodoss\", \"charlesgrrr\", \"hoss-style\", \"ecochildsplay\", \"ThisIsMyProfile\", \"nmcyall\", \"ananyadm\", \"cawel\", \"mathgeek\", \"reflibman\", \"krypteia\", \"aussie_bob\", \"rainfosys\", \"Luntic\", \"discobreakin\", \"NWO911\", \"shiz3\", \"bigboomer223\", \"cogitofire\", \"neilplatform1\", \"n3when\", \"Bhanususarla\", \"mycall\", \"Karmaa\", \"kingsqueen\", \"thedcshuffle\", \"m4rc\", \"drakkar4\", \"diogames\", \"tmiltznc\", \"habbadash\", \"kewlboontjies\", \"lordjebus\", \"evilada\", \"MrJolly\", \"daviday\", \"aerojad\", \"saconnel\", \"brianbern\", \"markmuetz\", \"Masihaa\", \"MarquisdeBad\", \"adamvarga\", \"echiro34\", \"b34nz\", \"Horward\", \"DrGizmondo\", \"otrov77\", \"godtvisken\", \"networks\", \"mak12\", \"jburkert\", \"ruslialias\", \"Aidenag\", \"fadi420\", \"9brandon\", \"travisxt97\", \"Armagedonovich\", \"jonxblaze\", \"kr90df\", \"bSimmons666\", \"contraco\", \"FireWorm\", \"bswen\", \"cLFlaVA\", \"ebobnar\", \"stonecold\", \"briceone\", \"ayn_rand_worshipper\", \"srmjjg\", \"matthew26\", \"jetfar\", \"Midwest_Product\", \"blufr0g\", \"hotlemon\", \"salvia_d\", \"inquirer\", \"Democrat08\", \"munky_g\", \"OK_Eric\", \"gozmeranian\", \"Sharkyx\", \"Spiracle\", \"netbuzz\", \"blinkgeo\", \"mikealao\", \"fdisc0\", \"WasForClinton\", \"Sivart\", \"mutatron\", \"epdx\", \"77lab\", \"gamersdad\", \"organicbm\", \"felixker\", \"burdalane\", \"pdcsupporter\", \"garnoma\", \"laconicfunk\", \"RadiantBlueLight\", \"twinklestar\", \"krumbs\", \"akbarzeer\", \"Dark1Knight\", \"gerfboy\", \"maggiemae73\", \"zecg\", \"jansuza\", \"sux\", \"godlesspinko\", \"lastchance\", \"mathoms\", \"ColonelFuckface\", \"thephilwhite\", \"Saiing\", \"KrisjohnTwin\", \"lordmelkor\", \"robotfuel\", \"thatbobguy07\", \"nextthing\", \"crmaki\", \"missye\", \"cedd82\", \"weirdallica\", \"mareacaspica\", \"topherdavis\", \"squeaker\", \"ameelabee\", \"Tali99\", \"thecentaur\", \"eks\", \"dry_green_tea\", \"Blakovitch\", \"hagrid\", \"Reporter\", \"johnd24\", \"chrysb\", \"paxa7\", \"fearcomplication\", \"redditking\", \"JimJones\", \"aerkalov\", \"arlanTLDR\", \"captainhaddock\", \"crawfishsoul\", \"ebraun\", \"tevi\", \"harryb6\", \"escorn\", \"smilli02\", \"old_gill\", \"gda\", \"worldputra\", \"nrx22\", \"justinpgardner\", \"partyonaisle7\", \"nccwarp9\", \"fromagewiz\", \"assortednut\", \"Looniee\", \"atlantic\", \"receitando\", \"semanticprecision\", \"grahamlester\", \"transparent\", \"NurseGirl\", \"jasonkester\", \"ritubpant\", \"dungar\", \"fasfasfec\", \"getty\", \"daledinkler\", \"NightcrawlerX\", \"AJSMP\", \"huangweiqiu\", \"bkarfunk\", \"almega\", \"cosuke\", \"sickoo\", \"KatrineSegane\", \"ackza\", \"ian875643\", \"alofi\", \"menstrualpoetry\", \"BlueRubberDuck\", \"speciousfool\", \"Zoomazooma\", \"Reddit-Fan\", \"trvr\", \"reddmaher\", \"braveheartno1\", \"zacha\", \"jimgagnon\", \"ketralnis\", \"acurlin\", \"parcivale\", \"praveenpious\", \"RgbyTgr24\", \"boxofrain\", \"katanasun\", \"boodaa\", \"rancmeat\", \"justice4all\", \"ObamaamaMMuslim\", \"holyboot\", \"flipflip55\", \"blorg\", \"mejaredme\", \"kraftmatic\", \"TonyBLiar\", \"Daniel2470\", \"PGRfilms\", \"socks\", \"naska\", \"joelax02\", \"chrisgon\", \"whiteboy\", \"oliver_daniel\", \"Greengages\", \"rimwalker\", \"mitzishorrr\", \"djt_\", \"will_itblend\", \"yqhardiel\", \"cpruitt\", \"HowlingWolf\", \"crawf061\", \"africaninformer\", \"zaradox\", \"AndrewKemendo\", \"bobhiggins\", \"wenwon\", \"sitemarker\", \"remcobron\", \"unlimited\", \"vademecum\", \"arikb\", \"OrangePlus\", \"bishney\", \"dt_vibe\", \"boozle\", \"lateefx\", \"vlcod\", \"ani625\", \"callew\", \"nfkiller\", \"gluino\", \"Maxcactus\", \"mhermans\", \"Randinn\", \"kmonk\", \"Brantin\", \"ssassi7\", \"sshakshir\", \"Tchakra\", \"HunkOfLove\", \"lockbock\", \"cfrnews\", \"Fedquip\", \"henry518\", \"smitisme\", \"LAWeekly\", \"jtsteeler\", \"popcult\", \"Justanothercoverup\", \"humanfaith\", \"atomicpuffball\", \"moderns2007\", \"quickpost\", \"Govech\", \"dubpl8z\", \"sh0rty\", \"mad_scientist\", \"Doane\", \"PigglyWiggly\", \"bioskope\", \"norrsson\", \"crashkg\", \"jeffffrey\", \"ibnsuleiman\", \"zaru_soba\", \"unlrn\", \"sleazyb\", \"olddoc\", \"jhl\", \"MrXfromPlanetX\", \"BaldGuy\", \"curson\", \"PsychoGod\", \"prendewb\", \"jml94\", \"amph\", \"tommydigger\", \"cachrnthry79\", \"brokenearth02\", \"terato\", \"holysocks\", \"leokennis\", \"robpwalker\", \"oxen88\", \"tozarslan\", \"Azaroth\", \"Jade456\", \"Laurentvw\", \"SLAUTCAANS\", \"NewDemocrat\", \"Altoid_Addict\", \"xenox\", \"Definite_Article\", \"GOjeff\", \"noface\", \"unkorrupted\", \"mfloydc\", \"cheska21\", \"acwegner\", \"shivermetimberslads\", \"itrends\", \"vapblack\", \"myobdumb\", \"antmandan\", \"bananatalk\", \"all4one\", \"sweetdeals\", \"kewlduderules\", \"Kutchi\", \"drslammy\", \"ghaitched\", \"Facepuncher\", \"acheybreakyheart\", \"binnorie\", \"dcronin90\", \"pref\", \"akwala\", \"ihavenomp\", \"radsujanto\", \"DeadRooster\", \"RedBlue\", \"KimK1998\", \"daev\", \"ianmfried\", \"EvelynPringle\", \"CaptainJesusHood\", \"snottyknows\", \"scoreboard\", \"maaz\", \"topcat31\", \"pdonni\", \"pressed\", \"kukon\", \"Hateraide\", \"HarleyJane\", \"cliks\", \"joni1996\", \"ishseminal\", \"corpmailster\", \"sunkid\", \"MostUsually\", \"dillikibilli\", \"TrySee\", \"redditsuxx\", \"Sidewinder77\", \"allnewupdate\", \"chu\", \"stubble\", \"steppenwolf86\", \"pondy\", \"azuriel\", \"MikeonTV\", \"joonix\", \"Gorty\", \"romulcah\", \"Dracoy\", \"brainblogger\", \"stevob2007\", \"safetyisoverrated\", \"lzm\", \"harvester\", \"loununez\", \"blablablablabla78\", \"barbear3\", \"NoSalt\", \"domer\", \"daveinacave\", \"roerd\", \"dunocom\", \"Bujanx\", \"kuking\", \"maxross\", \"smart_ass\", \"hopeseekr\", \"kalayne8\", \"bcuban\", \"jstefano\", \"huginn\", \"keyshark\", \"polexa\", \"elquesogrande\", \"sriramgopalan\", \"what3v3r\", \"cinta5\", \"pistoriusp\", \"henui\", \"FiestaJunction\", \"Oak\", \"followup\", \"sweatervest\", \"ikez78\", \"samuk1000\", \"pariahjane\", \"aenea\", \"ch1xx0r\", \"JCE\", \"velogiares\", \"taniaderveaux\", \"oddietaco\", \"ezkl\", \"Green84\", \"NotSoHotPink\", \"cboyack\", \"coldbrook\", \"jlcd\", \"spiderliliez\", \"pepsicola\", \"MarinaRU\", \"unikah\", \"Pub1ius\", \"gatsby137\", \"TripMaster_Monkey\", \"sandossu\", \"kekko\", \"SikWithIt\", \"iepurilah\", \"biv\", \"allrum\", \"oddmanout\", \"kkrev\", \"Yout\", \"Pem\", \"Tralobyte\", \"Fountainhead\", \"m4design\", \"ntz\", \"coreyshum\", \"jazzilliognito\", \"rainman_104\", \"pb1x\", \"maxburke\", \"trot-trot\", \"rmgraci\", \"the_architect\", \"mattevans\", \"yoyoo\", \"LazarusRisen\", \"sassanix\", \"silversnowe\", \"NinjaSlippers\", \"matholio\", \"billjohns2\", \"ObamaGuy\", \"whatwedo\", \"ThyLabyrinth\", \"quitNow\", \"yeahjim\", \"macseminal\", \"drusam\", \"yhou812\", \"yesu\", \"rajajang\", \"Rsardinia\", \"unsigned\", \"TheAutophobe\", \"kellykhoo2008\", \"ripsta\", \"RightBleeding\", \"Rocket99\", \"ubuntuguy\", \"Wayside\", \"goplenz\", \"silverlight\", \"eyespypro\", \"360news\", \"Perel\", \"medspapa\", \"Jees\", \"danielrm26\", \"mtndewqueen88\", \"shifter\", \"weblaunches\", \"KipBond\", \"iiB\", \"periclesmage\", \"kimberly28\", \"tusharm\", \"HolyJuan\", \"IceX\", \"moneyprinter\", \"townblight\", \"whi73rav3n\", \"andr3y\", \"cartmanxxl\", \"bleachedanus\", \"Devz0r\", \"redtophank\", \"teentweensblog\", \"harryw\", \"NotPhil\", \"AllForChange\", \"pdc\", \"jstills\", \"dri3s\", \"chris789\", \"gobabble\", \"1esproc\", \"ivanadouche\", \"stonelobster\", \"fartron\", \"scenicview\", \"bucshtalk\", \"baboose\", \"AtlasEditorials\", \"yahaya\", \"giodude\", \"msdesireeg\", \"whoadave\", \"jonez450\", \"sw17ch\", \"WhiteAdmiral\", \"fedira\", \"jupaneanu\", \"wibblesnark\", \"godhammre\", \"jacobmiller\", \"yoshevhoshev\", \"Kardlonoc\", \"tcd004\", \"OldakQuill\", \"Sinudeity\", \"pruthiraj\", \"grassyknolluk\", \"squidboots\", \"blasthead\", \"Atheinostic\", \"Nhoj\", \"lhjmq\", \"marc-kd\", \"stephenv\", \"thrrd\", \"maytaloosh\", \"lazycat\", \"Goeran\", \"fvincentis\", \"Grapes\", \"rancid_squirts\", \"Myshka\", \"Sanwali\", \"hturt\", \"JustDroppingBy\"], \"y\": [3, 2, 3, 1, 4, 15, 5, 0, 4, 3, 4, 9, 1, 1, 2, 3, 7, 3, 0, 4, 4, 2, 0, 1, 1, 3, 0, 6, 1, 1, 4, 4, 0, 0, 2, 1, 5, 1, 3, 1, 1, 1, 2, 5, 0, 4, 0, 0, 5, 7, 1, 10, 3, 12, 2, 3, 0, 2, 0, 5, 1, 3, 0, 1, 0, 62, 3, 3, 2, 1, 4, 20, 4, 12, 1, 3, 14, 4, 0, 0, 1, 2, 2, 3, 8, 10, 1, 1, 1, 2, 0, 0, 2, 1, 0, 3, 0, 0, 5, 0, 4, 4, 3, 1, 3, 4, 2, 3, 0, 0, 0, 0, 2, 2, 13, 7, 6, 2, 1, 8, 1, 7, 1, 0, 4, 52, 2, 4, 16, 0, 0, 0, 0, 1, 12, 5, 10, 0, 8, 0, 27, 3, 3, 3, 117, 2, 3, 9, 2, 3, 17, 13, 11, 27, 2, 1, 2, 7, 11, 15, 0, 3, 4, 4, 5, 5, 1, 0, 12, 1, 0, 0, 0, 0, 0, 10, 0, 6, 1, 0, 0, 5, 4, 2, 0, 1, 1, 4, 4, 0, 1, 0, 2, 2, 1, 0, 0, 0, 2, 0, 4, 7, 0, 7, 0, 1, 3, 6, 9, 0, 6, 6, 1, 19, 13, 0, 3, 2, 0, 0, 3, 7, 0, 2, 0, 14, 0, 0, 2, 0, 43, 2, 21, 0, 2, 1, 4, 3, 1, 0, 1, 13, 0, 0, 0, 0, 1, 1, 6, 3, 1, 2, 2, 1, 0, 5, 1, 4, 0, 1, 1, 0, 70, 3, 2, 1, 11, 0, 2, 0, 3, 19, 1, 0, 8, 5, 11, 1, 0, 1, 0, 0, 8, 2, 59, 3, 1, 5, 19, 6, 2, 2, 2, 1, 1, 0, 2, 6, 2, 0, 6, 0, 1, 5, 2, 2, 8, 1, 0, 5, 1, 0, 0, 2, 8, 2, 4, 1, 8, 2, 4, 0, 1, 2, 9, 3, 4, 0, 3, 3, 13, 6, 7, 0, 0, 3, 3, 9, 8, 4, 0, 0, 5, 6, 2, 13, 1, 4, 3, 28, 2, 1, 0, 4, 8, 1, 0, 2, 1, 3, 1, 2, 55, 1, 2, 2, 2, 3, 3, 0, 0, 3, 2, 2, 9, 0, 0, 2, 1, 1, 1, 2, 2, 7, 3, 2, 0, 196, 0, 2, 7, 2, 113, 0, 1, 5, 3, 0, 2, 5, 2, 3, 6, 5, 5, 3, 7, 14, 7, 2, 2, 2, 4, 30, 5, 2, 22, 15, 0, 0, 0, 0, 0, 14, 5, 0, 9, 8, 0, 0, 4, 0, 39, 5, 1, 17, 4, 0, 0, 0, 5, 3, 0, 1, 0, 1, 5, 0, 0, 2, 2, 5, 1, 0, 3, 1, 1, 0, 0, 1, 2, 1, 0, 2, 0, 0, 1, 7, 1, 1, 2, 0, 2, 1, 0, 9, 7, 2, 5, 5, 0, 4, 2, 1, 0, 3, 24, 2, 6, 4, 0, 21, 0, 10, 2, 25, 1, 2, 24, 0, 2, 4, 0, 38, 4, 2, 0, 8, 3, 4, 2, 2, 2, 5, 3, 0, 2, 2, 3, 0, 3, 3, 4, 6, 2, 3, 3, 2, 5, 2, 0, 7, 0, 2, 0, 0, 2, 5, 2, 2, 0, 3, 0, 10, 1, 0, 0, 1, 1, 6, 4, 1, 2, 0, 0, 0, 0, 0, 0, 9, 9, 0, 4, 2, 0, 1, 0, 0, 5, 0, 1, 7, 8, 10, 4, 2, 3, 0, 28, 0, 1, 3, 0, 4, 0, 1, 3, 5, 1, 7, 0, 6, 8, 0, 0, 2, 0, 0, 19, 9, 16, 1, 11, 8, 8, 11, 12, 0, 4, 0, 0, 3, 2, 2, 5, 3, 0, 1, 2, 1, 3, 0, 4, 91, 5, 1, 2, 1, 0, 0, 0, 2, 0, 2, 5, 5, 0, 0, 5, 0, 0, 3, 0, 4, 3, 0, 0, 1, 3, 7, 3, 1, 112, 0, 1, 2, 4, 2, 1, 1, 8, 1, 95, 0, 0, 3, 38, 0, 1, 0, 5, 0, 4, 3, 0, 0, 2, 2, 2, 0, 1, 1, 1, 1, 0, 0, 0, 0, 19, 0, 5, 0, 0, 0, 3, 2, 0, 0, 0, 5, 3, 1, 2, 0, 0, 0, 0, 3, 0, 0, 12, 6, 22, 0, 1, 1, 1, 2, 0, 1, 1, 9, 1, 0, 1, 0, 3, 0, 1, 0, 0, 0, 0, 0, 0, 0, 0, 1, 10, 1, 4, 0, 2, 0, 0, 0, 2, 5, 7, 2, 1, 5, 0, 0, 1, 8, 5, 0, 8, 0, 0, 3, 3, 0, 0, 1, 4, 9, 0, 136, 0, 1, 2, 0, 3, 3, 0, 0, 0, 1, 1, 3, 1, 48, 0, 3, 1, 0, 1, 6, 0, 2, 0, 0, 1, 0, 1, 3, 3, 0, 0, 12, 1, 0, 11, 5, 0, 0, 1, 5, 0, 17, 1, 6, 2, 0, 0, 0, 0, 0, 0, 3, 3, 1, 0, 2, 0, 0, 4, 3, 9, 0, 15, 0, 4, 0, 0, 2, 15, 0, 8, 0, 0, 1, 1, 0, 6, 0, 7, 1, 3, 2, 1, 0, 0, 0, 3, 1, 4, 1, 9, 2, 0, 2, 0, 0, 0, 0, 0, 0, 0, 30, 7, 1, 0, 7, 2, 2, 2, 6, 0, 1, 1, 7, 5, 4, 0, 2, 9, 3, 0, 0, 0, 0, 1, 2, 11, 0, 1, 0, 2, 2, 8, 3, 2, 12, 7, 2, 7, 3, 2, 1, 8, 4, 7, 7, 10, 2, 1, 2, 1, 3, 1, 1, 0, 0, 1, 7, 4, 4, 0, 0, 7, 0, 1, 0, 10, 5, 0, 0, 1, 2, 0, 3, 1, 4, 0, 0, 11, 5, 0, 1, 2, 0, 0, 0, 0, 0, 0, 4, 0, 0, 8, 52, 0, 0, 0, 0, 24, 5, 0, 0, 0, 7, 0, 0, 0, 0, 7, 46, 0, 0, 5, 2, 2, 0, 0, 3, 6, 0, 0, 128, 24, 23, 3, 0, 0, 0, 6, 2, 0, 0, 0, 5, 3, 0, 5, 0, 8, 5, 4, 1, 4, 4, 4, 2, 1, 7, 4, 0, 0, 0, 10, 19, 6, 1, 0, 1, 2, 1, 1, 1, 0, 2, 4, 11, 10, 1, 0, 0, 4, 1, 1, 1, 3, 9, 1, 3, 2, 2, 2, 0, 10, 1, 4, 6, 1, 0, 2, 1, 2, 0, 16, 6, 2, 1, 1, 0, 2, 1, 0, 2, 2, 9, 3, 22, 2, 2, 4, 1, 22, 5, 5, 0, 6, 107, 1, 2, 5, 2, 3, 1, 1, 0, 0, 2, 7, 5, 1, 1, 2, 0, 0, 1, 0, 0, 0, 9, 22, 3, 0, 2, 5, 0, 0, 0, 7, 11, 12, 5, 0, 5, 21, 16, 0, 4, 0, 3, 0, 0, 0, 0, 1, 1, 1, 1, 1, 2, 4, 8, 3, 4, 1, 1, 3, 2, 67, 5, 1, 18, 109, 1, 0, 1, 2, 0, 0, 0, 0, 0, 11, 1, 3, 0, 4, 1, 2, 3, 0, 10, 2, 1, 1, 3, 3, 5, 3, 5, 2, 0, 1, 6, 367, 2, 2, 0, 3, 2, 0, 1, 2, 2, 0, 6, 6, 3, 2, 3, 5, 8, 8, 0, 0, 0, 16, 20, 4, 3, 2, 2, 0, 7, 9, 0, 2, 11, 0, 0, 0, 12, 0, 3, 0, 2, 12, 0, 0, 0, 2, 0, 9, 6, 0, 1, 3, 3, 0, 27, 1, 0, 0, 4, 0, 2, 23, 0, 2, 0, 1, 12, 28, 1, 5, 10, 0, 14, 13, 1, 0, 4, 64, 2, 6, 0, 3, 2, 5, 5, 0, 0, 2, 10, 0, 10, 0, 1, 0, 0, 0, 0, 1, 0, 1, 1, 4, 2, 0, 0, 0, 0, 0, 0, 0, 2, 104, 3, 0, 4, 2, 1, 3, 1, 1, 0, 4, 1, 7, 0, 2, 4, 6, 3, 1, 1, 22, 0, 0, 2, 16, 19, 0, 3, 2, 4, 1, 3, 0, 1, 0, 7, 0, 1, 0, 2, 0, 124, 15, 0, 7, 2, 0, 1, 22, 0, 0, 0, 4, 1, 6, 0, 0, 0, 0, 0, 0, 0, 1, 38, 0, 7, 131, 6, 182, 8, 50, 0, 0, 0, 0, 1, 10, 0, 0, 0, 10, 0, 5, 0, 4, 0, 0, 0, 2, 3, 3, 5, 0, 0, 0, 9, 1, 98, 5, 6, 0, 0, 5, 1, 0, 0, 8, 0, 8, 29, 1, 0, 0, 0, 0, 0, 5, 0, 0, 0, 0, 0, 515, 6, 0, 5, 0, 49, 0, 4, 0, 6, 9, 4, 3, 3, 0, 0, 0, 7, 0, 0, 0, 0, 10, 0, 0, 0, 0, 12, 11, 8, 6, 17, 0, 1, 12, 7, 58, 27, 100, 0, 0, 0, 10, 0, 4, 4, 0, 3, 369, 0, 0, 0, 0, 0, 1, 0, 0, 0, 9, 0, 5, 0, 0, 0, 0, 0, 0, 0, 28, 0, 0, 4, 0, 2, 0, 1, 1, 307, 0, 4, 0, 0, 0, 0, 0, 0, 0, 0, 0, 0, 0, 0, 110, 0, 0, 87, 8, 47, 3, 1, 5, 0, 87, 5, 5, 0, 0, 0, 0, 0, 0, 1, 1, 0, 3, 287, 6, 4, 6, 961, 2, 0, 0, 13, 0, 0, 2, 6, 0, 66, 0, 4, 0, 0, 4, 144, 158, 0, 1, 0, 0, 0, 2, 37, 5, 2, 19, 141, 4, 17, 0, 3, 0, 0, 41, 4, 1, 0, 0, 0, 0, 0, 0, 0, 0, 0, 0, 0, 0, 0, 0, 0, 1, 170, 6, 0, 18, 8, 0, 6, 0, 35, 3, 16, 4, 53, 2, 1, 1, 0, 0, 0, 0, 1, 5, 87, 4, 4, 0, 9, 0, 0, 11, 0, 1, 0, 2, 29, 3, 1, 2, 1, 2, 3, 1, 5, 3, 0, 0, 7, 5, 0, 1, 3, 12, 0, 436, 10, 6, 0, 1, 3, 50, 0, 0, 4, 4, 1, 8, 1, 0, 0, 0, 0, 0, 0, 2, 3, 4, 26, 5, 6, 17, 0, 5, 5, 0, 0, 0, 0, 6, 1, 0, 0, 0, 0, 0, 0, 0, 3, 2, 3, 2, 1, 4, 0, 6, 0, 1, 5, 74, 6, 0, 0, 0, 0, 1, 0, 0, 3, 3, 0, 0, 0, 19, 3, 5, 4, 7, 1, 0, 370, 1, 0, 1, 55, 103, 3, 50, 3, 7, 17, 19, 7, 322, 3, 2, 1, 16, 2, 17, 0, 1, 4, 9, 0, 1, 0, 1, 0, 1, 0, 0, 1, 0, 0, 7, 0, 0, 0, 3, 0, 0, 120, 3, 5, 3, 4, 102, 4, 6, 3, 54, 1, 66, 8, 2, 4, 1, 1, 120, 5, 0, 0, 0, 5, 2, 0, 3, 33, 0, 0, 0, 37, 0, 0, 0, 10, 0, 17, 0, 1, 121, 0, 0, 13, 74, 1, 22, 3, 2, 0, 3, 0, 43, 61, 75, 0, 0, 0, 3, 4, 37, 0, 22, 9, 49, 22, 2, 103, 0, 0, 0, 0, 3, 0, 4, 1, 12, 134, 8, 79, 80, 25, 0, 6, 5, 0, 1, 0, 0, 0, 0, 201, 0, 8, 0, 27, 0, 0, 2, 33, 2, 58, 12, 0, 0, 1, 0, 8, 2, 5, 4, 0, 8, 1, 7, 13, 3, 6, 4, 3, 0, 5, 3, 7, 2, 0, 5, 189, 0, 0, 0, 0, 4, 0, 6, 0, 2, 0, 0, 6, 0, 0, 2, 0, 4, 0, 1, 0, 4, 0, 2, 3, 2, 0, 2, 4, 5, 4, 6, 2, 10, 6, 2, 6, 3, 3, 4, 1, 4, 21, 3, 2, 3, 20, 19, 97, 3, 0, 3, 0, 1, 14, 0, 0, 0, 0, 0, 93, 6, 143, 0, 2, 8, 14, 33, 2, 15, 3, 81, 4, 4, 0, 0, 107, 2, 5, 0, 0, 6, 0, 2, 1, 3, 3, 3, 1, 2, 1, 2, 22, 0, 5, 4, 8, 4, 2, 2, 0, 70, 23, 2, 1, 2, 4, 3, 0, 125, 0, 3, 3, 1, 2, 0, 0, 0, 7, 3, 8, 1, 32, 0, 3, 2, 2, 4, 2, 3, 0, 10, 247, 3, 3, 7, 2, 3, 6, 2, 0, 0, 0, 0, 1, 320, 5, 1, 0, 8, 5, 0, 2, 1, 1, 2, 2, 3, 55, 0, 0, 16, 2, 58, 0, 5, 312, 1, 1, 4, 261, 2, 0, 3, 21, 1, 0, 1, 15, 3, 7, 10, 2, 2, 3, 0, 6, 0, 0, 0, 0, 4, 0, 2, 2, 4, 4, 0, 0, 0, 0, 0, 7, 1, 1, 0, 2, 0, 1, 0, 1, 2, 232, 0, 0, 3, 0, 3, 4, 3, 5, 1, 3, 7, 84, 4, 18, 5, 6, 0, 0, 6, 18, 1, 2, 5, 3, 7, 1, 3, 0, 0, 2, 1, 7, 0, 0, 0, 0, 1, 1, 1, 0, 0, 2, 2, 2, 4, 8, 2, 4, 2, 0, 0, 4, 6, 104, 14, 0, 0, 1, 6, 0, 2, 0, 0, 0, 11, 16, 4, 30, 43, 1, 3, 5, 4, 18, 11, 2, 30, 2, 2, 10, 1, 3, 5, 43, 44, 24, 15, 2, 19, 26, 1, 0, 1, 2, 7, 0, 3, 94, 9, 1, 7, 0, 0, 0, 1, 0, 1, 80, 3, 0, 0, 4, 144, 2, 1, 4, 17, 2, 7, 1, 7, 10, 2, 0, 4, 4, 10, 5, 63, 5, 14, 0, 2, 0, 6, 0, 2, 13, 0, 7, 0, 2, 0, 0, 1, 57, 0, 135, 0, 0, 2, 1, 4, 4, 1, 22, 1, 3, 7, 1, 11, 1, 17, 2, 0, 1, 0, 5, 1, 0, 0, 1, 1, 10, 6, 2, 0, 5, 2, 220, 5, 2, 1, 2, 4, 1, 1, 12, 135, 5, 3, 4, 0, 2, 2, 1, 4, 6, 3, 0, 1, 7, 2, 1, 25, 3, 0, 5, 1, 4, 0, 0, 5, 23, 111, 4, 6, 4, 138, 3, 0, 2, 0, 2, 94, 35, 0, 2, 25, 39, 12, 2, 4, 4, 7, 1, 6, 2, 1, 0, 2, 12, 2, 1, 109, 97, 0, 2, 1, 0, 3, 2, 3, 29, 0, 2, 5, 4, 5, 7, 0, 116, 4, 3, 0, 8, 2, 4, 10, 3, 0, 8, 4, 0, 5, 3, 1, 4, 2, 5, 3, 29, 5, 16, 7, 3, 0, 1, 3, 0, 0, 2, 2, 3, 2, 101, 7, 4, 0, 36, 0, 34, 12, 72, 0, 0, 18, 8, 0, 2, 0, 7, 0, 0, 4, 1, 2, 0, 3, 0, 3, 58, 8, 0, 46, 0, 4, 2, 4, 52, 1, 0, 29, 7, 0, 0, 0, 1, 0, 0, 7, 0, 0, 10, 3, 5, 3, 7, 54, 0, 0, 60, 0, 4, 8, 0, 10, 83, 0, 0, 1, 3, 0, 0, 0, 1, 32, 43, 2, 0, 0, 2, 0, 0, 0, 2, 7, 0, 0, 31, 0, 0, 0, 0, 0, 0, 0, 3, 3, 3, 3, 0, 0, 0, 0, 0, 0, 11, 0, 0, 178, 40, 0, 0, 0, 0, 6, 6, 2, 1, 2, 7, 1, 2, 3, 0, 0, 4, 3, 129, 0, 0, 0, 2, 1, 0, 2, 0, 2, 0, 0, 2, 39, 0, 0, 0, 2, 0, 2, 0, 2, 11, 6, 0, 1, 0, 9, 10, 4, 0, 1, 4, 0, 0, 0, 0, 0, 2, 0, 0, 2, 0, 5, 0, 2, 1, 175, 2, 0, 2, 2, 11, 2, 3, 2, 1, 2, 3, 0, 6, 0, 0, 0, 0, 0, 0, 0, 4, 2, 5, 0, 0, 1, 0, 0, 0, 6, 0, 1, 0, 0, 2, 2, 0, 0, 0, 1, 2, 0, 0, 4, 0, 2, 13, 93, 86, 2, 2, 1, 2, 0, 2, 1, 1, 4, 0, 4, 19, 0, 5, 5, 6, 16, 5, 0, 5, 0, 41, 0, 0, 0, 0, 0, 0, 1, 0, 209, 5, 0, 0, 3, 7, 4, 3, 5, 0, 2, 5, 2, 2, 6, 6, 9, 5, 2, 0, 0, 0, 0, 1, 7, 5, 4, 5, 7, 0, 2, 2, 3, 3, 2, 5, 0, 8, 5, 5, 5, 0, 0, 3, 0, 3, 5, 4, 5, 4, 4, 2, 5, 2, 6, 1, 2, 4, 9, 3, 0, 2, 9, 1, 66, 3, 0, 1, 5, 0, 0, 0, 2, 2, 0, 7, 0, 0, 0, 9, 0, 0, 3, 5, 0, 0, 0, 3, 3, 2, 0, 1, 2, 0, 1, 0, 0, 0, 0, 6, 130, 5, 0, 0, 75, 0, 0, 0, 8, 133, 14, 0, 3, 3, 2, 9, 6, 4, 8, 0, 0, 0, 0, 1, 31, 1, 6, 3, 3, 1, 4, 9, 4, 3, 1, 172, 2, 2, 1, 4, 3, 1, 0, 2, 3, 0, 5, 6, 7, 2, 0, 9, 5, 1, 6, 4, 4, 5, 4, 16, 3, 0, 12, 1, 4, 2, 0, 1, 1, 3, 2, 0, 4, 0, 0, 1, 4, 3, 3, 0, 1, 0, 24, 1, 1, 1, 3, 56, 52, 68, 0, 0, 165, 2, 3, 1, 0, 2, 1, 0, 3, 1, 3, 0, 3, 83, 0, 0, 0, 1, 0, 5, 5, 0, 0, 55, 1, 2, 1, 1, 1, 0, 4, 17, 1, 82, 9, 2, 1, 0, 2, 1, 2, 125, 83, 0, 4, 4, 0, 5, 3, 6, 2, 2, 0, 2, 5, 1, 1, 1, 0, 15, 0, 1, 0, 2, 0, 4, 0, 0, 0, 0, 0, 0, 8, 2, 0, 5, 0, 112, 14, 2, 1, 2, 37, 7, 0, 3, 1, 21, 5, 3, 71, 15, 18, 4, 10, 32, 0, 3, 2, 5, 0, 4, 71, 3, 1, 2, 4, 0, 3, 1, 2, 2, 2, 2, 12, 2, 0, 6, 4, 0, 8, 35, 2, 0, 5, 0, 3, 4, 5, 17, 0, 0, 6, 0, 6, 6, 0, 2, 5, 5, 50, 8, 2, 65, 101, 9, 56, 0, 5, 4, 0, 0, 2, 5, 0, 0, 0, 56, 0, 0, 0, 0, 0, 5, 0, 2, 0, 3, 2, 0, 1, 0, 0, 0, 1, 0, 8, 93, 0, 0, 1, 0, 2, 0, 0, 0, 0, 2, 1, 0, 1, 2, 1, 3, 4, 0, 0, 16, 5, 2, 2, 5, 3, 1, 12, 99, 5, 3, 4, 31, 11, 2, 45, 29, 26, 15, 1, 12, 37, 1, 78, 6, 2, 1, 3, 9, 3, 0, 3, 1, 1, 1, 5, 0, 155, 8, 27, 3, 3, 51, 5, 1, 97, 1, 3, 1, 6, 41, 6, 6, 0, 2, 0, 98, 2, 1, 1, 0, 0, 4, 1, 1, 0, 0, 0, 0, 0, 1, 0, 4, 1, 9, 2, 5, 18, 3, 5, 8, 1, 2, 26, 0, 0, 1, 0, 2, 7, 3, 4, 0, 1, 0, 0, 0, 0, 0, 3, 7, 1, 7, 83, 0, 0, 0, 3, 2, 0, 3, 0, 2, 0, 5, 1, 0, 2, 0, 0, 0, 3, 3, 3, 0, 150, 3, 0, 5, 2, 0, 5, 0, 1, 4, 0, 2, 153, 0, 5, 2, 5, 1, 3, 0, 10, 14, 3, 4, 3, 2, 2, 16, 20, 2, 13, 0, 0, 0, 2, 5, 0, 1, 0, 125, 0, 0, 21, 11, 2, 2, 1, 0, 7, 85, 2, 2, 3, 2, 6, 13, 2, 0, 5, 0, 1, 2, 0, 6, 1, 60, 77, 6, 2, 14, 0, 2, 4, 1, 12, 2, 0, 1, 4, 0, 6, 0, 104, 0, 0, 34, 2, 5, 2, 2, 5, 5, 1, 12, 0, 1, 1, 0, 2, 0, 0, 1, 0, 1, 1, 0, 142, 1, 0, 2, 9, 1, 3, 2, 4, 46, 2, 2, 0, 51, 2, 7, 18, 3, 0, 7, 1, 1, 3, 5, 4, 2, 35, 3, 1, 3, 11, 0, 0, 118, 3, 0, 0, 1, 0, 25, 4, 0, 0, 1, 8, 1, 2, 14, 44, 6, 7, 2, 0, 8, 10, 0, 2, 0, 0, 2, 0, 7, 0, 0, 2, 2, 2, 5, 4, 1, 1, 1, 1, 23, 0, 2, 1, 1, 0, 0, 0, 3, 0, 6, 24, 3, 1, 1, 2, 5, 5, 152, 4, 0, 1, 1, 5, 5, 23, 1, 106, 3, 1, 2, 60, 0, 11, 9, 1, 1, 2, 1, 0, 2, 1, 42, 1, 36, 0, 58, 81, 11, 0, 2, 1, 18, 16, 1, 2, 1, 0, 0, 4, 0, 0, 1, 1, 0, 7, 10, 1, 30, 11, 3, 1, 9, 1, 1, 0, 2, 2, 7, 70, 16, 6, 0, 2, 0, 110, 5, 2, 1, 7, 0, 6, 0, 0, 0, 5, 0, 0, 148, 0, 4, 43, 2, 0, 3, 2, 21, 2, 6, 5, 0, 4, 9, 3, 241, 5, 2, 3, 2, 9, 73, 2, 2, 28, 32, 2, 1, 4, 6, 0, 3, 3, 0, 0, 2, 1, 3, 1, 6, 3, 6, 6, 5, 3, 1, 7, 7, 15, 7, 2, 1, 6, 18, 6, 3, 0, 193, 2, 6, 0, 3, 106, 4, 3, 3, 187, 1, 9, 0, 5, 0, 2, 1, 1, 0, 1, 3, 4, 3, 1, 121, 3, 137, 1, 7, 2, 1, 12, 0, 2, 2, 15, 0, 4, 128, 84, 3, 0, 3, 12, 0, 0, 2, 99, 5, 3, 7, 3, 12, 27, 6, 8, 15, 0, 0, 0, 6, 18, 2, 5, 78, 2, 0, 0, 0, 4, 1, 7, 118, 98, 6, 1, 54, 2, 0, 4, 0, 18, 4, 6, 1, 111, 7, 5, 2, 5, 12, 12, 4, 0, 6, 7, 4, 0, 0, 0, 0, 7, 3, 6, 11, 3, 1, 64, 37, 17, 7, 22, 63, 2, 6, 4, 1, 16, 81, 6, 51, 0, 13, 7, 5, 6, 2, 4, 6, 0, 1, 0, 16, 3, 3, 0, 3, 0, 0, 1, 44, 1, 0, 1, 1, 0, 1, 3, 1, 101, 3, 8, 0, 23, 2, 3, 1, 11, 0, 1, 9, 0, 1, 1, 2, 10, 12, 1, 8, 0, 5, 0, 0, 0, 58, 0, 0, 18, 0, 5, 0, 1, 0, 0, 0, 0, 0, 0, 0, 0, 96, 1, 97, 2, 7, 1, 0, 0, 5, 3, 0, 0, 10, 46, 0, 2, 0, 0, 0, 0, 0, 0, 0, 1, 0, 0, 4, 2, 12, 2, 57, 69, 0, 92, 0, 6, 3, 1, 10, 7, 0, 2, 2, 4, 1, 4, 59, 0, 2, 7, 4, 106, 2, 2, 2, 3, 2, 4, 5, 162, 0, 279, 0, 0, 2, 17, 5, 15, 2, 0, 1, 0, 1, 0, 5, 5, 3, 0, 2, 0, 3, 211, 7, 2, 6, 0, 3, 4, 3, 8, 15, 6, 6, 7, 3, 0, 0, 3, 0, 4, 4, 0, 2, 2, 16, 4, 2, 0, 3, 0, 2, 0, 6, 7, 5, 2, 96, 41, 0, 1, 2, 2, 0, 1, 12, 1, 6, 1, 0, 1, 0, 0, 4, 0, 0, 15, 3, 1, 0, 1, 64, 4, 3, 0, 0, 10, 1, 1, 0, 86, 8, 0, 10, 0, 0, 0, 30, 0, 13, 0, 17, 16, 1, 0, 1, 5, 5, 0, 1, 4, 1, 0, 0, 1, 2, 0, 15, 0, 3, 0, 1, 5, 0, 0, 0, 0, 0, 4, 0, 1, 5, 0, 4, 1, 0, 0, 0, 0, 2, 0, 0, 0, 7, 5, 207, 9, 0, 0, 1, 25, 8, 3, 3, 7, 0, 0, 2, 3, 1, 0, 8, 63, 8, 4, 4, 6, 4, 2, 0, 0, 1, 0, 0, 0, 0, 3, 0, 2, 1, 2, 5, 128, 1, 2, 4, 5, 3, 9, 1, 45, 3, 6, 104, 1, 17, 3, 3, 0, 53, 177, 11, 4, 0, 2, 9, 2, 8, 2, 3, 0, 0, 0, 2, 1, 3, 0, 0, 176, 0, 0, 9, 4, 0, 6, 19, 1, 5, 14, 0, 31, 1, 2, 47, 0, 0, 61, 2, 4, 0, 3, 1, 0, 0, 7, 0, 0, 0, 0, 0, 2, 0, 0, 0, 88, 0, 2, 0, 3, 1, 6, 7, 84, 9, 3, 55, 2, 0, 0, 1, 0, 3, 0, 0, 2, 0, 0, 2, 1, 1, 5, 0, 1, 1, 0, 1, 3, 60, 2, 1, 3, 0, 2, 14, 4, 0, 0, 30, 3, 3, 0, 0, 0, 6, 0, 115, 0, 0, 3, 0, 56, 14, 4, 33, 0, 20, 0, 0, 0, 0, 0, 0, 88, 8, 4, 2, 7, 2, 8, 2, 2, 12, 14, 0, 4, 0, 0, 5, 3, 82, 0, 4, 2, 0, 7, 18, 1, 2, 24, 1, 0, 0, 3, 1, 0, 0, 87, 130, 129, 106, 2, 0, 0, 7, 7, 3, 0, 0, 5, 1, 1, 0, 95, 0, 1, 0, 0, 0, 0, 60, 5, 0, 8, 0, 9, 10, 0, 13, 109, 9, 0, 14, 3, 2, 10, 3, 91, 0, 1, 0, 0, 12, 4, 4, 6, 113, 6, 5, 4, 2, 0, 4, 73, 128, 0, 1, 0, 5, 3, 3, 5, 0, 2, 79, 1, 48, 24, 6, 7, 6, 23, 16, 5, 34, 12, 5, 0, 0, 1, 3, 5, 0, 4, 9, 5, 1, 54, 56, 2, 0, 15, 0, 96, 14, 2, 0, 0, 78, 0, 34, 5, 5, 2, 1, 0, 0, 0, 0, 7, 8, 5, 36, 66, 0, 56, 0, 0, 8, 6, 0, 0, 21, 5, 4, 10, 7, 25, 39, 2, 4, 9, 0, 5, 0, 0, 1, 0, 2, 0, 0, 2, 13, 0, 0, 4, 158, 0, 0, 6, 4, 13, 0, 2, 4, 0, 5, 0, 7, 0, 0, 9, 1, 119, 3, 0, 8, 1, 0, 54, 7, 3, 48, 58, 0, 3, 17, 10, 0, 0, 40, 5, 155, 163, 12, 9, 1, 7, 51, 131, 3, 4, 2, 14, 13, 11, 2, 3, 4, 67, 2, 4, 2, 2, 22, 3, 3, 3, 1, 17, 3, 4, 99, 2, 9, 0, 9, 3, 1, 0, 3, 0, 3, 4, 143, 9, 11, 9, 0, 6, 2, 3, 0, 5, 0, 9, 0, 2, 0, 6, 47, 0, 4, 256, 71, 0, 2, 1, 214, 2, 0, 0, 2, 9, 0, 0, 3, 0, 1, 2, 0, 0, 6, 0, 17, 0, 1, 2, 5, 1, 1, 3, 1, 0, 157, 0, 11, 60, 1, 1, 164, 99, 5, 0, 17, 2, 0, 7, 2, 2, 2, 3, 0, 1, 9, 0, 2, 3, 9, 0, 3, 7, 1, 4, 4, 1, 116, 2, 3, 6, 10, 11, 3, 6, 3, 7, 3, 2, 167, 0, 0, 3, 0, 4, 5, 5, 3, 5, 16, 4, 3, 1, 4, 2, 2, 3, 52, 6, 0, 6, 1, 2, 7, 7, 2, 1, 4, 3, 3, 0, 9, 4, 0, 4, 123, 1, 2, 0, 0, 0, 0, 2, 0, 3, 5, 0, 7, 0, 0, 0, 9, 1, 81, 1, 124, 1, 2, 2, 156, 1, 3, 2, 7, 4, 150, 245, 9, 1, 1, 0, 3, 90, 0, 4, 0, 5, 4, 0, 1, 5, 1, 179, 1, 1, 7, 5, 1, 4, 0, 11, 3, 0, 2, 4, 4, 7, 7, 1, 2, 3, 3, 42, 4, 0, 1, 2, 0, 5, 2, 13, 3, 61, 5, 1, 5, 3, 2, 3, 4, 5, 8, 1, 0, 0, 1, 164, 4, 3, 1, 5, 3, 0, 10, 0, 0, 5, 5, 2, 8, 0, 7, 1, 3, 3, 4, 0, 2, 5, 4, 0, 4, 2, 0, 1, 1, 2, 0, 239, 11, 3, 4, 5, 2, 9, 1, 0, 2, 4, 3, 5, 0, 7, 0, 0, 0, 4, 7, 8, 6, 0, 95, 0, 3, 1, 0, 0, 3, 11, 5, 49, 0, 3, 5, 2, 9, 6, 0, 0, 0, 110, 6, 0, 23, 11, 2, 98, 8, 57, 0, 41, 4, 0, 8, 1, 0, 0, 0, 0, 9, 0, 2, 4, 0, 0, 12, 6, 4, 7, 4, 11, 5, 0, 11, 46, 4, 0, 0, 0, 0, 0, 20, 0, 1, 1, 2, 1, 1, 2, 5, 7, 0, 0, 5, 2, 1, 10, 3, 13, 2, 0, 0, 0, 0, 4, 3, 2, 3, 1, 1, 21, 0, 6, 4, 12, 17, 17, 0, 0, 0, 0, 54, 1, 2, 4, 148, 1, 1, 2, 2, 6, 15, 4, 58, 0, 11, 0, 4, 3, 1, 2, 12, 1, 101, 6, 0, 2, 0, 1, 131, 1, 3, 2, 0, 1, 6, 3, 3, 0, 7, 18, 7, 31, 16, 51, 37, 11, 10, 0, 0, 0, 0, 6, 67, 7, 55, 7, 0, 0, 0, 4, 0, 7, 53, 1, 19, 6, 13, 4, 4, 0, 57, 35, 5, 4, 32, 4, 6, 2, 1, 1, 5, 68, 2, 5, 1, 21, 5, 2, 2, 107, 7, 2, 5, 3, 0, 0, 0, 121, 0, 19, 15, 0, 115, 1, 0, 34, 145, 2, 0, 17, 9, 1, 0, 9, 4, 0, 7, 12, 1, 76, 0, 11, 2, 4, 4, 0, 14, 0, 0, 0, 6, 0, 24, 0, 154, 4, 2, 6, 3, 114, 0, 0, 2, 3, 0, 2, 2, 3, 4, 7, 0, 5, 7, 0, 18, 1, 1, 9, 0, 2, 65, 0, 1, 2, 0, 1, 1, 2, 0, 0, 0, 2, 2, 0, 80, 4, 45, 2, 8, 27, 98, 14, 1, 14, 2, 0, 3, 1, 16, 0, 0, 58, 14, 7, 12, 0, 0, 0, 4, 0, 101, 0, 17, 0, 0, 1, 1, 0, 0, 0, 0, 1, 0, 2, 0, 7, 0, 0, 3, 0, 5, 1, 0, 0, 1, 0, 0, 0, 0, 0, 6, 0, 0, 0, 51, 0, 0, 0, 0, 4, 0, 0, 7, 0, 2, 1, 113, 3, 0, 0, 0, 0, 120, 0, 2, 0, 126, 1, 0, 0, 0, 0, 2, 1, 2, 5, 1, 0, 5, 2, 3, 3, 1, 7, 0, 1, 1, 1, 28, 4, 1, 2, 0, 0, 1, 2, 0, 0, 0, 0, 1, 0, 0, 0, 3, 5, 0, 0, 0, 1]}],\n",
              "                        {\"height\": 700, \"template\": {\"data\": {\"bar\": [{\"error_x\": {\"color\": \"#2a3f5f\"}, \"error_y\": {\"color\": \"#2a3f5f\"}, \"marker\": {\"line\": {\"color\": \"#E5ECF6\", \"width\": 0.5}}, \"type\": \"bar\"}], \"barpolar\": [{\"marker\": {\"line\": {\"color\": \"#E5ECF6\", \"width\": 0.5}}, \"type\": \"barpolar\"}], \"carpet\": [{\"aaxis\": {\"endlinecolor\": \"#2a3f5f\", \"gridcolor\": \"white\", \"linecolor\": \"white\", \"minorgridcolor\": \"white\", \"startlinecolor\": \"#2a3f5f\"}, \"baxis\": {\"endlinecolor\": \"#2a3f5f\", \"gridcolor\": \"white\", \"linecolor\": \"white\", \"minorgridcolor\": \"white\", \"startlinecolor\": \"#2a3f5f\"}, \"type\": \"carpet\"}], \"choropleth\": [{\"colorbar\": {\"outlinewidth\": 0, \"ticks\": \"\"}, \"type\": \"choropleth\"}], \"contour\": [{\"colorbar\": {\"outlinewidth\": 0, \"ticks\": \"\"}, \"colorscale\": [[0.0, \"#0d0887\"], [0.1111111111111111, \"#46039f\"], [0.2222222222222222, \"#7201a8\"], [0.3333333333333333, \"#9c179e\"], [0.4444444444444444, \"#bd3786\"], [0.5555555555555556, \"#d8576b\"], [0.6666666666666666, \"#ed7953\"], [0.7777777777777778, \"#fb9f3a\"], [0.8888888888888888, \"#fdca26\"], [1.0, \"#f0f921\"]], \"type\": \"contour\"}], \"contourcarpet\": [{\"colorbar\": {\"outlinewidth\": 0, \"ticks\": \"\"}, \"type\": \"contourcarpet\"}], \"heatmap\": [{\"colorbar\": {\"outlinewidth\": 0, \"ticks\": \"\"}, \"colorscale\": [[0.0, \"#0d0887\"], [0.1111111111111111, \"#46039f\"], [0.2222222222222222, \"#7201a8\"], [0.3333333333333333, \"#9c179e\"], [0.4444444444444444, \"#bd3786\"], [0.5555555555555556, \"#d8576b\"], [0.6666666666666666, \"#ed7953\"], [0.7777777777777778, \"#fb9f3a\"], [0.8888888888888888, \"#fdca26\"], [1.0, \"#f0f921\"]], \"type\": \"heatmap\"}], \"heatmapgl\": [{\"colorbar\": {\"outlinewidth\": 0, \"ticks\": \"\"}, \"colorscale\": [[0.0, \"#0d0887\"], [0.1111111111111111, \"#46039f\"], [0.2222222222222222, \"#7201a8\"], [0.3333333333333333, \"#9c179e\"], [0.4444444444444444, \"#bd3786\"], [0.5555555555555556, \"#d8576b\"], [0.6666666666666666, \"#ed7953\"], [0.7777777777777778, \"#fb9f3a\"], [0.8888888888888888, \"#fdca26\"], [1.0, \"#f0f921\"]], \"type\": \"heatmapgl\"}], \"histogram\": [{\"marker\": {\"colorbar\": {\"outlinewidth\": 0, \"ticks\": \"\"}}, \"type\": \"histogram\"}], \"histogram2d\": [{\"colorbar\": {\"outlinewidth\": 0, \"ticks\": \"\"}, \"colorscale\": [[0.0, \"#0d0887\"], [0.1111111111111111, \"#46039f\"], [0.2222222222222222, \"#7201a8\"], [0.3333333333333333, \"#9c179e\"], [0.4444444444444444, \"#bd3786\"], [0.5555555555555556, \"#d8576b\"], [0.6666666666666666, \"#ed7953\"], [0.7777777777777778, \"#fb9f3a\"], [0.8888888888888888, \"#fdca26\"], [1.0, \"#f0f921\"]], \"type\": \"histogram2d\"}], \"histogram2dcontour\": [{\"colorbar\": {\"outlinewidth\": 0, \"ticks\": \"\"}, \"colorscale\": [[0.0, \"#0d0887\"], [0.1111111111111111, \"#46039f\"], [0.2222222222222222, \"#7201a8\"], [0.3333333333333333, \"#9c179e\"], [0.4444444444444444, \"#bd3786\"], [0.5555555555555556, \"#d8576b\"], [0.6666666666666666, \"#ed7953\"], [0.7777777777777778, \"#fb9f3a\"], [0.8888888888888888, \"#fdca26\"], [1.0, \"#f0f921\"]], \"type\": \"histogram2dcontour\"}], \"mesh3d\": [{\"colorbar\": {\"outlinewidth\": 0, \"ticks\": \"\"}, \"type\": \"mesh3d\"}], \"parcoords\": [{\"line\": {\"colorbar\": {\"outlinewidth\": 0, \"ticks\": \"\"}}, \"type\": \"parcoords\"}], \"pie\": [{\"automargin\": true, \"type\": \"pie\"}], \"scatter\": [{\"marker\": {\"colorbar\": {\"outlinewidth\": 0, \"ticks\": \"\"}}, \"type\": \"scatter\"}], \"scatter3d\": [{\"line\": {\"colorbar\": {\"outlinewidth\": 0, \"ticks\": \"\"}}, \"marker\": {\"colorbar\": {\"outlinewidth\": 0, \"ticks\": \"\"}}, \"type\": \"scatter3d\"}], \"scattercarpet\": [{\"marker\": {\"colorbar\": {\"outlinewidth\": 0, \"ticks\": \"\"}}, \"type\": \"scattercarpet\"}], \"scattergeo\": [{\"marker\": {\"colorbar\": {\"outlinewidth\": 0, \"ticks\": \"\"}}, \"type\": \"scattergeo\"}], \"scattergl\": [{\"marker\": {\"colorbar\": {\"outlinewidth\": 0, \"ticks\": \"\"}}, \"type\": \"scattergl\"}], \"scattermapbox\": [{\"marker\": {\"colorbar\": {\"outlinewidth\": 0, \"ticks\": \"\"}}, \"type\": \"scattermapbox\"}], \"scatterpolar\": [{\"marker\": {\"colorbar\": {\"outlinewidth\": 0, \"ticks\": \"\"}}, \"type\": \"scatterpolar\"}], \"scatterpolargl\": [{\"marker\": {\"colorbar\": {\"outlinewidth\": 0, \"ticks\": \"\"}}, \"type\": \"scatterpolargl\"}], \"scatterternary\": [{\"marker\": {\"colorbar\": {\"outlinewidth\": 0, \"ticks\": \"\"}}, \"type\": \"scatterternary\"}], \"surface\": [{\"colorbar\": {\"outlinewidth\": 0, \"ticks\": \"\"}, \"colorscale\": [[0.0, \"#0d0887\"], [0.1111111111111111, \"#46039f\"], [0.2222222222222222, \"#7201a8\"], [0.3333333333333333, \"#9c179e\"], [0.4444444444444444, \"#bd3786\"], [0.5555555555555556, \"#d8576b\"], [0.6666666666666666, \"#ed7953\"], [0.7777777777777778, \"#fb9f3a\"], [0.8888888888888888, \"#fdca26\"], [1.0, \"#f0f921\"]], \"type\": \"surface\"}], \"table\": [{\"cells\": {\"fill\": {\"color\": \"#EBF0F8\"}, \"line\": {\"color\": \"white\"}}, \"header\": {\"fill\": {\"color\": \"#C8D4E3\"}, \"line\": {\"color\": \"white\"}}, \"type\": \"table\"}]}, \"layout\": {\"annotationdefaults\": {\"arrowcolor\": \"#2a3f5f\", \"arrowhead\": 0, \"arrowwidth\": 1}, \"coloraxis\": {\"colorbar\": {\"outlinewidth\": 0, \"ticks\": \"\"}}, \"colorscale\": {\"diverging\": [[0, \"#8e0152\"], [0.1, \"#c51b7d\"], [0.2, \"#de77ae\"], [0.3, \"#f1b6da\"], [0.4, \"#fde0ef\"], [0.5, \"#f7f7f7\"], [0.6, \"#e6f5d0\"], [0.7, \"#b8e186\"], [0.8, \"#7fbc41\"], [0.9, \"#4d9221\"], [1, \"#276419\"]], \"sequential\": [[0.0, \"#0d0887\"], [0.1111111111111111, \"#46039f\"], [0.2222222222222222, \"#7201a8\"], [0.3333333333333333, \"#9c179e\"], [0.4444444444444444, \"#bd3786\"], [0.5555555555555556, \"#d8576b\"], [0.6666666666666666, \"#ed7953\"], [0.7777777777777778, \"#fb9f3a\"], [0.8888888888888888, \"#fdca26\"], [1.0, \"#f0f921\"]], \"sequentialminus\": [[0.0, \"#0d0887\"], [0.1111111111111111, \"#46039f\"], [0.2222222222222222, \"#7201a8\"], [0.3333333333333333, \"#9c179e\"], [0.4444444444444444, \"#bd3786\"], [0.5555555555555556, \"#d8576b\"], [0.6666666666666666, \"#ed7953\"], [0.7777777777777778, \"#fb9f3a\"], [0.8888888888888888, \"#fdca26\"], [1.0, \"#f0f921\"]]}, \"colorway\": [\"#636efa\", \"#EF553B\", \"#00cc96\", \"#ab63fa\", \"#FFA15A\", \"#19d3f3\", \"#FF6692\", \"#B6E880\", \"#FF97FF\", \"#FECB52\"], \"font\": {\"color\": \"#2a3f5f\"}, \"geo\": {\"bgcolor\": \"white\", \"lakecolor\": \"white\", \"landcolor\": \"#E5ECF6\", \"showlakes\": true, \"showland\": true, \"subunitcolor\": \"white\"}, \"hoverlabel\": {\"align\": \"left\"}, \"hovermode\": \"closest\", \"mapbox\": {\"style\": \"light\"}, \"paper_bgcolor\": \"white\", \"plot_bgcolor\": \"#E5ECF6\", \"polar\": {\"angularaxis\": {\"gridcolor\": \"white\", \"linecolor\": \"white\", \"ticks\": \"\"}, \"bgcolor\": \"#E5ECF6\", \"radialaxis\": {\"gridcolor\": \"white\", \"linecolor\": \"white\", \"ticks\": \"\"}}, \"scene\": {\"xaxis\": {\"backgroundcolor\": \"#E5ECF6\", \"gridcolor\": \"white\", \"gridwidth\": 2, \"linecolor\": \"white\", \"showbackground\": true, \"ticks\": \"\", \"zerolinecolor\": \"white\"}, \"yaxis\": {\"backgroundcolor\": \"#E5ECF6\", \"gridcolor\": \"white\", \"gridwidth\": 2, \"linecolor\": \"white\", \"showbackground\": true, \"ticks\": \"\", \"zerolinecolor\": \"white\"}, \"zaxis\": {\"backgroundcolor\": \"#E5ECF6\", \"gridcolor\": \"white\", \"gridwidth\": 2, \"linecolor\": \"white\", \"showbackground\": true, \"ticks\": \"\", \"zerolinecolor\": \"white\"}}, \"shapedefaults\": {\"line\": {\"color\": \"#2a3f5f\"}}, \"ternary\": {\"aaxis\": {\"gridcolor\": \"white\", \"linecolor\": \"white\", \"ticks\": \"\"}, \"baxis\": {\"gridcolor\": \"white\", \"linecolor\": \"white\", \"ticks\": \"\"}, \"bgcolor\": \"#E5ECF6\", \"caxis\": {\"gridcolor\": \"white\", \"linecolor\": \"white\", \"ticks\": \"\"}}, \"title\": {\"x\": 0.05}, \"xaxis\": {\"automargin\": true, \"gridcolor\": \"white\", \"linecolor\": \"white\", \"ticks\": \"\", \"title\": {\"standoff\": 15}, \"zerolinecolor\": \"white\", \"zerolinewidth\": 2}, \"yaxis\": {\"automargin\": true, \"gridcolor\": \"white\", \"linecolor\": \"white\", \"ticks\": \"\", \"title\": {\"standoff\": 15}, \"zerolinecolor\": \"white\", \"zerolinewidth\": 2}}}, \"title\": {\"text\": \"Distribution of authors on the basis of up votes\", \"x\": 0.5, \"xanchor\": \"center\", \"y\": 0.9, \"yanchor\": \"top\"}, \"width\": 800, \"xaxis\": {\"title\": {\"text\": \"name of author\"}}, \"yaxis\": {\"title\": {\"text\": \"Number of upvotes\"}}},\n",
              "                        {\"responsive\": true}\n",
              "                    ).then(function(){\n",
              "                            \n",
              "var gd = document.getElementById('b2bc8a37-5082-4b23-89c2-c4ff8a776429');\n",
              "var x = new MutationObserver(function (mutations, observer) {{\n",
              "        var display = window.getComputedStyle(gd).display;\n",
              "        if (!display || display === 'none') {{\n",
              "            console.log([gd, 'removed!']);\n",
              "            Plotly.purge(gd);\n",
              "            observer.disconnect();\n",
              "        }}\n",
              "}});\n",
              "\n",
              "// Listen for the removal of the full notebook cells\n",
              "var notebookContainer = gd.closest('#notebook-container');\n",
              "if (notebookContainer) {{\n",
              "    x.observe(notebookContainer, {childList: true});\n",
              "}}\n",
              "\n",
              "// Listen for the clearing of the current output cell\n",
              "var outputEl = gd.closest('.output');\n",
              "if (outputEl) {{\n",
              "    x.observe(outputEl, {childList: true});\n",
              "}}\n",
              "\n",
              "                        })\n",
              "                };\n",
              "                \n",
              "            </script>\n",
              "        </div>\n",
              "</body>\n",
              "</html>"
            ]
          },
          "metadata": {
            "tags": []
          }
        }
      ]
    },
    {
      "cell_type": "code",
      "metadata": {
        "colab": {
          "base_uri": "https://localhost:8080/",
          "height": 517
        },
        "id": "XOBoYUof0tD5",
        "outputId": "e70e4ac4-54b9-43e2-b5dc-f9c7330235cd"
      },
      "source": [
        "#Checking the length of news headlines of whole dataset\n",
        "fig = ff.create_distplot([df['title'].str.len()], [\"ht\"],show_hist=False,show_rug=False)\n",
        "fig['layout'].update(title={'text':'PDF','y':0.9,'x':0.5,'xanchor': 'center','yanchor': 'top'}, xaxis_title=\"Length of a headline\",yaxis_title=\"probability\")\n",
        "fig.update_layout(showlegend = False,width=500,height=500)\n",
        "fig"
      ],
      "execution_count": 18,
      "outputs": [
        {
          "output_type": "display_data",
          "data": {
            "text/html": [
              "<html>\n",
              "<head><meta charset=\"utf-8\" /></head>\n",
              "<body>\n",
              "    <div>\n",
              "            <script src=\"https://cdnjs.cloudflare.com/ajax/libs/mathjax/2.7.5/MathJax.js?config=TeX-AMS-MML_SVG\"></script><script type=\"text/javascript\">if (window.MathJax) {MathJax.Hub.Config({SVG: {font: \"STIX-Web\"}});}</script>\n",
              "                <script type=\"text/javascript\">window.PlotlyConfig = {MathJaxConfig: 'local'};</script>\n",
              "        <script src=\"https://cdn.plot.ly/plotly-latest.min.js\"></script>    \n",
              "            <div id=\"9c7593df-4e77-4816-b95a-6db463c7c604\" class=\"plotly-graph-div\" style=\"height:500px; width:500px;\"></div>\n",
              "            <script type=\"text/javascript\">\n",
              "                \n",
              "                    window.PLOTLYENV=window.PLOTLYENV || {};\n",
              "                    \n",
              "                if (document.getElementById(\"9c7593df-4e77-4816-b95a-6db463c7c604\")) {\n",
              "                    Plotly.newPlot(\n",
              "                        '9c7593df-4e77-4816-b95a-6db463c7c604',\n",
              "                        [{\"legendgroup\": \"ht\", \"marker\": {\"color\": \"rgb(31, 119, 180)\"}, \"mode\": \"lines\", \"name\": \"ht\", \"showlegend\": true, \"type\": \"scatter\", \"x\": [1.0, 1.638, 2.276, 2.9139999999999997, 3.552, 4.1899999999999995, 4.827999999999999, 5.466, 6.104, 6.742, 7.38, 8.018, 8.655999999999999, 9.294, 9.932, 10.57, 11.208, 11.846, 12.484, 13.122, 13.76, 14.398, 15.036, 15.674, 16.311999999999998, 16.95, 17.588, 18.226, 18.864, 19.502, 20.14, 20.778, 21.416, 22.054, 22.692, 23.33, 23.968, 24.606, 25.244, 25.882, 26.52, 27.158, 27.796, 28.434, 29.072, 29.71, 30.348, 30.986, 31.624, 32.262, 32.9, 33.538, 34.176, 34.814, 35.452, 36.09, 36.728, 37.366, 38.004, 38.642, 39.28, 39.918, 40.556, 41.194, 41.832, 42.47, 43.108, 43.746, 44.384, 45.022, 45.66, 46.298, 46.936, 47.574, 48.212, 48.85, 49.488, 50.126, 50.764, 51.402, 52.04, 52.678, 53.316, 53.954, 54.592, 55.23, 55.868, 56.506, 57.144, 57.782, 58.42, 59.058, 59.696, 60.334, 60.972, 61.61, 62.248, 62.886, 63.524, 64.162, 64.8, 65.438, 66.076, 66.714, 67.352, 67.99, 68.628, 69.266, 69.904, 70.542, 71.18, 71.818, 72.456, 73.094, 73.732, 74.37, 75.008, 75.646, 76.284, 76.922, 77.56, 78.198, 78.836, 79.474, 80.112, 80.75, 81.388, 82.026, 82.664, 83.302, 83.94, 84.578, 85.216, 85.854, 86.492, 87.13, 87.768, 88.406, 89.044, 89.682, 90.32, 90.958, 91.596, 92.234, 92.872, 93.51, 94.148, 94.786, 95.424, 96.062, 96.7, 97.338, 97.976, 98.614, 99.252, 99.89, 100.528, 101.166, 101.804, 102.442, 103.08, 103.718, 104.356, 104.994, 105.632, 106.27, 106.908, 107.546, 108.184, 108.822, 109.46, 110.098, 110.736, 111.374, 112.012, 112.65, 113.288, 113.926, 114.564, 115.202, 115.84, 116.478, 117.116, 117.754, 118.392, 119.03, 119.668, 120.306, 120.944, 121.582, 122.22, 122.858, 123.496, 124.134, 124.772, 125.41, 126.048, 126.686, 127.324, 127.962, 128.6, 129.238, 129.876, 130.514, 131.152, 131.79, 132.428, 133.066, 133.704, 134.342, 134.98, 135.618, 136.256, 136.894, 137.532, 138.17, 138.808, 139.446, 140.084, 140.722, 141.36, 141.998, 142.636, 143.274, 143.912, 144.55, 145.188, 145.826, 146.464, 147.102, 147.74, 148.378, 149.016, 149.654, 150.292, 150.93, 151.568, 152.206, 152.844, 153.482, 154.12, 154.758, 155.396, 156.034, 156.672, 157.31, 157.948, 158.586, 159.224, 159.862, 160.5, 161.138, 161.776, 162.414, 163.052, 163.69, 164.328, 164.966, 165.604, 166.242, 166.88, 167.518, 168.156, 168.794, 169.432, 170.07, 170.708, 171.346, 171.984, 172.622, 173.26, 173.898, 174.536, 175.174, 175.812, 176.45, 177.088, 177.726, 178.364, 179.002, 179.64, 180.278, 180.916, 181.554, 182.192, 182.83, 183.468, 184.106, 184.744, 185.382, 186.02, 186.658, 187.296, 187.934, 188.572, 189.21, 189.848, 190.486, 191.124, 191.762, 192.4, 193.038, 193.676, 194.314, 194.952, 195.59, 196.228, 196.866, 197.504, 198.142, 198.78, 199.418, 200.056, 200.694, 201.332, 201.97, 202.608, 203.246, 203.884, 204.522, 205.16, 205.798, 206.436, 207.074, 207.712, 208.35, 208.988, 209.626, 210.264, 210.902, 211.54, 212.178, 212.816, 213.454, 214.092, 214.73, 215.368, 216.006, 216.644, 217.282, 217.92, 218.558, 219.196, 219.834, 220.472, 221.11, 221.748, 222.386, 223.024, 223.662, 224.3, 224.938, 225.576, 226.214, 226.852, 227.49, 228.128, 228.766, 229.404, 230.042, 230.68, 231.318, 231.956, 232.594, 233.232, 233.87, 234.508, 235.146, 235.784, 236.422, 237.06, 237.698, 238.336, 238.974, 239.612, 240.25, 240.888, 241.526, 242.164, 242.802, 243.44, 244.078, 244.716, 245.354, 245.992, 246.63, 247.268, 247.906, 248.544, 249.182, 249.82, 250.458, 251.096, 251.734, 252.372, 253.01, 253.648, 254.286, 254.924, 255.562, 256.2, 256.83799999999997, 257.476, 258.114, 258.752, 259.39, 260.028, 260.666, 261.304, 261.942, 262.58, 263.218, 263.856, 264.494, 265.132, 265.77, 266.408, 267.046, 267.684, 268.322, 268.96, 269.598, 270.236, 270.874, 271.512, 272.15, 272.788, 273.426, 274.064, 274.702, 275.34, 275.978, 276.616, 277.254, 277.892, 278.53, 279.168, 279.806, 280.444, 281.082, 281.72, 282.358, 282.996, 283.634, 284.272, 284.91, 285.548, 286.186, 286.824, 287.462, 288.1, 288.738, 289.376, 290.014, 290.652, 291.29, 291.928, 292.566, 293.204, 293.842, 294.48, 295.118, 295.756, 296.394, 297.032, 297.67, 298.308, 298.946, 299.584, 300.222, 300.86, 301.498, 302.136, 302.774, 303.412, 304.05, 304.688, 305.326, 305.964, 306.602, 307.24, 307.878, 308.516, 309.154, 309.792, 310.43, 311.068, 311.706, 312.344, 312.982, 313.62, 314.258, 314.896, 315.534, 316.172, 316.81, 317.448, 318.086, 318.724, 319.362], \"xaxis\": \"x\", \"y\": [7.340863730517204e-06, 9.236607872210219e-06, 1.1536063449198076e-05, 1.4305848330542557e-05, 1.762006871878924e-05, 2.1560645790782975e-05, 2.621752703850297e-05, 3.1688720485115036e-05, 3.808008920142409e-05, 4.5504857173471725e-05, 5.40828073842138e-05, 6.393919743641213e-05, 7.520347215546119e-05, 8.800790872779882e-05, 0.00010248637942727353, 0.00011877345231463717, 0.0001370040668981204, 0.00015731401917038, 0.0001798414723486728, 0.0002047296825370558, 0.00023213109946802155, 0.00026221297637648433, 0.00029516460014812607, 0.00033120622704132716, 0.0003705997675947174, 0.0004136611881446805, 0.0004607744638327991, 0.00051240670803753, 0.000569123801036756, 0.0006316054446819265, 0.0007006580990205915, 0.0007772237585671725, 0.0008623820812920792, 0.0009573431067341937, 0.0010634278294429545, 0.0011820343719330495, 0.0013145885394740327, 0.0014624791784082164, 0.0016269809293891625, 0.0018091694554218504, 0.002009836676864262, 0.0022294154966672978, 0.0024679244470313297, 0.002724942198474364, 0.0029996196925477217, 0.003290733821956394, 0.0035967814553882196, 0.003916106878148768, 0.004247050308451507, 0.004588101031033476, 0.004938036708083605, 0.005296031101533401, 0.005661715831560903, 0.006035187464236465, 0.006416958291785778, 0.006807856493546631, 0.007208887745988567, 0.0076210747733969, 0.008045293164746876, 0.008482120887233515, 0.008931715662944024, 0.009393729506333754, 0.009867264240035869, 0.010350866724322415, 0.010842558669046836, 0.011339893715207059, 0.01184003402142852, 0.012339839512086918, 0.012835964595675483, 0.01332495879872222, 0.013803368742249125, 0.014267838862272042, 0.014715207283819485, 0.015142591727740169, 0.015547458956403965, 0.01592767080212993, 0.016281500844416888, 0.016607618503212334, 0.016905041414017826, 0.017173061728227027, 0.01741115645074072, 0.017618895077165325, 0.01779585885135853, 0.017941584587616678, 0.018055542358304286, 0.018137151069060144, 0.01818582997351807, 0.01820107856381957, 0.01818257294937524, 0.018130264465871713, 0.018044466129120213, 0.017925914563299467, 0.017775798749266727, 0.017595751675175655, 0.01738780593957319, 0.017154318798363315, 0.016897875459396867, 0.01662118125493872, 0.016326953587727677, 0.016017823435573664, 0.01569625408416802, 0.01536448209390296, 0.015024482730610203, 0.014677959543025898, 0.014326355663279052, 0.01397088283396849, 0.013612563140001564, 0.013252277924187195, 0.012890818367021111, 0.01252893268831762, 0.01216736584043231, 0.011806888827798456, 0.011448316266147842, 0.011092512295996337, 0.010740386275310916, 0.010392880605614488, 0.010050953473889603, 0.009715559200596295, 0.009387628359780856, 0.009068049052698729, 0.008757649884190564, 0.008457184512314121, 0.00816731725990999, 0.007888609248867653, 0.007621504808386435, 0.007366318405714273, 0.007123222895998555, 0.0068922403271652905, 0.006673236739874973, 0.006465922306386861, 0.006269857763532949, 0.006084467489710643, 0.005909058876522979, 0.005742846990687099, 0.005584983030786153, 0.005434584829089278, 0.005290767641658823, 0.005152673661288024, 0.005019498988189503, 0.004890517103953683, 0.004765098139179235, 0.004642723374943193, 0.0045229944967988085, 0.0044056371916671175, 0.004290498819739795, 0.004177540161320047, 0.004066821640789761, 0.003958484917619016, 0.003852731212404008, 0.0037497980917867817, 0.0036499365759497956, 0.0035533903117695048, 0.003460378193049087, 0.003371081283165575, 0.0032856343143481633, 0.0032041215108576143, 0.003126576090186279, 0.003052982571066906, 0.002983280949349486, 0.0029173718540146465, 0.0028551219206119434, 0.0027963687850076765, 0.0027409252926382417, 0.0026885827377308258, 0.0026391131934655997, 0.002592271253145891, 0.002547795736666514, 0.0025054120700121556, 0.0024648360599011194, 0.002425779622681978, 0.0023879586876927577, 0.0023511030310198688, 0.0023149672991857407, 0.0022793420685917835, 0.0022440635619467844, 0.002209020675569725, 0.0021741582709898792, 0.0021394761973587656, 0.0021050241344166645, 0.002070892951756981, 0.0020372037492914353, 0.0020040959924030556, 0.0019717161524427265, 0.0019402080331425112, 0.0019097055733992836, 0.0018803284558360724, 0.0018521804062543482, 0.0018253497091021817, 0.0017999112262321033, 0.0017759290990697534, 0.0017534593252086683, 0.0017325515066278557, 0.0017132492447003481, 0.001695588887140834, 0.0016795965969243363, 0.0016652839940265848, 0.001652642892146491, 0.0016416398810647523, 0.0016322116533149633, 0.0016242620071939863, 0.00161766135555177, 0.0016122493306442987, 0.0016078407226476719, 0.0016042345671649712, 0.001601225762409846, 0.0015986182100759829, 0.0015962381890652249, 0.001593946528592132, 0.0015916481698502226, 0.0015892978983884291, 0.001586901379824773, 0.0015845111096760237, 0.0015822174478161912, 0.0015801354888666898, 0.0015783890509190723, 0.0015770934730448601, 0.0015763391319006605, 0.001576177574655806, 0.0015766119058465598, 0.0015775925831346743, 0.0015790191310771982, 0.0015807475605128692, 0.0015826025852444614, 0.0015843931550883377, 0.0015859294532208673, 0.0015870393826773563, 0.0015875827010863443, 0.001587461326793366, 0.001586624875466356, 0.0015850711154595948, 0.0015828416650417868, 0.0015800138103159091, 0.0015766897282233974, 0.0015729846060919133, 0.0015690151385003082, 0.001564889666508952, 0.0015607008467593071, 0.0015565212660440216, 0.0015524019316392576, 0.0015483731496033072, 0.0015444470182638089, 0.001540620651359205, 0.0015368793102930203, 0.00153319883970482, 0.0015295471105689058, 0.0015258845115988596, 0.0015221638244838826, 0.0015183300167119747, 0.0015143205557121662, 0.0015100667846182619, 0.0015054967224543327, 0.001500539397336628, 0.001495130537067265, 0.001489219174463324, 0.0014827745153811775, 0.001475792294541402, 0.0014682998229300361, 0.001460359011715637, 0.0014520668296988698, 0.001443552892768711, 0.0014349741664769094, 0.0014265070553989188, 0.001418337424607227, 0.0014106493219419726, 0.0014036133229393098, 0.0013973754880241887, 0.001392047895665945, 0.0013877015945615687, 0.0013843626090252524, 0.0013820113494702538, 0.0013805854483004945, 0.0013799856941828837, 0.001380084415557887, 0.0013807354113121522, 0.0013817843824725086, 0.0013830788104678307, 0.0013844763613509508, 0.0013858511530735126, 0.00138709756260383, 0.0013881316130222358, 0.0013888903045552563, 0.0013893294832650416, 0.0013894209424717273, 0.0013891494175826034, 0.0013885099846008074, 0.0013875061470658375, 0.0013861486473145178, 0.0013844548169577866, 0.001382448129105738, 0.0013801575550021717, 0.0013776163649328462, 0.00137486013411051, 0.0013719238912053156, 0.0013688385443666239, 0.001365626899236182, 0.0013622997127916243, 0.001358852284044052, 0.0013552620607866993, 0.0013514876496838082, 0.001347469476615252, 0.0013431321831051796, 0.0013383886885820037, 0.0013331457137971275, 0.0013273104523402388, 0.001320797988918412, 0.0013135389852915133, 0.0013054870825888283, 0.0012966254085933582, 0.0012869715496513566, 0.001276580376095985, 0.0012655442221098554, 0.0012539901265812682, 0.0012420741291573293, 0.001229972949580646, 0.0012178737046492794, 0.0012059625763414484, 0.0011944134868965097, 0.0011833778344602552, 0.0011729761980174623, 0.0011632926625492048, 0.0011543720941777245, 0.001146220366995176, 0.0011388072585977894, 0.0011320715240736839, 0.0011259275414302952, 0.0011202728886680153, 0.0011149962436427443, 0.001109985066691765, 0.0011051326092482, 0.0011003438737631085, 0.0010955402257147714, 0.0010906624308445747, 0.001085671969083151, 0.001080550570919555, 0.0010752980386592292, 0.001069928553496106, 0.0010644658199985876, 0.0010589375439109228, 0.0010533698516951575, 0.0010477823130679187, 0.0010421841966961887, 0.001036572460825424, 0.0010309317588492741, 0.0010252364496111206, 0.0010194542884015654, 0.001013551195141308, 0.00100749631023531, 0.001001266501737697, 0.0009948495986834979, 0.0009882458789545418, 0.0009814676860843818, 0.0009745374142444564, 0.0009674844039625774, 0.0009603414661253347, 0.0009531417625341301, 0.0009459166218239449, 0.0009386946025554978, 0.0009315017999761526, 0.000924363106273695, 0.0009173039406503561, 0.0009103519016135711, 0.0009035378607454616, 0.0008968961840113133, 0.0008904639819097861, 0.0008842794971654234, 0.0008783798923549692, 0.0008727987747803121, 0.0008675637909897616, 0.0008626945576606795, 0.0008582010994479103, 0.0008540828690488098, 0.0008503283531938948, 0.0008469152303496914, 0.0008438110376703719, 0.0008409743120270012, 0.0008383561746103432, 0.0008359023152491452, 0.0008335552942222516, 0.0008312570204169692, 0.0008289512006779892, 0.0008265855087111238, 0.0008241132160716917, 0.0008214940784693762, 0.0008186943798658938, 0.0008156861894093431, 0.0008124460512422896, 0.0008089534647275725, 0.0008051895840726344, 0.0008011365456212935, 0.0007967777132446762, 0.0007920989366039688, 0.0007870906836794201, 0.0007817506894588189, 0.000776086607638502, 0.000770118098977225, 0.0007638778540029633, 0.000757411219369068, 0.0007507743438475257, 0.0007440310336565231, 0.0007372487535673447, 0.0007304943804955908, 0.0007238303742535181, 0.0007173119606617427, 0.0007109857343425627, 0.000704889814999991, 0.0006990553832739631, 0.0006935091412094907, 0.0006882760461255307, 0.0006833815978699393, 0.0006788530351963956, 0.0006747190041574452, 0.0006710075590960549, 0.0006677426857326369, 0.0006649398320045804, 0.0006626011414502344, 0.0006607111725489994, 0.0006592338477914352, 0.0006581112244980963, 0.0006572644483133174, 0.0006565969796203117, 0.000655999910748677, 0.0006553589482173094, 0.0006545624407930719, 0.0006535097047979366, 0.0006521188420763748, 0.0006503332696438141, 0.0006481262862966547, 0.0006455031875200184, 0.0006425006935744744, 0.0006391837523168554, 0.0006356400819523162, 0.0006319730857072026, 0.0006282939566062944, 0.0006247138620864432, 0.0006213370396578782, 0.0006182554548681182, 0.0006155454040270975, 0.0006132661368740095, 0.0006114602856351162, 0.0006101556672135572, 0.0006093679067015937, 0.0006091033197590194, 0.0006093615697371086, 0.0006101377447338013, 0.0006114236344843527, 0.0006132080872412171, 0.0006154763696162041, 0.0006182084380190301, 0.0006213759822819764, 0.0006249380608509034, 0.0006288351598097569, 0.0006329816168313144, 0.0006372565808805925, 0.0006414940283529405, 0.0006454727946431452, 0.0006489080437368579, 0.0006514459970583669, 0.0006526639694239845, 0.0006520777070013737, 0.0006491576036672741, 0.0006433545488684859, 0.0006341349632544252, 0.0006210231249253834, 0.0006036473812907145, 0.0005817855447898092, 0.0005554039700735172, 0.0005246847499052402, 0.0004900362865898315, 0.0004520841792867867, 0.00041164172262083494, 0.000369661988782871, 0.00032717601703348344, 0.00028522360733165494, 0.0002447842462493214, 0.00020671559407956758, 0.00017170575912619094, 0.00014024351479748526, 0.00011260806730508568, 8.887741169602483e-05, 6.895214397262093e-05, 5.259013380642298e-05, 3.94468478424415e-05, 2.911631834524846e-05, 2.11686063460722e-05, 1.5180859290354599e-05, 1.0760437982373602e-05, 7.559850534747392e-06, 5.284219246292864e-06, 3.6926430630733175e-06, 2.595104996522577e-06, 1.846568801004206e-06, 1.3397005002096768e-06, 9.973312826660798e-07, 7.654292268436918e-07, 6.070260762175975e-07, 4.972851054728491e-07, 4.197090207918841e-07, 3.6336966305335826e-07, 3.2098216608693356e-07, 2.876299916573956e-07], \"yaxis\": \"y\"}],\n",
              "                        {\"barmode\": \"overlay\", \"height\": 500, \"hovermode\": \"closest\", \"legend\": {\"traceorder\": \"reversed\"}, \"showlegend\": false, \"template\": {\"data\": {\"bar\": [{\"error_x\": {\"color\": \"#2a3f5f\"}, \"error_y\": {\"color\": \"#2a3f5f\"}, \"marker\": {\"line\": {\"color\": \"#E5ECF6\", \"width\": 0.5}}, \"type\": \"bar\"}], \"barpolar\": [{\"marker\": {\"line\": {\"color\": \"#E5ECF6\", \"width\": 0.5}}, \"type\": \"barpolar\"}], \"carpet\": [{\"aaxis\": {\"endlinecolor\": \"#2a3f5f\", \"gridcolor\": \"white\", \"linecolor\": \"white\", \"minorgridcolor\": \"white\", \"startlinecolor\": \"#2a3f5f\"}, \"baxis\": {\"endlinecolor\": \"#2a3f5f\", \"gridcolor\": \"white\", \"linecolor\": \"white\", \"minorgridcolor\": \"white\", \"startlinecolor\": \"#2a3f5f\"}, \"type\": \"carpet\"}], \"choropleth\": [{\"colorbar\": {\"outlinewidth\": 0, \"ticks\": \"\"}, \"type\": \"choropleth\"}], \"contour\": [{\"colorbar\": {\"outlinewidth\": 0, \"ticks\": \"\"}, \"colorscale\": [[0.0, \"#0d0887\"], [0.1111111111111111, \"#46039f\"], [0.2222222222222222, \"#7201a8\"], [0.3333333333333333, \"#9c179e\"], [0.4444444444444444, \"#bd3786\"], [0.5555555555555556, \"#d8576b\"], [0.6666666666666666, \"#ed7953\"], [0.7777777777777778, \"#fb9f3a\"], [0.8888888888888888, \"#fdca26\"], [1.0, \"#f0f921\"]], \"type\": \"contour\"}], \"contourcarpet\": [{\"colorbar\": {\"outlinewidth\": 0, \"ticks\": \"\"}, \"type\": \"contourcarpet\"}], \"heatmap\": [{\"colorbar\": {\"outlinewidth\": 0, \"ticks\": \"\"}, \"colorscale\": [[0.0, \"#0d0887\"], [0.1111111111111111, \"#46039f\"], [0.2222222222222222, \"#7201a8\"], [0.3333333333333333, \"#9c179e\"], [0.4444444444444444, \"#bd3786\"], [0.5555555555555556, \"#d8576b\"], [0.6666666666666666, \"#ed7953\"], [0.7777777777777778, \"#fb9f3a\"], [0.8888888888888888, \"#fdca26\"], [1.0, \"#f0f921\"]], \"type\": \"heatmap\"}], \"heatmapgl\": [{\"colorbar\": {\"outlinewidth\": 0, \"ticks\": \"\"}, \"colorscale\": [[0.0, \"#0d0887\"], [0.1111111111111111, \"#46039f\"], [0.2222222222222222, \"#7201a8\"], [0.3333333333333333, \"#9c179e\"], [0.4444444444444444, \"#bd3786\"], [0.5555555555555556, \"#d8576b\"], [0.6666666666666666, \"#ed7953\"], [0.7777777777777778, \"#fb9f3a\"], [0.8888888888888888, \"#fdca26\"], [1.0, \"#f0f921\"]], \"type\": \"heatmapgl\"}], \"histogram\": [{\"marker\": {\"colorbar\": {\"outlinewidth\": 0, \"ticks\": \"\"}}, \"type\": \"histogram\"}], \"histogram2d\": [{\"colorbar\": {\"outlinewidth\": 0, \"ticks\": \"\"}, \"colorscale\": [[0.0, \"#0d0887\"], [0.1111111111111111, \"#46039f\"], [0.2222222222222222, \"#7201a8\"], [0.3333333333333333, \"#9c179e\"], [0.4444444444444444, \"#bd3786\"], [0.5555555555555556, \"#d8576b\"], [0.6666666666666666, \"#ed7953\"], [0.7777777777777778, \"#fb9f3a\"], [0.8888888888888888, \"#fdca26\"], [1.0, \"#f0f921\"]], \"type\": \"histogram2d\"}], \"histogram2dcontour\": [{\"colorbar\": {\"outlinewidth\": 0, \"ticks\": \"\"}, \"colorscale\": [[0.0, \"#0d0887\"], [0.1111111111111111, \"#46039f\"], [0.2222222222222222, \"#7201a8\"], [0.3333333333333333, \"#9c179e\"], [0.4444444444444444, \"#bd3786\"], [0.5555555555555556, \"#d8576b\"], [0.6666666666666666, \"#ed7953\"], [0.7777777777777778, \"#fb9f3a\"], [0.8888888888888888, \"#fdca26\"], [1.0, \"#f0f921\"]], \"type\": \"histogram2dcontour\"}], \"mesh3d\": [{\"colorbar\": {\"outlinewidth\": 0, \"ticks\": \"\"}, \"type\": \"mesh3d\"}], \"parcoords\": [{\"line\": {\"colorbar\": {\"outlinewidth\": 0, \"ticks\": \"\"}}, \"type\": \"parcoords\"}], \"pie\": [{\"automargin\": true, \"type\": \"pie\"}], \"scatter\": [{\"marker\": {\"colorbar\": {\"outlinewidth\": 0, \"ticks\": \"\"}}, \"type\": \"scatter\"}], \"scatter3d\": [{\"line\": {\"colorbar\": {\"outlinewidth\": 0, \"ticks\": \"\"}}, \"marker\": {\"colorbar\": {\"outlinewidth\": 0, \"ticks\": \"\"}}, \"type\": \"scatter3d\"}], \"scattercarpet\": [{\"marker\": {\"colorbar\": {\"outlinewidth\": 0, \"ticks\": \"\"}}, \"type\": \"scattercarpet\"}], \"scattergeo\": [{\"marker\": {\"colorbar\": {\"outlinewidth\": 0, \"ticks\": \"\"}}, \"type\": \"scattergeo\"}], \"scattergl\": [{\"marker\": {\"colorbar\": {\"outlinewidth\": 0, \"ticks\": \"\"}}, \"type\": \"scattergl\"}], \"scattermapbox\": [{\"marker\": {\"colorbar\": {\"outlinewidth\": 0, \"ticks\": \"\"}}, \"type\": \"scattermapbox\"}], \"scatterpolar\": [{\"marker\": {\"colorbar\": {\"outlinewidth\": 0, \"ticks\": \"\"}}, \"type\": \"scatterpolar\"}], \"scatterpolargl\": [{\"marker\": {\"colorbar\": {\"outlinewidth\": 0, \"ticks\": \"\"}}, \"type\": \"scatterpolargl\"}], \"scatterternary\": [{\"marker\": {\"colorbar\": {\"outlinewidth\": 0, \"ticks\": \"\"}}, \"type\": \"scatterternary\"}], \"surface\": [{\"colorbar\": {\"outlinewidth\": 0, \"ticks\": \"\"}, \"colorscale\": [[0.0, \"#0d0887\"], [0.1111111111111111, \"#46039f\"], [0.2222222222222222, \"#7201a8\"], [0.3333333333333333, \"#9c179e\"], [0.4444444444444444, \"#bd3786\"], [0.5555555555555556, \"#d8576b\"], [0.6666666666666666, \"#ed7953\"], [0.7777777777777778, \"#fb9f3a\"], [0.8888888888888888, \"#fdca26\"], [1.0, \"#f0f921\"]], \"type\": \"surface\"}], \"table\": [{\"cells\": {\"fill\": {\"color\": \"#EBF0F8\"}, \"line\": {\"color\": \"white\"}}, \"header\": {\"fill\": {\"color\": \"#C8D4E3\"}, \"line\": {\"color\": \"white\"}}, \"type\": \"table\"}]}, \"layout\": {\"annotationdefaults\": {\"arrowcolor\": \"#2a3f5f\", \"arrowhead\": 0, \"arrowwidth\": 1}, \"coloraxis\": {\"colorbar\": {\"outlinewidth\": 0, \"ticks\": \"\"}}, \"colorscale\": {\"diverging\": [[0, \"#8e0152\"], [0.1, \"#c51b7d\"], [0.2, \"#de77ae\"], [0.3, \"#f1b6da\"], [0.4, \"#fde0ef\"], [0.5, \"#f7f7f7\"], [0.6, \"#e6f5d0\"], [0.7, \"#b8e186\"], [0.8, \"#7fbc41\"], [0.9, \"#4d9221\"], [1, \"#276419\"]], \"sequential\": [[0.0, \"#0d0887\"], [0.1111111111111111, \"#46039f\"], [0.2222222222222222, \"#7201a8\"], [0.3333333333333333, \"#9c179e\"], [0.4444444444444444, \"#bd3786\"], [0.5555555555555556, \"#d8576b\"], [0.6666666666666666, \"#ed7953\"], [0.7777777777777778, \"#fb9f3a\"], [0.8888888888888888, \"#fdca26\"], [1.0, \"#f0f921\"]], \"sequentialminus\": [[0.0, \"#0d0887\"], [0.1111111111111111, \"#46039f\"], [0.2222222222222222, \"#7201a8\"], [0.3333333333333333, \"#9c179e\"], [0.4444444444444444, \"#bd3786\"], [0.5555555555555556, \"#d8576b\"], [0.6666666666666666, \"#ed7953\"], [0.7777777777777778, \"#fb9f3a\"], [0.8888888888888888, \"#fdca26\"], [1.0, \"#f0f921\"]]}, \"colorway\": [\"#636efa\", \"#EF553B\", \"#00cc96\", \"#ab63fa\", \"#FFA15A\", \"#19d3f3\", \"#FF6692\", \"#B6E880\", \"#FF97FF\", \"#FECB52\"], \"font\": {\"color\": \"#2a3f5f\"}, \"geo\": {\"bgcolor\": \"white\", \"lakecolor\": \"white\", \"landcolor\": \"#E5ECF6\", \"showlakes\": true, \"showland\": true, \"subunitcolor\": \"white\"}, \"hoverlabel\": {\"align\": \"left\"}, \"hovermode\": \"closest\", \"mapbox\": {\"style\": \"light\"}, \"paper_bgcolor\": \"white\", \"plot_bgcolor\": \"#E5ECF6\", \"polar\": {\"angularaxis\": {\"gridcolor\": \"white\", \"linecolor\": \"white\", \"ticks\": \"\"}, \"bgcolor\": \"#E5ECF6\", \"radialaxis\": {\"gridcolor\": \"white\", \"linecolor\": \"white\", \"ticks\": \"\"}}, \"scene\": {\"xaxis\": {\"backgroundcolor\": \"#E5ECF6\", \"gridcolor\": \"white\", \"gridwidth\": 2, \"linecolor\": \"white\", \"showbackground\": true, \"ticks\": \"\", \"zerolinecolor\": \"white\"}, \"yaxis\": {\"backgroundcolor\": \"#E5ECF6\", \"gridcolor\": \"white\", \"gridwidth\": 2, \"linecolor\": \"white\", \"showbackground\": true, \"ticks\": \"\", \"zerolinecolor\": \"white\"}, \"zaxis\": {\"backgroundcolor\": \"#E5ECF6\", \"gridcolor\": \"white\", \"gridwidth\": 2, \"linecolor\": \"white\", \"showbackground\": true, \"ticks\": \"\", \"zerolinecolor\": \"white\"}}, \"shapedefaults\": {\"line\": {\"color\": \"#2a3f5f\"}}, \"ternary\": {\"aaxis\": {\"gridcolor\": \"white\", \"linecolor\": \"white\", \"ticks\": \"\"}, \"baxis\": {\"gridcolor\": \"white\", \"linecolor\": \"white\", \"ticks\": \"\"}, \"bgcolor\": \"#E5ECF6\", \"caxis\": {\"gridcolor\": \"white\", \"linecolor\": \"white\", \"ticks\": \"\"}}, \"title\": {\"x\": 0.05}, \"xaxis\": {\"automargin\": true, \"gridcolor\": \"white\", \"linecolor\": \"white\", \"ticks\": \"\", \"title\": {\"standoff\": 15}, \"zerolinecolor\": \"white\", \"zerolinewidth\": 2}, \"yaxis\": {\"automargin\": true, \"gridcolor\": \"white\", \"linecolor\": \"white\", \"ticks\": \"\", \"title\": {\"standoff\": 15}, \"zerolinecolor\": \"white\", \"zerolinewidth\": 2}}}, \"title\": {\"text\": \"PDF\", \"x\": 0.5, \"xanchor\": \"center\", \"y\": 0.9, \"yanchor\": \"top\"}, \"width\": 500, \"xaxis\": {\"anchor\": \"y2\", \"domain\": [0.0, 1.0], \"title\": {\"text\": \"Length of a headline\"}, \"zeroline\": false}, \"yaxis\": {\"anchor\": \"free\", \"domain\": [0.0, 1], \"position\": 0.0, \"title\": {\"text\": \"probability\"}}},\n",
              "                        {\"responsive\": true}\n",
              "                    ).then(function(){\n",
              "                            \n",
              "var gd = document.getElementById('9c7593df-4e77-4816-b95a-6db463c7c604');\n",
              "var x = new MutationObserver(function (mutations, observer) {{\n",
              "        var display = window.getComputedStyle(gd).display;\n",
              "        if (!display || display === 'none') {{\n",
              "            console.log([gd, 'removed!']);\n",
              "            Plotly.purge(gd);\n",
              "            observer.disconnect();\n",
              "        }}\n",
              "}});\n",
              "\n",
              "// Listen for the removal of the full notebook cells\n",
              "var notebookContainer = gd.closest('#notebook-container');\n",
              "if (notebookContainer) {{\n",
              "    x.observe(notebookContainer, {childList: true});\n",
              "}}\n",
              "\n",
              "// Listen for the clearing of the current output cell\n",
              "var outputEl = gd.closest('.output');\n",
              "if (outputEl) {{\n",
              "    x.observe(outputEl, {childList: true});\n",
              "}}\n",
              "\n",
              "                        })\n",
              "                };\n",
              "                \n",
              "            </script>\n",
              "        </div>\n",
              "</body>\n",
              "</html>"
            ]
          },
          "metadata": {
            "tags": []
          }
        }
      ]
    },
    {
      "cell_type": "markdown",
      "metadata": {
        "id": "AwXprm2j0tD5"
      },
      "source": [
        "From the above graph, we can clearly see that on an average, the length of news headlines is between 0-100(55 having the highest probability)."
      ]
    },
    {
      "cell_type": "markdown",
      "metadata": {
        "id": "3pTxmMkd0tD6"
      },
      "source": [
        "# Data Preprocessing and Feature Selection"
      ]
    },
    {
      "cell_type": "code",
      "metadata": {
        "colab": {
          "base_uri": "https://localhost:8080/",
          "height": 202
        },
        "id": "ovAItFeY0tD6",
        "outputId": "28595bbf-7e8c-48e0-dca0-79ca90d4a613"
      },
      "source": [
        "#removing the unnecessary columns \n",
        "df=df.drop(['time_created','date_created','down_votes','over_18','category'],axis=1)\n",
        "df.head()"
      ],
      "execution_count": 19,
      "outputs": [
        {
          "output_type": "execute_result",
          "data": {
            "text/html": [
              "<div>\n",
              "<style scoped>\n",
              "    .dataframe tbody tr th:only-of-type {\n",
              "        vertical-align: middle;\n",
              "    }\n",
              "\n",
              "    .dataframe tbody tr th {\n",
              "        vertical-align: top;\n",
              "    }\n",
              "\n",
              "    .dataframe thead th {\n",
              "        text-align: right;\n",
              "    }\n",
              "</style>\n",
              "<table border=\"1\" class=\"dataframe\">\n",
              "  <thead>\n",
              "    <tr style=\"text-align: right;\">\n",
              "      <th></th>\n",
              "      <th>up_votes</th>\n",
              "      <th>title</th>\n",
              "      <th>author</th>\n",
              "    </tr>\n",
              "  </thead>\n",
              "  <tbody>\n",
              "    <tr>\n",
              "      <th>0</th>\n",
              "      <td>3</td>\n",
              "      <td>Scores killed in Pakistan clashes</td>\n",
              "      <td>polar</td>\n",
              "    </tr>\n",
              "    <tr>\n",
              "      <th>1</th>\n",
              "      <td>2</td>\n",
              "      <td>Japan resumes refuelling mission</td>\n",
              "      <td>polar</td>\n",
              "    </tr>\n",
              "    <tr>\n",
              "      <th>2</th>\n",
              "      <td>3</td>\n",
              "      <td>US presses Egypt on Gaza border</td>\n",
              "      <td>polar</td>\n",
              "    </tr>\n",
              "    <tr>\n",
              "      <th>3</th>\n",
              "      <td>1</td>\n",
              "      <td>Jump-start economy: Give health care to all</td>\n",
              "      <td>fadi420</td>\n",
              "    </tr>\n",
              "    <tr>\n",
              "      <th>4</th>\n",
              "      <td>4</td>\n",
              "      <td>Council of Europe bashes EU&amp;UN terror blacklist</td>\n",
              "      <td>mhermans</td>\n",
              "    </tr>\n",
              "  </tbody>\n",
              "</table>\n",
              "</div>"
            ],
            "text/plain": [
              "   up_votes                                            title    author\n",
              "0         3                Scores killed in Pakistan clashes     polar\n",
              "1         2                 Japan resumes refuelling mission     polar\n",
              "2         3                  US presses Egypt on Gaza border     polar\n",
              "3         1     Jump-start economy: Give health care to all    fadi420\n",
              "4         4  Council of Europe bashes EU&UN terror blacklist  mhermans"
            ]
          },
          "metadata": {
            "tags": []
          },
          "execution_count": 19
        }
      ]
    },
    {
      "cell_type": "code",
      "metadata": {
        "colab": {
          "base_uri": "https://localhost:8080/"
        },
        "id": "5W4uJkaT0tD7",
        "outputId": "642bb137-7776-408d-b9c3-50985dcda11b"
      },
      "source": [
        "#Chceking for null values for the dataset\n",
        "df.isna().sum()"
      ],
      "execution_count": 20,
      "outputs": [
        {
          "output_type": "execute_result",
          "data": {
            "text/plain": [
              "up_votes    0\n",
              "title       0\n",
              "author      0\n",
              "dtype: int64"
            ]
          },
          "metadata": {
            "tags": []
          },
          "execution_count": 20
        }
      ]
    },
    {
      "cell_type": "code",
      "metadata": {
        "id": "mFBdFzje0tD7"
      },
      "source": [
        "#storing the news headlines in an array for applying further preprocessing\n",
        "sentences=df['title']"
      ],
      "execution_count": 21,
      "outputs": []
    },
    {
      "cell_type": "markdown",
      "metadata": {
        "id": "R0JIyfGn0tD8"
      },
      "source": [
        "In the following cell, the basic preprocessing has been done. And stored in a new csv(pre_pro_text.csv) file, so that the following code block does not have to be run again and again. Since the dataset is quite large, and thus takes a considerable amount of time."
      ]
    },
    {
      "cell_type": "code",
      "metadata": {
        "id": "-XC-KdlJ0tD8"
      },
      "source": [
        "corpus = []\n",
        "for i in range(0, len(sentences)):\n",
        "    review = re.sub('[^a-zA-Z]', ' ', sentences[i]) #keeping only alphabets and removing all other characters \n",
        "    review = review.lower() #converting to lowercase\n",
        "    review = review.split()\n",
        "    \n",
        "    review = [ls.lemmatize(word) for word in review if not word in stopwords.words('english')] #performing lemmatisation\n",
        "    review = ' '.join(review)\n",
        "    corpus.append(review) #appending to the array corpus"
      ],
      "execution_count": null,
      "outputs": []
    },
    {
      "cell_type": "code",
      "metadata": {
        "id": "Le5iXaBx0tD9"
      },
      "source": [
        "#Saving the preprocesed text in the csv file\n",
        "corpus=pd.DataFrame(corpus)\n",
        "corpus.to_csv('pre_pro_text.csv')"
      ],
      "execution_count": null,
      "outputs": []
    },
    {
      "cell_type": "code",
      "metadata": {
        "colab": {
          "base_uri": "https://localhost:8080/",
          "height": 202
        },
        "id": "3f0ocx5H0tD-",
        "outputId": "cf272e92-7ae0-43f7-ffed-359f197f6792"
      },
      "source": [
        "#Loading the data of pre-processed text obtained from the above cell.\n",
        "corpus_sheet=pd.read_csv('pre_pro_text.csv')\n",
        "corpus_sheet.head()"
      ],
      "execution_count": 22,
      "outputs": [
        {
          "output_type": "execute_result",
          "data": {
            "text/html": [
              "<div>\n",
              "<style scoped>\n",
              "    .dataframe tbody tr th:only-of-type {\n",
              "        vertical-align: middle;\n",
              "    }\n",
              "\n",
              "    .dataframe tbody tr th {\n",
              "        vertical-align: top;\n",
              "    }\n",
              "\n",
              "    .dataframe thead th {\n",
              "        text-align: right;\n",
              "    }\n",
              "</style>\n",
              "<table border=\"1\" class=\"dataframe\">\n",
              "  <thead>\n",
              "    <tr style=\"text-align: right;\">\n",
              "      <th></th>\n",
              "      <th>Unnamed: 0</th>\n",
              "      <th>0</th>\n",
              "    </tr>\n",
              "  </thead>\n",
              "  <tbody>\n",
              "    <tr>\n",
              "      <th>0</th>\n",
              "      <td>0</td>\n",
              "      <td>score killed pakistan clash</td>\n",
              "    </tr>\n",
              "    <tr>\n",
              "      <th>1</th>\n",
              "      <td>1</td>\n",
              "      <td>japan resume refuelling mission</td>\n",
              "    </tr>\n",
              "    <tr>\n",
              "      <th>2</th>\n",
              "      <td>2</td>\n",
              "      <td>u press egypt gaza border</td>\n",
              "    </tr>\n",
              "    <tr>\n",
              "      <th>3</th>\n",
              "      <td>3</td>\n",
              "      <td>jump start economy give health care</td>\n",
              "    </tr>\n",
              "    <tr>\n",
              "      <th>4</th>\n",
              "      <td>4</td>\n",
              "      <td>council europe bash eu un terror blacklist</td>\n",
              "    </tr>\n",
              "  </tbody>\n",
              "</table>\n",
              "</div>"
            ],
            "text/plain": [
              "   Unnamed: 0                                           0\n",
              "0           0                 score killed pakistan clash\n",
              "1           1             japan resume refuelling mission\n",
              "2           2                   u press egypt gaza border\n",
              "3           3         jump start economy give health care\n",
              "4           4  council europe bash eu un terror blacklist"
            ]
          },
          "metadata": {
            "tags": []
          },
          "execution_count": 22
        }
      ]
    },
    {
      "cell_type": "code",
      "metadata": {
        "id": "h-u3mR3L0tD_"
      },
      "source": [
        "#Adding the upvotes column to the dataset for further use\n",
        "corpus_sheet['upvotes']=df['up_votes']"
      ],
      "execution_count": 23,
      "outputs": []
    },
    {
      "cell_type": "code",
      "metadata": {
        "id": "bgnG5nWx0tEA"
      },
      "source": [
        "#removing the extra column\n",
        "corpus_sheet=corpus_sheet.drop('Unnamed: 0',axis=1)"
      ],
      "execution_count": 24,
      "outputs": []
    },
    {
      "cell_type": "code",
      "metadata": {
        "colab": {
          "base_uri": "https://localhost:8080/",
          "height": 202
        },
        "id": "B8QHVN9R0tEA",
        "outputId": "285bb019-97ff-49ce-b691-34c1fc4363f4"
      },
      "source": [
        "#Renaming the headline column\n",
        "corpus_sheet=corpus_sheet.rename(columns={'0':'headline'})\n",
        "corpus_sheet.head()"
      ],
      "execution_count": 25,
      "outputs": [
        {
          "output_type": "execute_result",
          "data": {
            "text/html": [
              "<div>\n",
              "<style scoped>\n",
              "    .dataframe tbody tr th:only-of-type {\n",
              "        vertical-align: middle;\n",
              "    }\n",
              "\n",
              "    .dataframe tbody tr th {\n",
              "        vertical-align: top;\n",
              "    }\n",
              "\n",
              "    .dataframe thead th {\n",
              "        text-align: right;\n",
              "    }\n",
              "</style>\n",
              "<table border=\"1\" class=\"dataframe\">\n",
              "  <thead>\n",
              "    <tr style=\"text-align: right;\">\n",
              "      <th></th>\n",
              "      <th>headline</th>\n",
              "      <th>upvotes</th>\n",
              "    </tr>\n",
              "  </thead>\n",
              "  <tbody>\n",
              "    <tr>\n",
              "      <th>0</th>\n",
              "      <td>score killed pakistan clash</td>\n",
              "      <td>3</td>\n",
              "    </tr>\n",
              "    <tr>\n",
              "      <th>1</th>\n",
              "      <td>japan resume refuelling mission</td>\n",
              "      <td>2</td>\n",
              "    </tr>\n",
              "    <tr>\n",
              "      <th>2</th>\n",
              "      <td>u press egypt gaza border</td>\n",
              "      <td>3</td>\n",
              "    </tr>\n",
              "    <tr>\n",
              "      <th>3</th>\n",
              "      <td>jump start economy give health care</td>\n",
              "      <td>1</td>\n",
              "    </tr>\n",
              "    <tr>\n",
              "      <th>4</th>\n",
              "      <td>council europe bash eu un terror blacklist</td>\n",
              "      <td>4</td>\n",
              "    </tr>\n",
              "  </tbody>\n",
              "</table>\n",
              "</div>"
            ],
            "text/plain": [
              "                                     headline  upvotes\n",
              "0                 score killed pakistan clash        3\n",
              "1             japan resume refuelling mission        2\n",
              "2                   u press egypt gaza border        3\n",
              "3         jump start economy give health care        1\n",
              "4  council europe bash eu un terror blacklist        4"
            ]
          },
          "metadata": {
            "tags": []
          },
          "execution_count": 25
        }
      ]
    },
    {
      "cell_type": "code",
      "metadata": {
        "colab": {
          "base_uri": "https://localhost:8080/"
        },
        "id": "gY5FUKOk0tEB",
        "outputId": "20a48c8a-4f19-4084-9c3a-80a008476ed7"
      },
      "source": [
        "#Loading the dataset column of newsheadline into corpus array\n",
        "corpus=corpus_sheet['headline']\n",
        "corpus"
      ],
      "execution_count": 26,
      "outputs": [
        {
          "output_type": "execute_result",
          "data": {
            "text/plain": [
              "0                               score killed pakistan clash\n",
              "1                           japan resume refuelling mission\n",
              "2                                 u press egypt gaza border\n",
              "3                       jump start economy give health care\n",
              "4                council europe bash eu un terror blacklist\n",
              "                                ...                        \n",
              "509231    heil trump donald trump alt right white nation...\n",
              "509232            people speculating could madeleine mccann\n",
              "509233             professor receives arab researcher award\n",
              "509234    nigel farage attack response trump ambassador ...\n",
              "509235    palestinian wielding knife shot dead west bank...\n",
              "Name: headline, Length: 509236, dtype: object"
            ]
          },
          "metadata": {
            "tags": []
          },
          "execution_count": 26
        }
      ]
    },
    {
      "cell_type": "code",
      "metadata": {
        "id": "xnKIopeE0tEC"
      },
      "source": [
        "#Making a dictionary of words present in the whole dataset for analysis\n",
        "\n",
        "words_dic=[]\n",
        "for row in range(0,509236):\n",
        "    line=str(corpus_sheet['headline'][row])\n",
        "    line=line.split(\" \")\n",
        "    for word in line:\n",
        "        words_dic.append(word)"
      ],
      "execution_count": 27,
      "outputs": []
    },
    {
      "cell_type": "code",
      "metadata": {
        "colab": {
          "base_uri": "https://localhost:8080/"
        },
        "id": "bBqL-gby0tEC",
        "outputId": "b236f28c-93b6-4854-cda9-7b2a5a7109d0"
      },
      "source": [
        "#lenth of whole dictionary\n",
        "len(words_dic)"
      ],
      "execution_count": 28,
      "outputs": [
        {
          "output_type": "execute_result",
          "data": {
            "text/plain": [
              "5109123"
            ]
          },
          "metadata": {
            "tags": []
          },
          "execution_count": 28
        }
      ]
    },
    {
      "cell_type": "code",
      "metadata": {
        "colab": {
          "base_uri": "https://localhost:8080/"
        },
        "id": "XocPD2J30tED",
        "outputId": "274334ef-7433-4831-c8ed-98b84afa7843"
      },
      "source": [
        "#printing 4 elements of the word dictionary\n",
        "words_dic[0:4]"
      ],
      "execution_count": 29,
      "outputs": [
        {
          "output_type": "execute_result",
          "data": {
            "text/plain": [
              "['score', 'killed', 'pakistan', 'clash']"
            ]
          },
          "metadata": {
            "tags": []
          },
          "execution_count": 29
        }
      ]
    },
    {
      "cell_type": "code",
      "metadata": {
        "colab": {
          "base_uri": "https://localhost:8080/"
        },
        "id": "jvGR40bX0tED",
        "outputId": "99a96a87-9244-427e-9753-bd36b1a4148c"
      },
      "source": [
        "#making the word count dictionary, which stores the frequecy of the words occurring\n",
        "word_count={}\n",
        "for word in words_dic:\n",
        "    if word in word_count.keys():\n",
        "        word_count[word]+=1\n",
        "    else:\n",
        "        word_count[word]=1\n",
        "word_count"
      ],
      "execution_count": 30,
      "outputs": [
        {
          "output_type": "execute_result",
          "data": {
            "text/plain": [
              "{'score': 607,\n",
              " 'killed': 14329,\n",
              " 'pakistan': 8469,\n",
              " 'clash': 3274,\n",
              " 'japan': 8740,\n",
              " 'resume': 656,\n",
              " 'refuelling': 14,\n",
              " 'mission': 1796,\n",
              " 'u': 46329,\n",
              " 'press': 1732,\n",
              " 'egypt': 8325,\n",
              " 'gaza': 6574,\n",
              " 'border': 6084,\n",
              " 'jump': 329,\n",
              " 'start': 2230,\n",
              " 'economy': 2855,\n",
              " 'give': 2953,\n",
              " 'health': 2597,\n",
              " 'care': 723,\n",
              " 'council': 2159,\n",
              " 'europe': 5966,\n",
              " 'bash': 49,\n",
              " 'eu': 8794,\n",
              " 'un': 10133,\n",
              " 'terror': 4366,\n",
              " 'blacklist': 180,\n",
              " 'hay': 22,\n",
              " 'presto': 1,\n",
              " 'farmer': 1030,\n",
              " 'unveils': 533,\n",
              " 'illegal': 2259,\n",
              " 'mock': 236,\n",
              " 'tudor': 6,\n",
              " 'castle': 92,\n",
              " 'tried': 945,\n",
              " 'hide': 290,\n",
              " 'behind': 2119,\n",
              " 'ft': 251,\n",
              " 'bale': 17,\n",
              " 'strike': 7647,\n",
              " 'protest': 10793,\n",
              " 'gridlock': 26,\n",
              " 'poland': 1249,\n",
              " 'ukraine': 10477,\n",
              " 'n': 5257,\n",
              " 'mismanagement': 37,\n",
              " 'program': 1733,\n",
              " 'nicolas': 368,\n",
              " 'sarkozy': 605,\n",
              " 'threatens': 2249,\n",
              " 'sue': 888,\n",
              " 'ryanair': 71,\n",
              " 'plan': 7670,\n",
              " 'missile': 4433,\n",
              " 'shield': 478,\n",
              " 'polish': 752,\n",
              " 'town': 3342,\n",
              " 'met': 554,\n",
              " 'resistance': 487,\n",
              " 'video': 5700,\n",
              " 'archbishop': 218,\n",
              " 'canterbury': 60,\n",
              " 'call': 8187,\n",
              " 'new': 23389,\n",
              " 'law': 6895,\n",
              " 'punish': 216,\n",
              " 'thoughtless': 1,\n",
              " 'cruel': 92,\n",
              " 'word': 774,\n",
              " 'time': 8243,\n",
              " 'online': 2292,\n",
              " 'top': 5179,\n",
              " 'envoy': 1135,\n",
              " 'violence': 4205,\n",
              " 'kenya': 1389,\n",
              " 'ethnic': 733,\n",
              " 'cleansing': 166,\n",
              " 'team': 1702,\n",
              " 'building': 2564,\n",
              " 'float': 88,\n",
              " 'commemorate': 67,\n",
              " 'holocaust': 734,\n",
              " 'rio': 1143,\n",
              " 'de': 882,\n",
              " 'jinero': 1,\n",
              " 'one': 9712,\n",
              " 'hell': 386,\n",
              " 'idea': 579,\n",
              " 'migrant': 3920,\n",
              " 'worker': 3862,\n",
              " 'told': 2042,\n",
              " 'abandon': 359,\n",
              " 'lunar': 110,\n",
              " 'year': 21192,\n",
              " 'holiday': 425,\n",
              " 'girlfriend': 201,\n",
              " 'ad': 501,\n",
              " 'angela': 603,\n",
              " 'merkel': 1742,\n",
              " 'confirm': 367,\n",
              " 'opposition': 4276,\n",
              " 'turkey': 8263,\n",
              " 'membership': 385,\n",
              " 'mass': 2635,\n",
              " 'evacuation': 449,\n",
              " 'continue': 1462,\n",
              " 'poor': 1269,\n",
              " 'haitian': 237,\n",
              " 'resort': 433,\n",
              " 'eating': 418,\n",
              " 'dirt': 42,\n",
              " 'european': 5265,\n",
              " 'commission': 1081,\n",
              " 'take': 5930,\n",
              " 'greece': 3117,\n",
              " 'court': 9013,\n",
              " 'environment': 695,\n",
              " 'infringement': 78,\n",
              " 'rambo': 11,\n",
              " 'banned': 1495,\n",
              " 'burma': 604,\n",
              " 'possible': 1874,\n",
              " 'guantanamo': 654,\n",
              " 'uk': 11799,\n",
              " 'soil': 296,\n",
              " 'say': 32919,\n",
              " 'societe': 4,\n",
              " 'generale': 5,\n",
              " 'executive': 808,\n",
              " 'go': 4245,\n",
              " 'meet': 2163,\n",
              " 'leader': 11644,\n",
              " 'united': 4184,\n",
              " 'arab': 3316,\n",
              " 'emirate': 376,\n",
              " 'spain': 2620,\n",
              " 'germany': 6089,\n",
              " 'urge': 2623,\n",
              " 'tackle': 546,\n",
              " 'economic': 2661,\n",
              " 'slowdown': 123,\n",
              " 'prisa': 2,\n",
              " 'lagardere': 1,\n",
              " 'mln': 111,\n",
              " 'control': 2996,\n",
              " 'le': 1505,\n",
              " 'monde': 56,\n",
              " 'worry': 501,\n",
              " 'shrhldrs': 1,\n",
              " 'taliban': 3664,\n",
              " 'nato': 3552,\n",
              " 'supply': 1556,\n",
              " 'line': 1546,\n",
              " 'news': 11501,\n",
              " 'story': 1606,\n",
              " 'reject': 2091,\n",
              " 'troop': 5747,\n",
              " 'request': 985,\n",
              " 'southern': 1953,\n",
              " 'afghanistan': 4632,\n",
              " 'secret': 3016,\n",
              " 'cia': 1474,\n",
              " 'flight': 2993,\n",
              " 'greenland': 201,\n",
              " 'reported': 2138,\n",
              " 'denmark': 653,\n",
              " 'pissed': 34,\n",
              " 'investigate': 698,\n",
              " 'decline': 585,\n",
              " 'comment': 1131,\n",
              " 'microsoft': 460,\n",
              " 'yahoo': 540,\n",
              " 'ready': 1979,\n",
              " 'independent': 864,\n",
              " 'kosovo': 406,\n",
              " 'going': 1575,\n",
              " 'eastern': 2246,\n",
              " 'cape': 142,\n",
              " 'carla': 36,\n",
              " 'bruni': 25,\n",
              " 'marry': 269,\n",
              " 'war': 13278,\n",
              " 'erupts': 441,\n",
              " 'chad': 230,\n",
              " 'rebel': 7852,\n",
              " 'storm': 1781,\n",
              " 'capital': 3492,\n",
              " 'overwhelm': 16,\n",
              " 'government': 17014,\n",
              " 'force': 10753,\n",
              " 'nero': 3,\n",
              " 'like': 3444,\n",
              " 'brown': 366,\n",
              " 'confirms': 1171,\n",
              " 'king': 1448,\n",
              " 'last': 5121,\n",
              " 'tony': 903,\n",
              " 'blair': 596,\n",
              " 'old': 5601,\n",
              " 'ally': 1485,\n",
              " 'bid': 1811,\n",
              " 'job': 1741,\n",
              " 'child': 8511,\n",
              " 'torched': 150,\n",
              " 'royal': 1043,\n",
              " 'bank': 7256,\n",
              " 'scotland': 994,\n",
              " 'denies': 1347,\n",
              " 'liability': 81,\n",
              " 'stolen': 892,\n",
              " 'escrow': 3,\n",
              " 'monies': 2,\n",
              " 'drug': 5297,\n",
              " 'work': 2847,\n",
              " 'gazprom': 189,\n",
              " 'pm': 4980,\n",
              " 'zubkov': 1,\n",
              " 'running': 996,\n",
              " 'board': 818,\n",
              " 'honeymoon': 35,\n",
              " 'steelworks': 6,\n",
              " 'babacan': 4,\n",
              " 'vow': 1697,\n",
              " 'surprise': 534,\n",
              " 'wave': 1104,\n",
              " 'reform': 1666,\n",
              " 'six': 2481,\n",
              " 'israeli': 10220,\n",
              " 'airstrike': 731,\n",
              " 'hamas': 3118,\n",
              " 'base': 2416,\n",
              " 'kenyan': 654,\n",
              " 'school': 3692,\n",
              " 'teacher': 965,\n",
              " 'attacked': 1585,\n",
              " 'underwater': 218,\n",
              " 'cable': 650,\n",
              " 'damage': 1148,\n",
              " 'still': 3152,\n",
              " 'disrupts': 70,\n",
              " 'internet': 3399,\n",
              " 'access': 1510,\n",
              " 'across': 2682,\n",
              " 'middle': 2356,\n",
              " 'east': 4155,\n",
              " 'asia': 1710,\n",
              " 'strip': 814,\n",
              " 'searched': 106,\n",
              " 'meeting': 1876,\n",
              " 'man': 7662,\n",
              " 'starbucks': 100,\n",
              " 'cut': 3534,\n",
              " 'undersea': 103,\n",
              " 'total': 781,\n",
              " 'five': 3359,\n",
              " 'pair': 214,\n",
              " 'win': 2691,\n",
              " 'case': 5172,\n",
              " 'russia': 18773,\n",
              " 'iranian': 4158,\n",
              " 'test': 3122,\n",
              " 'week': 4551,\n",
              " 'raised': 496,\n",
              " 'suspicion': 503,\n",
              " 'true': 370,\n",
              " 'nuclear': 10096,\n",
              " 'ambition': 191,\n",
              " 'al': 8540,\n",
              " 'qaida': 690,\n",
              " 'iraq': 8354,\n",
              " 'using': 2429,\n",
              " 'iran': 15834,\n",
              " 'packet': 37,\n",
              " 'loss': 938,\n",
              " 'website': 1426,\n",
              " 'load': 65,\n",
              " 'also': 1840,\n",
              " 'interesting': 179,\n",
              " 'steadily': 28,\n",
              " 'unravelling': 18,\n",
              " 'historic': 1000,\n",
              " 'arm': 2861,\n",
              " 'treaty': 809,\n",
              " 'ended': 356,\n",
              " 'cold': 814,\n",
              " 'became': 380,\n",
              " 'cornerstone': 16,\n",
              " 'security': 7362,\n",
              " 'roman': 423,\n",
              " 'nikolaichik': 1,\n",
              " 'critic': 804,\n",
              " 'vladimir': 1320,\n",
              " 'putin': 5907,\n",
              " 'sent': 1313,\n",
              " 'mental': 265,\n",
              " 'hospital': 2449,\n",
              " 'multiple': 427,\n",
              " 'impeachment': 206,\n",
              " 'resolution': 956,\n",
              " 'pas': 511,\n",
              " 'minnesota': 32,\n",
              " 'democratic': 720,\n",
              " 'party': 5552,\n",
              " 'precinct': 11,\n",
              " 'caucus': 22,\n",
              " 'hyperurbanization': 1,\n",
              " 'china': 26405,\n",
              " 'israel': 16076,\n",
              " 'fence': 278,\n",
              " 'france': 6335,\n",
              " 'may': 8187,\n",
              " 'militarily': 48,\n",
              " 'intervene': 219,\n",
              " 'necessary': 261,\n",
              " 'union': 2760,\n",
              " 'hold': 2547,\n",
              " 'talk': 6371,\n",
              " 'world': 18244,\n",
              " 'financial': 1642,\n",
              " 'crisis': 6746,\n",
              " 'q': 156,\n",
              " 'rebellion': 182,\n",
              " 'japanese': 2733,\n",
              " 'defies': 161,\n",
              " 'military': 11866,\n",
              " 'despite': 2853,\n",
              " 'warning': 2085,\n",
              " 'tornado': 132,\n",
              " 'kill': 9403,\n",
              " 'volcano': 766,\n",
              " 'eruption': 289,\n",
              " 'ecuadorian': 96,\n",
              " 'home': 4969,\n",
              " 'qaeda': 2758,\n",
              " 'boy': 1974,\n",
              " 'training': 929,\n",
              " 'allow': 1300,\n",
              " 'wiretap': 69,\n",
              " 'evidence': 1865,\n",
              " 'make': 4844,\n",
              " 'important': 550,\n",
              " 'arrest': 4415,\n",
              " 'bhutto': 104,\n",
              " 'slaying': 115,\n",
              " 'australia': 5010,\n",
              " 'released': 1914,\n",
              " 'grisly': 41,\n",
              " 'surveillance': 1441,\n",
              " 'picture': 1299,\n",
              " 'slain': 335,\n",
              " 'carcass': 61,\n",
              " 'two': 10707,\n",
              " 'whale': 566,\n",
              " 'hauled': 26,\n",
              " 'aboard': 271,\n",
              " 'ship': 3139,\n",
              " 'good': 1706,\n",
              " 'run': 2453,\n",
              " 'need': 2491,\n",
              " 'gruelling': 7,\n",
              " 'negotiation': 682,\n",
              " 'trade': 3167,\n",
              " 'organisation': 495,\n",
              " 'yesterday': 450,\n",
              " 'gave': 545,\n",
              " 'green': 1066,\n",
              " 'light': 1112,\n",
              " 'join': 2447,\n",
              " 'member': 3708,\n",
              " 'body': 2988,\n",
              " 'grifs': 1,\n",
              " 'support': 3860,\n",
              " 'launch': 3890,\n",
              " 'global': 5269,\n",
              " 'rfid': 10,\n",
              " 'interoperability': 3,\n",
              " 'forum': 276,\n",
              " 'standard': 634,\n",
              " 'fukuda': 8,\n",
              " 'get': 5363,\n",
              " 'letter': 1075,\n",
              " 'indicating': 53,\n",
              " 'resolve': 261,\n",
              " 'island': 3277,\n",
              " 'row': 1380,\n",
              " 'anti': 7825,\n",
              " 'mafia': 458,\n",
              " 'sweep': 271,\n",
              " 'modern': 576,\n",
              " 'slavery': 427,\n",
              " 'map': 843,\n",
              " 'hypersonic': 65,\n",
              " 'airliner': 199,\n",
              " 'fly': 915,\n",
              " 'four': 3487,\n",
              " 'hour': 2607,\n",
              " 'kidney': 139,\n",
              " 'theif': 2,\n",
              " 'arrested': 5193,\n",
              " 'nepal': 950,\n",
              " 'backed': 1292,\n",
              " 'russian': 13255,\n",
              " 'institute': 286,\n",
              " 'help': 4341,\n",
              " 'build': 1789,\n",
              " 'reactor': 1112,\n",
              " 'serbia': 434,\n",
              " 'plunged': 105,\n",
              " 'back': 5852,\n",
              " 'deal': 7093,\n",
              " 'charge': 3531,\n",
              " 'gitmo': 161,\n",
              " 'torture': 1582,\n",
              " 'citizen': 2383,\n",
              " 'sharia': 372,\n",
              " 'unavoidable': 23,\n",
              " 'britain': 4364,\n",
              " 'anglican': 67,\n",
              " 'church': 2380,\n",
              " 'damaged': 435,\n",
              " 'fixed': 101,\n",
              " 'feb': 133,\n",
              " 'dead': 8128,\n",
              " 'spy': 2885,\n",
              " 'satellite': 1322,\n",
              " 'hit': 6672,\n",
              " 'earth': 1524,\n",
              " 'early': 1208,\n",
              " 'march': 2090,\n",
              " 'blast': 2984,\n",
              " 'bullet': 507,\n",
              " 'report': 10806,\n",
              " 'quasimodo': 1,\n",
              " 'brings': 431,\n",
              " 'music': 499,\n",
              " 'notre': 29,\n",
              " 'dame': 46,\n",
              " 'bell': 109,\n",
              " 'pay': 2897,\n",
              " 'liberian': 129,\n",
              " 'debt': 1874,\n",
              " 'x': 922,\n",
              " 'large': 1366,\n",
              " 'yard': 207,\n",
              " 'bomb': 6013,\n",
              " 'cnn': 1533,\n",
              " 'com': 2654,\n",
              " 'channel': 711,\n",
              " 'obtaining': 42,\n",
              " 'footage': 760,\n",
              " 'gun': 1437,\n",
              " 'assualt': 7,\n",
              " 'second': 2768,\n",
              " 'atomic': 421,\n",
              " 'power': 6302,\n",
              " 'plant': 2909,\n",
              " 'son': 1745,\n",
              " 'daughter': 1030,\n",
              " 'carl': 37,\n",
              " 'levin': 4,\n",
              " 'surge': 724,\n",
              " 'failed': 1343,\n",
              " 'smoking': 415,\n",
              " 'could': 8004,\n",
              " 'billion': 4951,\n",
              " 'century': 1058,\n",
              " 'babylon': 23,\n",
              " 'mind': 335,\n",
              " 'death': 10374,\n",
              " 'living': 1206,\n",
              " 'indian': 4774,\n",
              " 'snatching': 15,\n",
              " 'doctor': 1900,\n",
              " 'committed': 588,\n",
              " 'crime': 4124,\n",
              " 'filming': 117,\n",
              " 'patient': 988,\n",
              " 'nude': 149,\n",
              " 'jailed': 1805,\n",
              " 'life': 4645,\n",
              " 'nulcear': 2,\n",
              " 'exposed': 488,\n",
              " 'jessica': 18,\n",
              " 'alba': 16,\n",
              " 'way': 2959,\n",
              " 'shoot': 1054,\n",
              " 'operating': 346,\n",
              " 'white': 1818,\n",
              " 'house': 2902,\n",
              " 'defends': 671,\n",
              " 'waterboarding': 32,\n",
              " 'use': 3816,\n",
              " 'bush': 844,\n",
              " 'approval': 493,\n",
              " 'first': 10742,\n",
              " 'cocaine': 542,\n",
              " 'blow': 915,\n",
              " 'energy': 2547,\n",
              " 'drink': 351,\n",
              " 'pure': 65,\n",
              " 'uncut': 22,\n",
              " 'bomber': 2206,\n",
              " 'violated': 269,\n",
              " 'airspace': 482,\n",
              " 'york': 943,\n",
              " 'another': 2669,\n",
              " 'sex': 3832,\n",
              " 'assault': 1421,\n",
              " 'suit': 290,\n",
              " 'v': 636,\n",
              " 'halliburton': 27,\n",
              " 'covered': 223,\n",
              " 'lawyer': 1395,\n",
              " 'want': 4765,\n",
              " 'rendition': 189,\n",
              " 'lawsuit': 561,\n",
              " 'dismissed': 257,\n",
              " 'detainee': 603,\n",
              " 'said': 10744,\n",
              " 'face': 5894,\n",
              " 'trial': 3166,\n",
              " 'attack': 19820,\n",
              " 'suicide': 3831,\n",
              " 'husband': 525,\n",
              " 'open': 3420,\n",
              " 'campaign': 2457,\n",
              " 'flee': 1022,\n",
              " 'oil': 6713,\n",
              " 'rig': 223,\n",
              " 'alert': 1082,\n",
              " 'threat': 4446,\n",
              " 'fake': 1000,\n",
              " 'sm': 52,\n",
              " 'ex': 2751,\n",
              " 'wife': 1408,\n",
              " 'lead': 2013,\n",
              " 'truth': 481,\n",
              " 'election': 6387,\n",
              " 'observer': 337,\n",
              " 'venezuela': 3774,\n",
              " 'ball': 193,\n",
              " 'slam': 1053,\n",
              " 'ban': 6205,\n",
              " 'email': 736,\n",
              " 'hoax': 192,\n",
              " 'govt': 1395,\n",
              " 'move': 3295,\n",
              " 'protect': 1371,\n",
              " 'consumer': 363,\n",
              " 'right': 10192,\n",
              " 'zoe': 4,\n",
              " 'ark': 43,\n",
              " 'gaddafi': 1423,\n",
              " 'deby': 8,\n",
              " 'pedophilia': 60,\n",
              " 'insurgent': 701,\n",
              " 'mogadishu': 242,\n",
              " 'attempt': 1932,\n",
              " 'return': 2538,\n",
              " 'normalcy': 7,\n",
              " 'coup': 1625,\n",
              " 'thousand': 4898,\n",
              " 'darfur': 298,\n",
              " 'prayer': 447,\n",
              " 'glorified': 6,\n",
              " 'overlooked': 34,\n",
              " 'aftermath': 194,\n",
              " 'tragedy': 421,\n",
              " 'anonymous': 692,\n",
              " 'scientology': 122,\n",
              " 'la': 350,\n",
              " 'today': 2213,\n",
              " 'rap': 76,\n",
              " 'rough': 92,\n",
              " 'handshake': 32,\n",
              " 'local': 2072,\n",
              " 'wing': 838,\n",
              " 'mosul': 1147,\n",
              " 'fight': 4367,\n",
              " 'washingtonpost': 17,\n",
              " 'army': 6042,\n",
              " 'buried': 459,\n",
              " 'study': 2670,\n",
              " 'faulting': 4,\n",
              " 'planning': 1081,\n",
              " 'spectacular': 99,\n",
              " 'theft': 402,\n",
              " 'net': 550,\n",
              " 'million': 7914,\n",
              " 'art': 627,\n",
              " 'legion': 44,\n",
              " 'doom': 61,\n",
              " 'official': 10829,\n",
              " 'chinese': 8651,\n",
              " 'msnbc': 53,\n",
              " 'condoleezza': 18,\n",
              " 'rice': 344,\n",
              " 'visit': 3047,\n",
              " 'eliminated': 54,\n",
              " 'bombing': 2989,\n",
              " 'massacring': 21,\n",
              " 'civilian': 3170,\n",
              " 'creating': 397,\n",
              " 'terrorist': 4299,\n",
              " 'armed': 1927,\n",
              " 'robber': 172,\n",
              " 'steal': 390,\n",
              " 'masterworks': 1,\n",
              " 'zurich': 65,\n",
              " 'red': 1484,\n",
              " 'square': 997,\n",
              " 'parade': 478,\n",
              " 'nancy': 18,\n",
              " 'pelosi': 10,\n",
              " 'french': 6468,\n",
              " 'soldier': 5375,\n",
              " 'fire': 6655,\n",
              " 'fighting': 2842,\n",
              " 'dolly': 6,\n",
              " 'parton': 1,\n",
              " 'donates': 112,\n",
              " 'boob': 14,\n",
              " 'public': 3601,\n",
              " 'wildlife': 454,\n",
              " 'sanctuary': 152,\n",
              " 'soothe': 19,\n",
              " 'savage': 83,\n",
              " 'beast': 86,\n",
              " 'victim': 3158,\n",
              " 'blogosphere': 10,\n",
              " 'halifax': 40,\n",
              " 'daily': 931,\n",
              " 'shut': 1022,\n",
              " 'transcontinental': 9,\n",
              " 'publish': 238,\n",
              " 'free': 3907,\n",
              " 'paper': 1348,\n",
              " 'instead': 635,\n",
              " 'tupolev': 5,\n",
              " 'flew': 171,\n",
              " 'directly': 270,\n",
              " 'aircraft': 1469,\n",
              " 'carrier': 666,\n",
              " 'us': 709,\n",
              " 'nimitz': 10,\n",
              " 'twice': 325,\n",
              " 'low': 1267,\n",
              " 'altitude': 53,\n",
              " 'foot': 620,\n",
              " 'circled': 9,\n",
              " 'mile': 781,\n",
              " 'refugee': 5093,\n",
              " 'nobody': 175,\n",
              " 'talking': 272,\n",
              " 'jet': 2777,\n",
              " 'scrambled': 76,\n",
              " 'navy': 1625,\n",
              " 'intercept': 341,\n",
              " 'blackwater': 143,\n",
              " 'shadow': 315,\n",
              " 'intercepted': 212,\n",
              " 'near': 4961,\n",
              " 'fuel': 1777,\n",
              " 'speech': 1453,\n",
              " 'debate': 1341,\n",
              " 'challenge': 1293,\n",
              " 'proposal': 895,\n",
              " 'space': 2028,\n",
              " 'weapon': 4744,\n",
              " 'target': 2900,\n",
              " 'accepts': 278,\n",
              " 'deployment': 326,\n",
              " 'defence': 1467,\n",
              " 'number': 2565,\n",
              " 'group': 9008,\n",
              " 'increase': 1384,\n",
              " 'dane': 60,\n",
              " 'uncover': 100,\n",
              " 'plot': 1419,\n",
              " 'murder': 3128,\n",
              " 'cartoonist': 148,\n",
              " 'bbc': 5766,\n",
              " 'cover': 910,\n",
              " 'minister': 11977,\n",
              " 'country': 12966,\n",
              " 'recognize': 331,\n",
              " 'independence': 1387,\n",
              " 'mexican': 2067,\n",
              " 'chiapas': 13,\n",
              " 'uae': 598,\n",
              " 'zero': 358,\n",
              " 'carbon': 930,\n",
              " 'city': 7675,\n",
              " 'plime': 1,\n",
              " 'sailing': 96,\n",
              " 'archipelago': 51,\n",
              " 'sen': 80,\n",
              " 'webb': 13,\n",
              " 'suggests': 800,\n",
              " 'legal': 1810,\n",
              " 'action': 2676,\n",
              " 'caught': 1274,\n",
              " 'trying': 1668,\n",
              " 'bolivia': 462,\n",
              " 'kevin': 140,\n",
              " 'rudd': 124,\n",
              " 'apologises': 195,\n",
              " 'aborigine': 23,\n",
              " 'generation': 565,\n",
              " 'australian': 4498,\n",
              " 'sorry': 275,\n",
              " 'indigenous': 535,\n",
              " 'parliament': 3892,\n",
              " 'apologizes': 312,\n",
              " 'german': 6126,\n",
              " 'affirms': 35,\n",
              " 'ok': 336,\n",
              " 'danish': 562,\n",
              " 'reprint': 15,\n",
              " 'prophet': 315,\n",
              " 'mohammed': 472,\n",
              " 'cartoon': 483,\n",
              " 'something': 498,\n",
              " 'rotten': 47,\n",
              " 'state': 17095,\n",
              " 'spielberg': 9,\n",
              " 'seed': 194,\n",
              " 'class': 765,\n",
              " 'sprout': 22,\n",
              " 'suspect': 2744,\n",
              " 'formally': 326,\n",
              " 'charged': 1878,\n",
              " 'declares': 1071,\n",
              " 'flood': 1445,\n",
              " 'emergency': 1764,\n",
              " 'hezbollah': 1418,\n",
              " 'commander': 1402,\n",
              " 'fbi': 539,\n",
              " 'list': 1451,\n",
              " 'passport': 676,\n",
              " 'travel': 1066,\n",
              " 'india': 10954,\n",
              " 'advanced': 342,\n",
              " 'centrifuge': 76,\n",
              " 'begun': 422,\n",
              " 'processing': 90,\n",
              " 'small': 1066,\n",
              " 'quantity': 58,\n",
              " 'gas': 3844,\n",
              " 'used': 3119,\n",
              " 'fissile': 5,\n",
              " 'core': 184,\n",
              " 'warhead': 199,\n",
              " 'muhammad': 255,\n",
              " 'unambiguously': 1,\n",
              " 'freedom': 1578,\n",
              " 'went': 703,\n",
              " 'warping': 1,\n",
              " 'diplomacy': 397,\n",
              " 'luv': 6,\n",
              " 'surf': 33,\n",
              " 'paitent': 1,\n",
              " 'meat': 631,\n",
              " 'cleaver': 22,\n",
              " 'hack': 608,\n",
              " 'nyc': 101,\n",
              " 'pychologist': 1,\n",
              " 'kathryn': 5,\n",
              " 'faughey': 1,\n",
              " 'scalia': 1,\n",
              " 'see': 2661,\n",
              " 'role': 1709,\n",
              " 'physical': 140,\n",
              " 'interrogation': 128,\n",
              " 'mccain': 223,\n",
              " 'standing': 296,\n",
              " 'pause': 96,\n",
              " 'deludes': 1,\n",
              " 'prisoner': 1888,\n",
              " 'iraqi': 3575,\n",
              " 'system': 2806,\n",
              " 'mar': 800,\n",
              " 'ahmadinejad': 709,\n",
              " 'day': 8513,\n",
              " 'hugo': 497,\n",
              " 'chavez': 1011,\n",
              " 'fungible': 2,\n",
              " 'three': 5595,\n",
              " 'trillion': 567,\n",
              " 'dollar': 1467,\n",
              " 'afp': 350,\n",
              " 'billy': 17,\n",
              " 'graham': 43,\n",
              " 'brain': 473,\n",
              " 'surgery': 321,\n",
              " 'indystar': 1,\n",
              " 'veto': 259,\n",
              " 'tortured': 568,\n",
              " 'oppose': 317,\n",
              " 'bill': 2697,\n",
              " 'prohibiting': 28,\n",
              " 'cbs': 134,\n",
              " 'zeal': 9,\n",
              " 'intervention': 741,\n",
              " 'imperialism': 65,\n",
              " 'clothes': 180,\n",
              " 'salem': 12,\n",
              " 'witch': 196,\n",
              " 'come': 2565,\n",
              " 'riyadh': 148,\n",
              " 'benign': 8,\n",
              " 'level': 2217,\n",
              " 'horror': 374,\n",
              " 'september': 551,\n",
              " 'ny': 241,\n",
              " 'usa': 508,\n",
              " 'incompetent': 33,\n",
              " 'arsonist': 30,\n",
              " 'caused': 1020,\n",
              " 'explosion': 2063,\n",
              " 'destroyed': 845,\n",
              " 'vancouver': 314,\n",
              " 'night': 1116,\n",
              " 'palestine': 982,\n",
              " 'becoming': 596,\n",
              " 'increasingly': 547,\n",
              " 'gunman': 1895,\n",
              " 'illinois': 14,\n",
              " 'university': 1813,\n",
              " 'niu': 1,\n",
              " 'student': 3407,\n",
              " 'died': 1951,\n",
              " 'investor': 572,\n",
              " 'pledge': 1168,\n",
              " 'renewable': 465,\n",
              " 'eats': 81,\n",
              " 'dust': 118,\n",
              " 'exhibition': 106,\n",
              " 'london': 3254,\n",
              " 'think': 1293,\n",
              " 'bad': 997,\n",
              " 'valentine': 82,\n",
              " 'kofi': 61,\n",
              " 'annan': 108,\n",
              " 'intelligent': 49,\n",
              " 'invited': 178,\n",
              " 'murderer': 225,\n",
              " 'woman': 10468,\n",
              " 'getting': 951,\n",
              " 'virginia': 45,\n",
              " 'tech': 596,\n",
              " 'cruiser': 39,\n",
              " 'carrying': 1107,\n",
              " 'toxic': 520,\n",
              " 'supporter': 1085,\n",
              " 'international': 5656,\n",
              " 'reuters': 1402,\n",
              " 'explanation': 178,\n",
              " 'scandal': 2133,\n",
              " 'benazir': 54,\n",
              " 'nawaz': 136,\n",
              " 'trouble': 468,\n",
              " 'part': 3694,\n",
              " 'musharraf': 271,\n",
              " 'aide': 465,\n",
              " 'openly': 189,\n",
              " 'rigging': 167,\n",
              " 'poll': 1815,\n",
              " 'tape': 280,\n",
              " 'museum': 600,\n",
              " 'buy': 1236,\n",
              " 'quick': 233,\n",
              " 'cruise': 541,\n",
              " 'recent': 1510,\n",
              " 'brief': 170,\n",
              " 'history': 1698,\n",
              " 'affect': 257,\n",
              " 'indirectly': 23,\n",
              " 'metonymy': 1,\n",
              " 'mexico': 4170,\n",
              " 'double': 865,\n",
              " 'bushehr': 41,\n",
              " 'personnel': 367,\n",
              " 'young': 1933,\n",
              " 'web': 799,\n",
              " 'pakistani': 2581,\n",
              " 'taped': 28,\n",
              " 'saying': 1543,\n",
              " 'vote': 4865,\n",
              " 'rigged': 84,\n",
              " 'crash': 3545,\n",
              " 'warsaw': 149,\n",
              " 'put': 2390,\n",
              " 'moussaoui': 7,\n",
              " 'deprived': 43,\n",
              " 'constitutional': 467,\n",
              " 'attorney': 236,\n",
              " 'defense': 2715,\n",
              " 'ministry': 1869,\n",
              " 'chaperone': 7,\n",
              " 'rally': 2079,\n",
              " 'car': 3751,\n",
              " 'drag': 156,\n",
              " 'race': 890,\n",
              " 'crowd': 631,\n",
              " 'suburban': 27,\n",
              " 'md': 17,\n",
              " 'highway': 343,\n",
              " 'muslim': 6279,\n",
              " 'riot': 2262,\n",
              " 'sixth': 169,\n",
              " 'several': 1536,\n",
              " 'pc': 117,\n",
              " 'headline': 200,\n",
              " 'must': 2745,\n",
              " 'matter': 501,\n",
              " 'vet': 89,\n",
              " 'dumb': 30,\n",
              " 'dumber': 9,\n",
              " 'american': 5306,\n",
              " 'hostile': 154,\n",
              " 'knowledge': 151,\n",
              " 'indict': 32,\n",
              " 'karl': 44,\n",
              " 'rove': 6,\n",
              " 'greg': 60,\n",
              " 'palast': 2,\n",
              " 'recording': 228,\n",
              " 'intensifies': 225,\n",
              " 'fear': 3612,\n",
              " 'asked': 753,\n",
              " 'aid': 4423,\n",
              " 'unfair': 117,\n",
              " 'comedic': 2,\n",
              " 'gold': 1233,\n",
              " 'pissing': 7,\n",
              " 'contest': 228,\n",
              " 'chicago': 103,\n",
              " 'turn': 2435,\n",
              " 'raise': 1616,\n",
              " 'environmental': 824,\n",
              " 'awareness': 97,\n",
              " 'step': 2293,\n",
              " 'hiv': 692,\n",
              " 'airplane': 161,\n",
              " 'helicopter': 1256,\n",
              " 'collide': 121,\n",
              " 'mid': 352,\n",
              " 'air': 6137,\n",
              " 'zealand': 1527,\n",
              " 'brazil': 3396,\n",
              " 'gm': 259,\n",
              " 'maize': 37,\n",
              " 'worst': 1412,\n",
              " 'lula': 142,\n",
              " 'administration': 734,\n",
              " 'ngo': 387,\n",
              " 'ambitious': 176,\n",
              " 'post': 3098,\n",
              " 'crumbles': 39,\n",
              " 'los': 133,\n",
              " 'angeles': 78,\n",
              " 'keep': 1794,\n",
              " 'abstinence': 7,\n",
              " 'kosovar': 5,\n",
              " 'haaretz': 152,\n",
              " 'unforgivable': 10,\n",
              " 'behavior': 165,\n",
              " 'inadmissible': 7,\n",
              " 'africa': 4421,\n",
              " 'massive': 1833,\n",
              " 'tax': 3169,\n",
              " 'evasion': 199,\n",
              " 'manager': 253,\n",
              " 'celebrity': 155,\n",
              " 'involved': 887,\n",
              " 'euro': 2100,\n",
              " 'missing': 3031,\n",
              " 'live': 2391,\n",
              " 'settler': 735,\n",
              " 'neighbor': 317,\n",
              " 'men': 3373,\n",
              " 'tattoo': 86,\n",
              " 'id': 296,\n",
              " 'got': 778,\n",
              " 'excedrin': 1,\n",
              " 'headache': 59,\n",
              " 'custody': 468,\n",
              " 'baitullah': 9,\n",
              " 'mehsud': 36,\n",
              " 'planned': 1156,\n",
              " 'assassination': 621,\n",
              " 'dallas': 38,\n",
              " 'county': 124,\n",
              " 'da': 151,\n",
              " 'office': 2242,\n",
              " 'find': 3693,\n",
              " 'cache': 126,\n",
              " 'jfk': 36,\n",
              " 'memorabilia': 14,\n",
              " ...}"
            ]
          },
          "metadata": {
            "tags": []
          },
          "execution_count": 30
        }
      ]
    },
    {
      "cell_type": "code",
      "metadata": {
        "colab": {
          "base_uri": "https://localhost:8080/"
        },
        "id": "BpcwULX-0tEE",
        "outputId": "d17ceaa8-664c-493d-d800-78cb18be7b8b"
      },
      "source": [
        "#listing the most frequent 50 words\n",
        "sorted(word_count.items(),reverse=True, key = lambda x: x[1] )[:50]"
      ],
      "execution_count": 31,
      "outputs": [
        {
          "output_type": "execute_result",
          "data": {
            "text/plain": [
              "[('u', 46329),\n",
              " ('say', 32919),\n",
              " ('china', 26405),\n",
              " ('new', 23389),\n",
              " ('year', 21192),\n",
              " ('attack', 19820),\n",
              " ('syria', 19029),\n",
              " ('russia', 18773),\n",
              " ('world', 18244),\n",
              " ('state', 17095),\n",
              " ('government', 17014),\n",
              " ('police', 16660),\n",
              " ('israel', 16076),\n",
              " ('iran', 15834),\n",
              " ('president', 15414),\n",
              " ('killed', 14329),\n",
              " ('people', 14103),\n",
              " ('war', 13278),\n",
              " ('russian', 13255),\n",
              " ('country', 12966),\n",
              " ('minister', 11977),\n",
              " ('military', 11866),\n",
              " ('uk', 11799),\n",
              " ('leader', 11644),\n",
              " ('korea', 11634),\n",
              " ('north', 11589),\n",
              " ('south', 11553),\n",
              " ('news', 11501),\n",
              " ('syrian', 11003),\n",
              " ('india', 10954),\n",
              " ('official', 10829),\n",
              " ('report', 10806),\n",
              " ('protest', 10793),\n",
              " ('force', 10753),\n",
              " ('said', 10744),\n",
              " ('first', 10742),\n",
              " ('two', 10707),\n",
              " ('ukraine', 10477),\n",
              " ('woman', 10468),\n",
              " ('death', 10374),\n",
              " ('israeli', 10220),\n",
              " ('right', 10192),\n",
              " ('un', 10133),\n",
              " ('nuclear', 10096),\n",
              " ('one', 9712),\n",
              " ('kill', 9403),\n",
              " ('isi', 9242),\n",
              " ('court', 9013),\n",
              " ('group', 9008),\n",
              " ('eu', 8794)]"
            ]
          },
          "metadata": {
            "tags": []
          },
          "execution_count": 31
        }
      ]
    },
    {
      "cell_type": "markdown",
      "metadata": {
        "id": "X5jnzr-N0tEF"
      },
      "source": [
        "The above list shows the most frequent words .  This signifies that most of the news headlines are about these. So lets's figure how that how many such headlines are there with these words. Here I have taken 4 words into consideration: china, russia, syria and police"
      ]
    },
    {
      "cell_type": "code",
      "metadata": {
        "id": "mcewdX-T0tEG"
      },
      "source": [
        "#initialising array for all frequnetly occurring words\n",
        "\n",
        "china_headlines=[]\n",
        "china_upvotes=[]\n",
        "\n",
        "syria_headlines=[]\n",
        "syria_upvotes=[]\n",
        "\n",
        "russia_headlines=[]\n",
        "russia_upvotes=[]\n",
        "\n",
        "police_headlines=[]\n",
        "police_upvotes=[]"
      ],
      "execution_count": 32,
      "outputs": []
    },
    {
      "cell_type": "code",
      "metadata": {
        "id": "sCHGDSGd0tEG"
      },
      "source": [
        "#Function for appending newsheadline and upvotes of particular word in their respective array(ex: if word=='iraq', then all the \n",
        "#news headlines containing word iraq will get appended in iraq_headlines and the upvotes will be appended to iraq_upvotes)\n",
        "def get_headline_upvote(corpus_sheet,word):\n",
        "    headlines=[]\n",
        "    upvote_arr=[]\n",
        "    for row in range(0,509236):\n",
        "        headline_word=str(corpus_sheet['headline'][row])\n",
        "        upvotes=int(corpus_sheet['upvotes'][row])\n",
        "        if word in headline_word:\n",
        "            headlines.append(headline_word)     \n",
        "            upvote_arr.append(upvotes)\n",
        "    return headlines,upvote_arr"
      ],
      "execution_count": 33,
      "outputs": []
    },
    {
      "cell_type": "code",
      "metadata": {
        "id": "z1r9G6Jo0tEH"
      },
      "source": [
        "#getting china headlines and upvotes\n",
        "china_headlines,china_upvotes=get_headline_upvote(corpus_sheet,'china')"
      ],
      "execution_count": 34,
      "outputs": []
    },
    {
      "cell_type": "code",
      "metadata": {
        "id": "A5ZZdkS30tEH"
      },
      "source": [
        "#getting syria headlines and upvotes\n",
        "syria_headlines,syria_upvotes=get_headline_upvote(corpus_sheet,'syria')"
      ],
      "execution_count": 35,
      "outputs": []
    },
    {
      "cell_type": "code",
      "metadata": {
        "id": "wxKtWIMi0tEI"
      },
      "source": [
        "#getting russia headlines and upvotes\n",
        "russia_headlines,russia_upvotes=get_headline_upvote(corpus_sheet,'russia')"
      ],
      "execution_count": 36,
      "outputs": []
    },
    {
      "cell_type": "code",
      "metadata": {
        "id": "Z84QCrOX0tEI"
      },
      "source": [
        "#getting police headlines and upvotes\n",
        "police_headlines,police_upvotes=get_headline_upvote(corpus_sheet,'police')"
      ],
      "execution_count": 37,
      "outputs": []
    },
    {
      "cell_type": "code",
      "metadata": {
        "id": "TA0oBYBN0tEI"
      },
      "source": [
        "# Finction for the concatenation of headlines array and upvotes array (ex: if headlines_arr=\"iraq_headlines\", and upvotes_arr=\n",
        "#\"iraq_upvotes\", then iraq_df is the concatenated dataframe of both arrays)\n",
        "def make_df(headlines_arr,upvotes_arr):\n",
        "    headlines_arr=pd.DataFrame(headlines_arr)\n",
        "    upvotes_arr=pd.DataFrame(upvotes_arr)\n",
        "    final_arr=pd.concat([headlines_arr,upvotes_arr],axis=1)\n",
        "    return final_arr"
      ],
      "execution_count": 38,
      "outputs": []
    },
    {
      "cell_type": "code",
      "metadata": {
        "id": "MzMvaeLW0tEJ"
      },
      "source": [
        "#Calling the make_df function for all the words taken into consideration\n",
        "china_df=make_df(china_headlines,china_upvotes)\n",
        "syria_df=make_df(syria_headlines,syria_upvotes)\n",
        "russia_df=make_df(russia_headlines,russia_upvotes)\n",
        "police_df=make_df(police_headlines,police_upvotes)\n"
      ],
      "execution_count": 39,
      "outputs": []
    },
    {
      "cell_type": "code",
      "metadata": {
        "id": "C0NQHLcK0tEJ"
      },
      "source": [
        "# Making the final dataframe by concatenating the above 4 dataframes\n",
        "final_df=pd.concat([china_df,syria_df,russia_df,police_df])"
      ],
      "execution_count": 40,
      "outputs": []
    },
    {
      "cell_type": "code",
      "metadata": {
        "colab": {
          "base_uri": "https://localhost:8080/",
          "height": 202
        },
        "id": "HWQIULTv0tEK",
        "outputId": "e7ffc94a-2dc3-4798-9651-b0222a0460ab"
      },
      "source": [
        "final_df.head()"
      ],
      "execution_count": 41,
      "outputs": [
        {
          "output_type": "execute_result",
          "data": {
            "text/html": [
              "<div>\n",
              "<style scoped>\n",
              "    .dataframe tbody tr th:only-of-type {\n",
              "        vertical-align: middle;\n",
              "    }\n",
              "\n",
              "    .dataframe tbody tr th {\n",
              "        vertical-align: top;\n",
              "    }\n",
              "\n",
              "    .dataframe thead th {\n",
              "        text-align: right;\n",
              "    }\n",
              "</style>\n",
              "<table border=\"1\" class=\"dataframe\">\n",
              "  <thead>\n",
              "    <tr style=\"text-align: right;\">\n",
              "      <th></th>\n",
              "      <th>0</th>\n",
              "      <th>0</th>\n",
              "    </tr>\n",
              "  </thead>\n",
              "  <tbody>\n",
              "    <tr>\n",
              "      <th>0</th>\n",
              "      <td>hyperurbanization china</td>\n",
              "      <td>2</td>\n",
              "    </tr>\n",
              "    <tr>\n",
              "      <th>1</th>\n",
              "      <td>russia china challenge u proposal ban space we...</td>\n",
              "      <td>27</td>\n",
              "    </tr>\n",
              "    <tr>\n",
              "      <th>2</th>\n",
              "      <td>russia china challenge u space arm</td>\n",
              "      <td>0</td>\n",
              "    </tr>\n",
              "    <tr>\n",
              "      <th>3</th>\n",
              "      <td>mix blamed fda failure china heparin plant</td>\n",
              "      <td>1</td>\n",
              "    </tr>\n",
              "    <tr>\n",
              "      <th>4</th>\n",
              "      <td>china asks nicely web site cut porn violence h...</td>\n",
              "      <td>2</td>\n",
              "    </tr>\n",
              "  </tbody>\n",
              "</table>\n",
              "</div>"
            ],
            "text/plain": [
              "                                                   0   0\n",
              "0                            hyperurbanization china   2\n",
              "1  russia china challenge u proposal ban space we...  27\n",
              "2                 russia china challenge u space arm   0\n",
              "3         mix blamed fda failure china heparin plant   1\n",
              "4  china asks nicely web site cut porn violence h...   2"
            ]
          },
          "metadata": {
            "tags": []
          },
          "execution_count": 41
        }
      ]
    },
    {
      "cell_type": "code",
      "metadata": {
        "id": "i5GWw3dz0tEK"
      },
      "source": [
        "#Renaming the columns\n",
        "final_df.columns=['headline','upvotes']"
      ],
      "execution_count": 42,
      "outputs": []
    },
    {
      "cell_type": "code",
      "metadata": {
        "colab": {
          "base_uri": "https://localhost:8080/",
          "height": 202
        },
        "id": "u-h0C0wE0tEK",
        "outputId": "28913dcf-9a18-425b-d700-85e7efb0d15e"
      },
      "source": [
        "final_df.head()"
      ],
      "execution_count": 43,
      "outputs": [
        {
          "output_type": "execute_result",
          "data": {
            "text/html": [
              "<div>\n",
              "<style scoped>\n",
              "    .dataframe tbody tr th:only-of-type {\n",
              "        vertical-align: middle;\n",
              "    }\n",
              "\n",
              "    .dataframe tbody tr th {\n",
              "        vertical-align: top;\n",
              "    }\n",
              "\n",
              "    .dataframe thead th {\n",
              "        text-align: right;\n",
              "    }\n",
              "</style>\n",
              "<table border=\"1\" class=\"dataframe\">\n",
              "  <thead>\n",
              "    <tr style=\"text-align: right;\">\n",
              "      <th></th>\n",
              "      <th>headline</th>\n",
              "      <th>upvotes</th>\n",
              "    </tr>\n",
              "  </thead>\n",
              "  <tbody>\n",
              "    <tr>\n",
              "      <th>0</th>\n",
              "      <td>hyperurbanization china</td>\n",
              "      <td>2</td>\n",
              "    </tr>\n",
              "    <tr>\n",
              "      <th>1</th>\n",
              "      <td>russia china challenge u proposal ban space we...</td>\n",
              "      <td>27</td>\n",
              "    </tr>\n",
              "    <tr>\n",
              "      <th>2</th>\n",
              "      <td>russia china challenge u space arm</td>\n",
              "      <td>0</td>\n",
              "    </tr>\n",
              "    <tr>\n",
              "      <th>3</th>\n",
              "      <td>mix blamed fda failure china heparin plant</td>\n",
              "      <td>1</td>\n",
              "    </tr>\n",
              "    <tr>\n",
              "      <th>4</th>\n",
              "      <td>china asks nicely web site cut porn violence h...</td>\n",
              "      <td>2</td>\n",
              "    </tr>\n",
              "  </tbody>\n",
              "</table>\n",
              "</div>"
            ],
            "text/plain": [
              "                                            headline  upvotes\n",
              "0                            hyperurbanization china        2\n",
              "1  russia china challenge u proposal ban space we...       27\n",
              "2                 russia china challenge u space arm        0\n",
              "3         mix blamed fda failure china heparin plant        1\n",
              "4  china asks nicely web site cut porn violence h...        2"
            ]
          },
          "metadata": {
            "tags": []
          },
          "execution_count": 43
        }
      ]
    },
    {
      "cell_type": "code",
      "metadata": {
        "colab": {
          "base_uri": "https://localhost:8080/",
          "height": 415
        },
        "id": "kv5hRfwu0tEL",
        "outputId": "336f36f0-083c-43a4-e2a0-744ce6fdaa88"
      },
      "source": [
        "#sorting the dataset to see the least voted headlines\n",
        "final_df.sort_values(by=['upvotes'])"
      ],
      "execution_count": 44,
      "outputs": [
        {
          "output_type": "execute_result",
          "data": {
            "text/html": [
              "<div>\n",
              "<style scoped>\n",
              "    .dataframe tbody tr th:only-of-type {\n",
              "        vertical-align: middle;\n",
              "    }\n",
              "\n",
              "    .dataframe tbody tr th {\n",
              "        vertical-align: top;\n",
              "    }\n",
              "\n",
              "    .dataframe thead th {\n",
              "        text-align: right;\n",
              "    }\n",
              "</style>\n",
              "<table border=\"1\" class=\"dataframe\">\n",
              "  <thead>\n",
              "    <tr style=\"text-align: right;\">\n",
              "      <th></th>\n",
              "      <th>headline</th>\n",
              "      <th>upvotes</th>\n",
              "    </tr>\n",
              "  </thead>\n",
              "  <tbody>\n",
              "    <tr>\n",
              "      <th>6066</th>\n",
              "      <td>syria asks deserter come home bomb blast kill</td>\n",
              "      <td>0</td>\n",
              "    </tr>\n",
              "    <tr>\n",
              "      <th>19880</th>\n",
              "      <td>uk envoy make new legal argument drone killing...</td>\n",
              "      <td>0</td>\n",
              "    </tr>\n",
              "    <tr>\n",
              "      <th>12361</th>\n",
              "      <td>china take million vehicle road</td>\n",
              "      <td>0</td>\n",
              "    </tr>\n",
              "    <tr>\n",
              "      <th>17536</th>\n",
              "      <td>new greek govt object eu call sanction russia</td>\n",
              "      <td>0</td>\n",
              "    </tr>\n",
              "    <tr>\n",
              "      <th>12363</th>\n",
              "      <td>vietnam china trade barb vietnamese fishing bo...</td>\n",
              "      <td>0</td>\n",
              "    </tr>\n",
              "    <tr>\n",
              "      <th>...</th>\n",
              "      <td>...</td>\n",
              "      <td>...</td>\n",
              "    </tr>\n",
              "    <tr>\n",
              "      <th>24482</th>\n",
              "      <td>u state dept declares isi committing genocide ...</td>\n",
              "      <td>8830</td>\n",
              "    </tr>\n",
              "    <tr>\n",
              "      <th>17162</th>\n",
              "      <td>thousand prehistoric mammoth tusk dug melting ...</td>\n",
              "      <td>8900</td>\n",
              "    </tr>\n",
              "    <tr>\n",
              "      <th>22824</th>\n",
              "      <td>giant panda longer endangered specie following...</td>\n",
              "      <td>9316</td>\n",
              "    </tr>\n",
              "    <tr>\n",
              "      <th>19513</th>\n",
              "      <td>isi beheads year old pioneer archaeologist for...</td>\n",
              "      <td>10515</td>\n",
              "    </tr>\n",
              "    <tr>\n",
              "      <th>12192</th>\n",
              "      <td>police officer leaked footage surfer paradise ...</td>\n",
              "      <td>12333</td>\n",
              "    </tr>\n",
              "  </tbody>\n",
              "</table>\n",
              "<p>97674 rows × 2 columns</p>\n",
              "</div>"
            ],
            "text/plain": [
              "                                                headline  upvotes\n",
              "6066       syria asks deserter come home bomb blast kill        0\n",
              "19880  uk envoy make new legal argument drone killing...        0\n",
              "12361                    china take million vehicle road        0\n",
              "17536      new greek govt object eu call sanction russia        0\n",
              "12363  vietnam china trade barb vietnamese fishing bo...        0\n",
              "...                                                  ...      ...\n",
              "24482  u state dept declares isi committing genocide ...     8830\n",
              "17162  thousand prehistoric mammoth tusk dug melting ...     8900\n",
              "22824  giant panda longer endangered specie following...     9316\n",
              "19513  isi beheads year old pioneer archaeologist for...    10515\n",
              "12192  police officer leaked footage surfer paradise ...    12333\n",
              "\n",
              "[97674 rows x 2 columns]"
            ]
          },
          "metadata": {
            "tags": []
          },
          "execution_count": 44
        }
      ]
    },
    {
      "cell_type": "markdown",
      "metadata": {
        "id": "fBZlJBzu0tEL"
      },
      "source": [
        "From above dataset, we can see that the least voted headlines, from the final df are\n",
        "1. syria asks deserter come home bomb blast kill\t\n",
        "2. uk envoy make new legal argument drone killing...\n",
        "3. china take million vehicle road\t\n",
        "4. new greek govt object eu call sanction russia\n",
        "5. vietnam china trade barb vietnamese fishing bo..."
      ]
    },
    {
      "cell_type": "code",
      "metadata": {
        "colab": {
          "base_uri": "https://localhost:8080/",
          "height": 415
        },
        "id": "JwLP1vNb0tEM",
        "outputId": "aa924c12-f7a3-439c-e124-229c4728e271"
      },
      "source": [
        "#Sorting the dataset in reverse order to find most upvotes headlines\n",
        "final_df.sort_values(by=['upvotes'],ascending=False)"
      ],
      "execution_count": 45,
      "outputs": [
        {
          "output_type": "execute_result",
          "data": {
            "text/html": [
              "<div>\n",
              "<style scoped>\n",
              "    .dataframe tbody tr th:only-of-type {\n",
              "        vertical-align: middle;\n",
              "    }\n",
              "\n",
              "    .dataframe tbody tr th {\n",
              "        vertical-align: top;\n",
              "    }\n",
              "\n",
              "    .dataframe thead th {\n",
              "        text-align: right;\n",
              "    }\n",
              "</style>\n",
              "<table border=\"1\" class=\"dataframe\">\n",
              "  <thead>\n",
              "    <tr style=\"text-align: right;\">\n",
              "      <th></th>\n",
              "      <th>headline</th>\n",
              "      <th>upvotes</th>\n",
              "    </tr>\n",
              "  </thead>\n",
              "  <tbody>\n",
              "    <tr>\n",
              "      <th>12192</th>\n",
              "      <td>police officer leaked footage surfer paradise ...</td>\n",
              "      <td>12333</td>\n",
              "    </tr>\n",
              "    <tr>\n",
              "      <th>19513</th>\n",
              "      <td>isi beheads year old pioneer archaeologist for...</td>\n",
              "      <td>10515</td>\n",
              "    </tr>\n",
              "    <tr>\n",
              "      <th>22824</th>\n",
              "      <td>giant panda longer endangered specie following...</td>\n",
              "      <td>9316</td>\n",
              "    </tr>\n",
              "    <tr>\n",
              "      <th>17162</th>\n",
              "      <td>thousand prehistoric mammoth tusk dug melting ...</td>\n",
              "      <td>8900</td>\n",
              "    </tr>\n",
              "    <tr>\n",
              "      <th>24482</th>\n",
              "      <td>u state dept declares isi committing genocide ...</td>\n",
              "      <td>8830</td>\n",
              "    </tr>\n",
              "    <tr>\n",
              "      <th>...</th>\n",
              "      <td>...</td>\n",
              "      <td>...</td>\n",
              "    </tr>\n",
              "    <tr>\n",
              "      <th>3890</th>\n",
              "      <td>al qaeda hand detected syria conflict</td>\n",
              "      <td>0</td>\n",
              "    </tr>\n",
              "    <tr>\n",
              "      <th>22675</th>\n",
              "      <td>russian airline brokeup mid air</td>\n",
              "      <td>0</td>\n",
              "    </tr>\n",
              "    <tr>\n",
              "      <th>3888</th>\n",
              "      <td>syrian chemical weapon arsenal include hoard i...</td>\n",
              "      <td>0</td>\n",
              "    </tr>\n",
              "    <tr>\n",
              "      <th>26221</th>\n",
              "      <td>china provide aid enhance military training sy...</td>\n",
              "      <td>0</td>\n",
              "    </tr>\n",
              "    <tr>\n",
              "      <th>10578</th>\n",
              "      <td>syria barely blip international oil market</td>\n",
              "      <td>0</td>\n",
              "    </tr>\n",
              "  </tbody>\n",
              "</table>\n",
              "<p>97674 rows × 2 columns</p>\n",
              "</div>"
            ],
            "text/plain": [
              "                                                headline  upvotes\n",
              "12192  police officer leaked footage surfer paradise ...    12333\n",
              "19513  isi beheads year old pioneer archaeologist for...    10515\n",
              "22824  giant panda longer endangered specie following...     9316\n",
              "17162  thousand prehistoric mammoth tusk dug melting ...     8900\n",
              "24482  u state dept declares isi committing genocide ...     8830\n",
              "...                                                  ...      ...\n",
              "3890               al qaeda hand detected syria conflict        0\n",
              "22675                    russian airline brokeup mid air        0\n",
              "3888   syrian chemical weapon arsenal include hoard i...        0\n",
              "26221  china provide aid enhance military training sy...        0\n",
              "10578         syria barely blip international oil market        0\n",
              "\n",
              "[97674 rows x 2 columns]"
            ]
          },
          "metadata": {
            "tags": []
          },
          "execution_count": 45
        }
      ]
    },
    {
      "cell_type": "markdown",
      "metadata": {
        "id": "7v07SCrz0tEM"
      },
      "source": [
        "From the above function, we can see that the most upvoted headlines are:\n",
        "1. police officer leaked footage surfer paradise \n",
        "2. isi beheads year old pioneer archaeologist for..\n",
        "3. giant panda longer endangered specie following.\n",
        "4. thousand prehistoric mammoth tusk dug melting\n",
        "5. u state dept declares isi committing genocide "
      ]
    },
    {
      "cell_type": "markdown",
      "metadata": {
        "id": "RLyOfgV60tEM"
      },
      "source": [
        "# Conclusion-1"
      ]
    },
    {
      "cell_type": "markdown",
      "metadata": {
        "id": "MQYQCbp88bJ6"
      },
      "source": [
        "1. We can see that the dataset mainly contains news about the attacks and location where these are taking place.\n",
        "2. We also saw that though the word frequency of china was highest among all the countries, but it was not even 50% of the dataset. This shows, that more news headlines are about the action or consequence of attacks, wars and the steps being taken for them."
      ]
    },
    {
      "cell_type": "markdown",
      "metadata": {
        "id": "92gJAWnS0tEP"
      },
      "source": [
        "# Sentiment Analysis"
      ]
    },
    {
      "cell_type": "code",
      "metadata": {
        "colab": {
          "base_uri": "https://localhost:8080/"
        },
        "id": "FMo7EqWY0tEP",
        "outputId": "83fd8d62-56f4-4b02-e582-82e1bb12d160"
      },
      "source": [
        "#printing the mean number of votes\n",
        "print(np.mean(df['up_votes']))"
      ],
      "execution_count": 46,
      "outputs": [
        {
          "output_type": "stream",
          "text": [
            "112.23628337352426\n"
          ],
          "name": "stdout"
        }
      ]
    },
    {
      "cell_type": "markdown",
      "metadata": {
        "id": "LNLJ6f3W0tEQ"
      },
      "source": [
        "Considering the mean number of upvotes, we can decide this as the threshhold for our new column 'sentiment'.\n",
        "ex: if the upvotes, of a particular author is greater than the mean value, then we will say it a positive sentiment/positive news.\n",
        "else if it will be given a negative sentiment."
      ]
    },
    {
      "cell_type": "code",
      "metadata": {
        "id": "X6w8U1QW0tER"
      },
      "source": [
        "#Loading the dataset\n",
        "sentiment_data=corpus_sheet\n",
        "# positive sentiment : 1    negative sentiment : 0\n",
        "sentiment_data['sentiment']= (corpus_sheet['upvotes']>=112).astype(int)"
      ],
      "execution_count": 47,
      "outputs": []
    },
    {
      "cell_type": "code",
      "metadata": {
        "colab": {
          "base_uri": "https://localhost:8080/",
          "height": 202
        },
        "id": "rFtChYSL9PaJ",
        "outputId": "9647cf74-4e24-47aa-b880-b47f7af77838"
      },
      "source": [
        "sentiment_data.head()"
      ],
      "execution_count": 48,
      "outputs": [
        {
          "output_type": "execute_result",
          "data": {
            "text/html": [
              "<div>\n",
              "<style scoped>\n",
              "    .dataframe tbody tr th:only-of-type {\n",
              "        vertical-align: middle;\n",
              "    }\n",
              "\n",
              "    .dataframe tbody tr th {\n",
              "        vertical-align: top;\n",
              "    }\n",
              "\n",
              "    .dataframe thead th {\n",
              "        text-align: right;\n",
              "    }\n",
              "</style>\n",
              "<table border=\"1\" class=\"dataframe\">\n",
              "  <thead>\n",
              "    <tr style=\"text-align: right;\">\n",
              "      <th></th>\n",
              "      <th>headline</th>\n",
              "      <th>upvotes</th>\n",
              "      <th>sentiment</th>\n",
              "    </tr>\n",
              "  </thead>\n",
              "  <tbody>\n",
              "    <tr>\n",
              "      <th>0</th>\n",
              "      <td>score killed pakistan clash</td>\n",
              "      <td>3</td>\n",
              "      <td>0</td>\n",
              "    </tr>\n",
              "    <tr>\n",
              "      <th>1</th>\n",
              "      <td>japan resume refuelling mission</td>\n",
              "      <td>2</td>\n",
              "      <td>0</td>\n",
              "    </tr>\n",
              "    <tr>\n",
              "      <th>2</th>\n",
              "      <td>u press egypt gaza border</td>\n",
              "      <td>3</td>\n",
              "      <td>0</td>\n",
              "    </tr>\n",
              "    <tr>\n",
              "      <th>3</th>\n",
              "      <td>jump start economy give health care</td>\n",
              "      <td>1</td>\n",
              "      <td>0</td>\n",
              "    </tr>\n",
              "    <tr>\n",
              "      <th>4</th>\n",
              "      <td>council europe bash eu un terror blacklist</td>\n",
              "      <td>4</td>\n",
              "      <td>0</td>\n",
              "    </tr>\n",
              "  </tbody>\n",
              "</table>\n",
              "</div>"
            ],
            "text/plain": [
              "                                     headline  upvotes  sentiment\n",
              "0                 score killed pakistan clash        3          0\n",
              "1             japan resume refuelling mission        2          0\n",
              "2                   u press egypt gaza border        3          0\n",
              "3         jump start economy give health care        1          0\n",
              "4  council europe bash eu un terror blacklist        4          0"
            ]
          },
          "metadata": {
            "tags": []
          },
          "execution_count": 48
        }
      ]
    },
    {
      "cell_type": "code",
      "metadata": {
        "id": "nFaZV08W9Rut"
      },
      "source": [
        "#removing the upvotes column\n",
        "sentiment_data=sentiment_data.drop('upvotes',axis=1)"
      ],
      "execution_count": 49,
      "outputs": []
    },
    {
      "cell_type": "code",
      "metadata": {
        "colab": {
          "base_uri": "https://localhost:8080/",
          "height": 202
        },
        "id": "T4YykXnT9ZDq",
        "outputId": "475c101a-e33b-4cbe-92b7-857e9dcd9ca6"
      },
      "source": [
        "sentiment_data.head()"
      ],
      "execution_count": 50,
      "outputs": [
        {
          "output_type": "execute_result",
          "data": {
            "text/html": [
              "<div>\n",
              "<style scoped>\n",
              "    .dataframe tbody tr th:only-of-type {\n",
              "        vertical-align: middle;\n",
              "    }\n",
              "\n",
              "    .dataframe tbody tr th {\n",
              "        vertical-align: top;\n",
              "    }\n",
              "\n",
              "    .dataframe thead th {\n",
              "        text-align: right;\n",
              "    }\n",
              "</style>\n",
              "<table border=\"1\" class=\"dataframe\">\n",
              "  <thead>\n",
              "    <tr style=\"text-align: right;\">\n",
              "      <th></th>\n",
              "      <th>headline</th>\n",
              "      <th>sentiment</th>\n",
              "    </tr>\n",
              "  </thead>\n",
              "  <tbody>\n",
              "    <tr>\n",
              "      <th>0</th>\n",
              "      <td>score killed pakistan clash</td>\n",
              "      <td>0</td>\n",
              "    </tr>\n",
              "    <tr>\n",
              "      <th>1</th>\n",
              "      <td>japan resume refuelling mission</td>\n",
              "      <td>0</td>\n",
              "    </tr>\n",
              "    <tr>\n",
              "      <th>2</th>\n",
              "      <td>u press egypt gaza border</td>\n",
              "      <td>0</td>\n",
              "    </tr>\n",
              "    <tr>\n",
              "      <th>3</th>\n",
              "      <td>jump start economy give health care</td>\n",
              "      <td>0</td>\n",
              "    </tr>\n",
              "    <tr>\n",
              "      <th>4</th>\n",
              "      <td>council europe bash eu un terror blacklist</td>\n",
              "      <td>0</td>\n",
              "    </tr>\n",
              "  </tbody>\n",
              "</table>\n",
              "</div>"
            ],
            "text/plain": [
              "                                     headline  sentiment\n",
              "0                 score killed pakistan clash          0\n",
              "1             japan resume refuelling mission          0\n",
              "2                   u press egypt gaza border          0\n",
              "3         jump start economy give health care          0\n",
              "4  council europe bash eu un terror blacklist          0"
            ]
          },
          "metadata": {
            "tags": []
          },
          "execution_count": 50
        }
      ]
    },
    {
      "cell_type": "code",
      "metadata": {
        "id": "4jqg5OCc9ydA"
      },
      "source": [
        "sentiment_data=sentiment_data.dropna()"
      ],
      "execution_count": 53,
      "outputs": []
    },
    {
      "cell_type": "code",
      "metadata": {
        "id": "c67uskhE9bbG"
      },
      "source": [
        "# Loading and Splitting the dataset into training and test dataset\n",
        "from sklearn.model_selection import train_test_split\n",
        "\n",
        "X = sentiment_data['headline']\n",
        "y = sentiment_data['sentiment']\n",
        "\n",
        "X_train, X_val, y_train, y_val = train_test_split(X, y, test_size=0.3, random_state=2020)"
      ],
      "execution_count": 54,
      "outputs": []
    },
    {
      "cell_type": "code",
      "metadata": {
        "id": "qdlVdBO09ifT"
      },
      "source": [
        "#Using the tf-idf vectorisation for convert text to vectors\n",
        "from sklearn.feature_extraction.text import TfidfVectorizer\n",
        "\n",
        "# Calculate TF-IDF\n",
        "tf_idf = TfidfVectorizer(smooth_idf=False)\n",
        "X_train_tfidf = tf_idf.fit_transform(X_train)\n",
        "X_val_tfidf = tf_idf.transform(X_val)"
      ],
      "execution_count": 55,
      "outputs": []
    },
    {
      "cell_type": "code",
      "metadata": {
        "id": "kbjLRrG89mos"
      },
      "source": [
        "from sklearn.model_selection import StratifiedKFold, cross_val_score\n",
        "\n",
        "def get_auc_CV(model):\n",
        "    \"\"\"\n",
        "    Return the average AUC score from cross-validation.\n",
        "    \"\"\"\n",
        "    # Set KFold to shuffle data before the split\n",
        "    kf = StratifiedKFold(5, shuffle=True, random_state=1)\n",
        "\n",
        "    # Get AUC scores\n",
        "    auc = cross_val_score(\n",
        "        model, X_train_tfidf, y_train, scoring=\"roc_auc\", cv=kf)\n",
        "\n",
        "    return auc.mean()"
      ],
      "execution_count": 56,
      "outputs": []
    },
    {
      "cell_type": "code",
      "metadata": {
        "colab": {
          "base_uri": "https://localhost:8080/",
          "height": 313
        },
        "id": "Ymn3iEiy-HTt",
        "outputId": "e4f1f74a-041c-4bcf-8c86-12ec1a64ce6f"
      },
      "source": [
        "#Using naive bayes for sentiment classification\n",
        "from sklearn.naive_bayes import MultinomialNB\n",
        "\n",
        "res = pd.Series([get_auc_CV(MultinomialNB(i))\n",
        "                 for i in np.arange(1, 10, 0.1)],\n",
        "                index=np.arange(1, 10, 0.1))\n",
        "\n",
        "best_alpha = np.round(res.idxmax(), 2)\n",
        "print('Best alpha: ', best_alpha)\n",
        "\n",
        "#Plotting graph for obtaining best alpha value\n",
        "plt.plot(res)\n",
        "plt.title('AUC vs. Alpha')\n",
        "plt.xlabel('Alpha')\n",
        "plt.ylabel('AUC')\n",
        "plt.show()"
      ],
      "execution_count": 57,
      "outputs": [
        {
          "output_type": "stream",
          "text": [
            "Best alpha:  1.0\n"
          ],
          "name": "stdout"
        },
        {
          "output_type": "display_data",
          "data": {
            "image/png": "[encoded data removed]",
            "text/plain": [
              "<Figure size 432x288 with 1 Axes>"
            ]
          },
          "metadata": {
            "tags": [],
            "needs_background": "light"
          }
        }
      ]
    },
    {
      "cell_type": "code",
      "metadata": {
        "id": "_HY4Bc7v-VOJ"
      },
      "source": [
        "from sklearn.metrics import accuracy_score, roc_curve, auc\n",
        "\n",
        "def evaluate_roc(probs, y_true):\n",
        "    \"\"\"\n",
        "    - Print AUC and accuracy on the test set\n",
        "    - Plot ROC\n",
        "    @params    probs (np.array): an array of predicted probabilities with shape (len(y_true), 2)\n",
        "    @params    y_true (np.array): an array of the true values with shape (len(y_true),)\n",
        "    \"\"\"\n",
        "    preds = probs[:, 1]\n",
        "    fpr, tpr, threshold = roc_curve(y_true, preds)\n",
        "    roc_auc = auc(fpr, tpr)\n",
        "    print(f'AUC: {roc_auc:.4f}')\n",
        "       \n",
        "    # Get accuracy over the test set\n",
        "    y_pred = np.where(preds >= 0.5, 1, 0)\n",
        "    accuracy = accuracy_score(y_true, y_pred)\n",
        "    print(f'Accuracy: {accuracy*100:.2f}%')\n",
        "    \n",
        "    # Plot ROC AUC\n",
        "    plt.title('Receiver Operating Characteristic')\n",
        "    plt.plot(fpr, tpr, 'b', label = 'AUC = %0.2f' % roc_auc)\n",
        "    plt.legend(loc = 'lower right')\n",
        "    plt.plot([0, 1], [0, 1],'r--')\n",
        "    plt.xlim([0, 1])\n",
        "    plt.ylim([0, 1])\n",
        "    plt.ylabel('True Positive Rate')\n",
        "    plt.xlabel('False Positive Rate')\n",
        "    plt.show()"
      ],
      "execution_count": 58,
      "outputs": []
    },
    {
      "cell_type": "code",
      "metadata": {
        "colab": {
          "base_uri": "https://localhost:8080/",
          "height": 330
        },
        "id": "ZCuyUL4K-e7w",
        "outputId": "5f99ef07-7c7a-4f7c-fa91-9e776f8fa765"
      },
      "source": [
        "# Compute predicted probabilities\n",
        "nb_model = MultinomialNB(alpha=1.8)\n",
        "nb_model.fit(X_train_tfidf, y_train)\n",
        "probs = nb_model.predict_proba(X_val_tfidf)\n",
        "\n",
        "# Evaluate the classifier\n",
        "evaluate_roc(probs, y_val)"
      ],
      "execution_count": 59,
      "outputs": [
        {
          "output_type": "stream",
          "text": [
            "AUC: 0.5898\n",
            "Accuracy: 90.48%\n"
          ],
          "name": "stdout"
        },
        {
          "output_type": "display_data",
          "data": {
            "image/png": "[encoded data removed]",
            "text/plain": [
              "<Figure size 432x288 with 1 Axes>"
            ]
          },
          "metadata": {
            "tags": [],
            "needs_background": "light"
          }
        }
      ]
    },
    {
      "cell_type": "code",
      "metadata": {
        "id": "ezD6qSgv-f44"
      },
      "source": [
        ""
      ],
      "execution_count": null,
      "outputs": []
    },
    {
      "cell_type": "markdown",
      "metadata": {
        "id": "znHnZ6XBA3G_"
      },
      "source": [
        "# Clustering the authors on the basis of news headlines"
      ]
    },
    {
      "cell_type": "markdown",
      "metadata": {
        "id": "_AVLgFj7BRla"
      },
      "source": [
        "In the below cell, I have tried to convert the headlines text into vectors using bag of words approach. Since the dataset is large, the converted vectors have been saved in another csv file and loaded directly for any further use."
      ]
    },
    {
      "cell_type": "code",
      "metadata": {
        "id": "YOlxT0mbBSMn"
      },
      "source": [
        "#dropping the null rows\n",
        "corpus_sheet=corpus_sheet.dropna()"
      ],
      "execution_count": 60,
      "outputs": []
    },
    {
      "cell_type": "code",
      "metadata": {
        "id": "-W_JFnT-BdA4"
      },
      "source": [
        "from sklearn.feature_extraction.text import CountVectorizer\n",
        "cv = CountVectorizer(max_features = 56) #max features mean total unique words in a sentence\n",
        "\n",
        "X = cv.fit_transform(corpus_sheet['headline']).toarray()"
      ],
      "execution_count": null,
      "outputs": []
    },
    {
      "cell_type": "code",
      "metadata": {
        "id": "zcQtqCvTBhG1"
      },
      "source": [
        "X=pd.DataFrame(X)\n",
        "X.to_csv('BOW_1.csv') #saving the final sheet in a csv file so that it can be reused"
      ],
      "execution_count": null,
      "outputs": []
    },
    {
      "cell_type": "code",
      "metadata": {
        "id": "k5MDWnz_BxGR"
      },
      "source": [
        "#Loading the datset\n",
        "data1=pd.read_csv('BOW_1.csv')"
      ],
      "execution_count": 61,
      "outputs": []
    },
    {
      "cell_type": "code",
      "metadata": {
        "colab": {
          "base_uri": "https://localhost:8080/"
        },
        "id": "D4D7gbymB3H-",
        "outputId": "a473627b-97c6-4c10-a4ec-f852735ef4c2"
      },
      "source": [
        "#converting to numpy array\n",
        "print(type(data1.to_numpy()))"
      ],
      "execution_count": 62,
      "outputs": [
        {
          "output_type": "stream",
          "text": [
            "<class 'numpy.ndarray'>\n"
          ],
          "name": "stdout"
        }
      ]
    },
    {
      "cell_type": "code",
      "metadata": {
        "id": "usQh5TJvCyfs"
      },
      "source": [
        "#considering a small subset of dataset\n",
        "D1=data1.iloc[0:10000,0:57]"
      ],
      "execution_count": 63,
      "outputs": []
    },
    {
      "cell_type": "code",
      "metadata": {
        "id": "OSL2gPrMC5u4"
      },
      "source": [
        "    #trying to find the optimal value of clusters using silhoutte score  \n",
        "    from sklearn.metrics import silhouette_samples, silhouette_score\n",
        "    from sklearn.cluster import KMeans\n",
        "    sil = []\n",
        "    kmax = 10\n",
        "    for k in range(2, kmax+1):\n",
        "        kmeans = KMeans(n_clusters = k).fit(D1)\n",
        "        labels = kmeans.labels_\n",
        "        sil.append(silhouette_score(D1, labels, metric = 'euclidean'))\n",
        "        \n",
        "    maxpos = sil.index(max(sil))\n",
        "    n_clusters = maxpos + 2\n",
        "    "
      ],
      "execution_count": 65,
      "outputs": []
    },
    {
      "cell_type": "code",
      "metadata": {
        "id": "kZvHPyeEDTV7"
      },
      "source": [
        "# Divide into k groups using k-mean clustering\n",
        "model = KMeans(n_clusters=n_clusters, init='k-means++',\n",
        "               max_iter=100, n_init=100)\n",
        "model.fit(D1)\n",
        "    \n",
        "# Create group label column\n",
        "groups = list(model.labels_)"
      ],
      "execution_count": 66,
      "outputs": []
    },
    {
      "cell_type": "code",
      "metadata": {
        "colab": {
          "base_uri": "https://localhost:8080/"
        },
        "id": "x9CFgfSgDW0m",
        "outputId": "3c97c55b-f669-4dc2-c4a4-81511ad149a7"
      },
      "source": [
        "#printing the groups of first 1 lakh authors\n",
        "print(groups)"
      ],
      "execution_count": 67,
      "outputs": [
        {
          "output_type": "stream",
          "text": [
            "[0, 0, 0, 0, 0, 0, 0, 0, 0, 0, 0, 0, 0, 0, 0, 0, 0, 0, 0, 0, 0, 0, 0, 0, 0, 0, 0, 0, 0, 0, 0, 0, 0, 0, 0, 0, 0, 0, 0, 0, 0, 0, 0, 0, 0, 0, 0, 0, 0, 0, 0, 0, 0, 0, 0, 0, 0, 0, 0, 0, 0, 0, 0, 0, 0, 0, 0, 0, 0, 0, 0, 0, 0, 0, 0, 0, 0, 0, 0, 0, 0, 0, 0, 0, 0, 0, 0, 0, 0, 0, 0, 0, 0, 0, 0, 0, 0, 0, 0, 0, 0, 0, 0, 0, 0, 0, 0, 0, 0, 0, 0, 0, 0, 0, 0, 0, 0, 0, 0, 0, 0, 0, 0, 0, 0, 0, 0, 0, 0, 0, 0, 0, 0, 0, 0, 0, 0, 0, 0, 0, 0, 0, 0, 0, 0, 0, 0, 0, 0, 0, 0, 0, 0, 0, 0, 0, 0, 0, 0, 0, 0, 0, 0, 0, 0, 0, 0, 0, 0, 0, 0, 0, 0, 0, 0, 0, 0, 0, 0, 0, 0, 0, 0, 0, 0, 0, 0, 0, 0, 0, 0, 0, 0, 0, 0, 0, 0, 0, 0, 0, 0, 0, 0, 0, 0, 0, 0, 0, 0, 0, 0, 0, 0, 0, 0, 0, 0, 0, 0, 0, 0, 0, 0, 0, 0, 0, 0, 0, 0, 0, 0, 0, 0, 0, 0, 0, 0, 0, 0, 0, 0, 0, 0, 0, 0, 0, 0, 0, 0, 0, 0, 0, 0, 0, 0, 0, 0, 0, 0, 0, 0, 0, 0, 0, 0, 0, 0, 0, 0, 0, 0, 0, 0, 0, 0, 0, 0, 0, 0, 0, 0, 0, 0, 0, 0, 0, 0, 0, 0, 0, 0, 0, 0, 0, 0, 0, 0, 0, 0, 0, 0, 0, 0, 0, 0, 0, 0, 0, 0, 0, 0, 0, 0, 0, 0, 0, 0, 0, 0, 0, 0, 0, 0, 0, 0, 0, 0, 0, 0, 0, 0, 0, 0, 0, 0, 0, 0, 0, 0, 0, 0, 0, 0, 0, 0, 0, 0, 0, 0, 0, 0, 0, 0, 0, 0, 0, 0, 0, 0, 0, 0, 0, 0, 0, 0, 0, 0, 0, 0, 0, 0, 0, 0, 0, 0, 0, 0, 0, 0, 0, 0, 0, 0, 0, 0, 0, 0, 0, 0, 0, 0, 0, 0, 0, 0, 0, 0, 0, 0, 0, 0, 0, 0, 0, 0, 0, 0, 0, 0, 0, 0, 0, 0, 0, 0, 0, 0, 0, 0, 0, 0, 0, 0, 0, 0, 0, 0, 0, 0, 0, 0, 0, 0, 0, 0, 0, 0, 0, 0, 0, 0, 0, 0, 0, 0, 0, 0, 0, 0, 0, 0, 0, 0, 0, 0, 0, 0, 0, 0, 0, 0, 0, 0, 0, 0, 0, 0, 0, 0, 0, 0, 0, 0, 0, 0, 0, 0, 0, 0, 0, 0, 0, 0, 0, 0, 0, 0, 0, 0, 0, 0, 0, 0, 0, 0, 0, 0, 0, 0, 0, 0, 0, 0, 0, 0, 0, 0, 0, 0, 0, 0, 0, 0, 0, 0, 0, 0, 0, 0, 0, 0, 0, 0, 0, 0, 0, 0, 0, 0, 0, 0, 0, 0, 0, 0, 0, 0, 0, 0, 0, 0, 0, 0, 0, 0, 0, 0, 0, 0, 0, 0, 0, 0, 0, 0, 0, 0, 0, 0, 0, 0, 0, 0, 0, 0, 0, 0, 0, 0, 0, 0, 0, 0, 0, 0, 0, 0, 0, 0, 0, 0, 0, 0, 0, 0, 0, 0, 0, 0, 0, 0, 0, 0, 0, 0, 0, 0, 0, 0, 0, 0, 0, 0, 0, 0, 0, 0, 0, 0, 0, 0, 0, 0, 0, 0, 0, 0, 0, 0, 0, 0, 0, 0, 0, 0, 0, 0, 0, 0, 0, 0, 0, 0, 0, 0, 0, 0, 0, 0, 0, 0, 0, 0, 0, 0, 0, 0, 0, 0, 0, 0, 0, 0, 0, 0, 0, 0, 0, 0, 0, 0, 0, 0, 0, 0, 0, 0, 0, 0, 0, 0, 0, 0, 0, 0, 0, 0, 0, 0, 0, 0, 0, 0, 0, 0, 0, 0, 0, 0, 0, 0, 0, 0, 0, 0, 0, 0, 0, 0, 0, 0, 0, 0, 0, 0, 0, 0, 0, 0, 0, 0, 0, 0, 0, 0, 0, 0, 0, 0, 0, 0, 0, 0, 0, 0, 0, 0, 0, 0, 0, 0, 0, 0, 0, 0, 0, 0, 0, 0, 0, 0, 0, 0, 0, 0, 0, 0, 0, 0, 0, 0, 0, 0, 0, 0, 0, 0, 0, 0, 0, 0, 0, 0, 0, 0, 0, 0, 0, 0, 0, 0, 0, 0, 0, 0, 0, 0, 0, 0, 0, 0, 0, 0, 0, 0, 0, 0, 0, 0, 0, 0, 0, 0, 0, 0, 0, 0, 0, 0, 0, 0, 0, 0, 0, 0, 0, 0, 0, 0, 0, 0, 0, 0, 0, 0, 0, 0, 0, 0, 0, 0, 0, 0, 0, 0, 0, 0, 0, 0, 0, 0, 0, 0, 0, 0, 0, 0, 0, 0, 0, 0, 0, 0, 0, 0, 0, 0, 0, 0, 0, 0, 0, 0, 0, 0, 0, 0, 0, 0, 0, 0, 0, 0, 0, 0, 0, 0, 0, 0, 0, 0, 0, 0, 0, 0, 0, 0, 0, 0, 0, 0, 0, 0, 0, 0, 0, 0, 0, 0, 0, 0, 0, 0, 0, 0, 0, 0, 0, 0, 0, 0, 0, 0, 0, 0, 0, 0, 0, 0, 0, 0, 0, 0, 0, 0, 0, 0, 0, 0, 0, 0, 0, 0, 0, 0, 0, 0, 0, 0, 0, 0, 0, 0, 0, 0, 0, 0, 0, 0, 0, 0, 0, 0, 0, 0, 0, 0, 0, 0, 0, 0, 0, 0, 0, 0, 0, 0, 0, 0, 0, 0, 0, 0, 0, 0, 0, 0, 0, 0, 0, 0, 0, 0, 0, 0, 0, 0, 0, 0, 0, 0, 0, 0, 0, 0, 0, 0, 0, 0, 0, 0, 0, 0, 0, 0, 0, 0, 0, 0, 0, 0, 0, 0, 0, 0, 0, 0, 0, 0, 0, 0, 0, 0, 0, 0, 0, 0, 0, 0, 0, 0, 0, 0, 0, 0, 0, 0, 0, 0, 0, 0, 0, 0, 0, 0, 0, 0, 0, 0, 0, 0, 0, 0, 0, 0, 0, 0, 0, 0, 0, 0, 0, 0, 0, 0, 0, 0, 0, 0, 0, 0, 0, 0, 0, 0, 0, 0, 0, 0, 0, 0, 0, 0, 0, 0, 0, 0, 0, 0, 0, 0, 0, 0, 0, 0, 0, 0, 0, 0, 0, 0, 0, 0, 0, 0, 0, 0, 0, 0, 0, 0, 0, 0, 0, 0, 0, 0, 0, 0, 0, 0, 0, 0, 0, 0, 0, 0, 0, 0, 0, 0, 0, 0, 0, 0, 0, 0, 0, 0, 0, 0, 0, 0, 0, 0, 0, 0, 0, 0, 0, 0, 0, 0, 0, 0, 0, 0, 0, 0, 0, 0, 0, 0, 0, 0, 0, 0, 0, 0, 0, 0, 0, 0, 0, 0, 0, 0, 0, 0, 0, 0, 0, 0, 0, 0, 0, 0, 0, 0, 0, 0, 0, 0, 0, 0, 0, 0, 0, 0, 0, 0, 0, 0, 0, 0, 0, 0, 0, 0, 0, 0, 0, 0, 0, 0, 0, 0, 0, 0, 0, 0, 0, 0, 0, 0, 0, 0, 0, 0, 0, 0, 0, 0, 0, 0, 0, 0, 0, 0, 0, 0, 0, 0, 0, 0, 0, 0, 0, 0, 0, 0, 0, 0, 0, 0, 0, 0, 0, 0, 0, 0, 0, 0, 0, 0, 0, 0, 0, 0, 0, 0, 0, 0, 0, 0, 0, 0, 0, 0, 0, 0, 0, 0, 0, 0, 0, 0, 0, 0, 0, 0, 0, 0, 0, 0, 0, 0, 0, 0, 0, 0, 0, 0, 0, 0, 0, 0, 0, 0, 0, 0, 0, 0, 0, 0, 0, 0, 0, 0, 0, 0, 0, 0, 0, 0, 0, 0, 0, 0, 0, 0, 0, 0, 0, 0, 0, 0, 0, 0, 0, 0, 0, 0, 0, 0, 0, 0, 0, 0, 0, 0, 0, 0, 0, 0, 0, 0, 0, 0, 0, 0, 0, 0, 0, 0, 0, 0, 0, 0, 0, 0, 0, 0, 0, 0, 0, 0, 0, 0, 0, 0, 0, 0, 0, 0, 0, 0, 0, 0, 0, 0, 0, 0, 0, 0, 0, 0, 0, 0, 0, 0, 0, 0, 0, 0, 0, 0, 0, 0, 0, 0, 0, 0, 0, 0, 0, 0, 0, 0, 0, 0, 0, 0, 0, 0, 0, 0, 0, 0, 0, 0, 0, 0, 0, 0, 0, 0, 0, 0, 0, 0, 0, 0, 0, 0, 0, 0, 0, 0, 0, 0, 0, 0, 0, 0, 0, 0, 0, 0, 0, 0, 0, 0, 0, 0, 0, 0, 0, 0, 0, 0, 0, 0, 0, 0, 0, 0, 0, 0, 0, 0, 0, 0, 0, 0, 0, 0, 0, 0, 0, 0, 0, 0, 0, 0, 0, 0, 0, 0, 0, 0, 0, 0, 0, 0, 0, 0, 0, 0, 0, 0, 0, 0, 0, 0, 0, 0, 0, 0, 0, 0, 0, 0, 0, 0, 0, 0, 0, 0, 0, 0, 0, 0, 0, 0, 0, 0, 0, 0, 0, 0, 0, 0, 0, 0, 0, 0, 0, 0, 0, 0, 0, 0, 0, 0, 0, 0, 0, 0, 0, 0, 0, 0, 0, 0, 0, 0, 0, 0, 0, 0, 0, 0, 0, 0, 0, 0, 0, 0, 0, 0, 0, 0, 0, 0, 0, 0, 0, 0, 0, 0, 0, 0, 0, 0, 0, 0, 0, 0, 0, 0, 0, 0, 0, 0, 0, 0, 0, 0, 0, 0, 0, 0, 0, 0, 0, 0, 0, 0, 0, 0, 0, 0, 0, 0, 0, 0, 0, 0, 0, 0, 0, 0, 0, 0, 0, 0, 0, 0, 0, 0, 0, 0, 0, 0, 0, 0, 0, 0, 0, 0, 0, 0, 0, 0, 0, 0, 0, 0, 0, 0, 0, 0, 0, 0, 0, 0, 0, 0, 0, 0, 0, 0, 0, 0, 0, 0, 0, 0, 0, 0, 0, 0, 0, 0, 0, 0, 0, 0, 0, 0, 0, 0, 0, 0, 0, 0, 0, 0, 0, 0, 0, 0, 0, 0, 0, 0, 0, 0, 0, 0, 0, 0, 0, 0, 0, 0, 0, 0, 0, 0, 0, 0, 0, 0, 0, 0, 0, 0, 0, 0, 0, 0, 0, 0, 0, 0, 0, 0, 0, 0, 0, 0, 0, 0, 0, 0, 0, 0, 0, 0, 0, 0, 0, 0, 0, 0, 0, 0, 0, 0, 0, 0, 0, 0, 0, 0, 0, 0, 0, 0, 0, 0, 0, 0, 0, 0, 0, 0, 0, 0, 0, 0, 0, 0, 0, 0, 0, 0, 0, 0, 0, 0, 0, 0, 0, 0, 0, 0, 0, 0, 0, 0, 0, 0, 0, 0, 0, 0, 0, 0, 0, 0, 0, 0, 0, 0, 0, 0, 0, 0, 0, 0, 0, 0, 0, 0, 0, 0, 0, 0, 0, 0, 0, 0, 0, 0, 0, 0, 0, 0, 0, 0, 0, 0, 0, 0, 0, 0, 0, 0, 0, 0, 0, 0, 0, 0, 0, 0, 0, 0, 0, 0, 0, 0, 0, 0, 0, 0, 0, 0, 0, 0, 0, 0, 0, 0, 0, 0, 0, 0, 0, 0, 0, 0, 0, 0, 0, 0, 0, 0, 0, 0, 0, 0, 0, 0, 0, 0, 0, 0, 0, 0, 0, 0, 0, 0, 0, 0, 0, 0, 0, 0, 0, 0, 0, 0, 0, 0, 0, 0, 0, 0, 0, 0, 0, 0, 0, 0, 0, 0, 0, 0, 0, 0, 0, 0, 0, 0, 0, 0, 0, 0, 0, 0, 0, 0, 0, 0, 0, 0, 0, 0, 0, 0, 0, 0, 0, 0, 0, 0, 0, 0, 0, 0, 0, 0, 0, 0, 0, 0, 0, 0, 0, 0, 0, 0, 0, 0, 0, 0, 0, 0, 0, 0, 0, 0, 0, 0, 0, 0, 0, 0, 0, 0, 0, 0, 0, 0, 0, 0, 0, 0, 0, 0, 0, 0, 0, 0, 0, 0, 0, 0, 0, 0, 0, 0, 0, 0, 0, 0, 0, 0, 0, 0, 0, 0, 0, 0, 0, 0, 0, 0, 0, 0, 0, 0, 0, 0, 0, 0, 0, 0, 0, 0, 0, 0, 0, 0, 0, 0, 0, 0, 0, 0, 0, 0, 0, 0, 0, 0, 0, 0, 0, 0, 0, 0, 0, 0, 0, 0, 0, 0, 0, 0, 0, 0, 0, 0, 0, 0, 0, 0, 0, 0, 0, 0, 0, 0, 0, 0, 0, 0, 0, 0, 0, 0, 0, 0, 0, 0, 0, 0, 0, 0, 0, 0, 0, 0, 0, 0, 0, 0, 0, 0, 0, 0, 0, 0, 0, 0, 0, 0, 0, 0, 0, 0, 0, 0, 0, 0, 0, 0, 0, 0, 0, 0, 0, 0, 0, 0, 0, 0, 0, 0, 0, 0, 0, 0, 0, 0, 0, 0, 0, 0, 0, 0, 0, 0, 0, 0, 0, 0, 0, 0, 0, 0, 0, 0, 0, 0, 0, 0, 0, 0, 0, 0, 0, 0, 0, 0, 0, 0, 0, 0, 0, 0, 0, 0, 0, 0, 0, 0, 0, 0, 0, 0, 0, 0, 0, 0, 0, 0, 0, 0, 0, 0, 0, 0, 0, 0, 0, 0, 0, 0, 0, 0, 0, 0, 0, 0, 0, 0, 0, 0, 0, 0, 0, 0, 0, 0, 0, 0, 0, 0, 0, 0, 0, 0, 0, 0, 0, 0, 0, 0, 0, 0, 0, 0, 0, 0, 0, 0, 0, 0, 0, 0, 0, 0, 0, 0, 0, 0, 0, 0, 0, 0, 0, 0, 0, 0, 0, 0, 0, 0, 0, 0, 0, 0, 0, 0, 0, 0, 0, 0, 0, 0, 0, 0, 0, 0, 0, 0, 0, 0, 0, 0, 0, 0, 0, 0, 0, 0, 0, 0, 0, 0, 0, 0, 0, 0, 0, 0, 0, 0, 0, 0, 0, 0, 0, 0, 0, 0, 0, 0, 0, 0, 0, 0, 0, 0, 0, 0, 0, 0, 0, 0, 0, 0, 0, 0, 0, 0, 0, 0, 0, 0, 0, 0, 0, 0, 0, 0, 0, 0, 0, 0, 0, 0, 0, 0, 0, 0, 0, 0, 0, 0, 0, 0, 0, 0, 0, 0, 0, 0, 0, 0, 0, 0, 0, 0, 0, 0, 0, 0, 0, 0, 0, 0, 0, 0, 0, 0, 0, 0, 0, 0, 0, 0, 0, 0, 0, 0, 0, 0, 0, 0, 0, 0, 0, 0, 0, 0, 0, 0, 0, 0, 0, 0, 0, 0, 0, 0, 0, 0, 0, 0, 0, 0, 0, 0, 0, 0, 0, 0, 0, 0, 0, 0, 0, 0, 0, 0, 0, 0, 0, 0, 0, 0, 0, 0, 0, 0, 0, 0, 0, 0, 0, 0, 0, 0, 0, 0, 0, 0, 0, 0, 0, 0, 0, 0, 0, 0, 0, 0, 0, 0, 0, 0, 0, 0, 0, 0, 0, 0, 0, 0, 0, 0, 0, 0, 0, 0, 0, 0, 0, 0, 0, 0, 0, 0, 0, 0, 0, 0, 0, 0, 0, 0, 0, 0, 0, 0, 0, 0, 0, 0, 0, 0, 0, 0, 0, 0, 0, 0, 0, 0, 0, 0, 0, 0, 0, 0, 0, 0, 0, 0, 0, 0, 0, 0, 0, 0, 0, 0, 0, 0, 0, 0, 0, 0, 0, 0, 0, 0, 0, 0, 0, 0, 0, 0, 0, 0, 0, 0, 0, 0, 0, 0, 0, 0, 0, 0, 0, 0, 0, 0, 0, 0, 0, 0, 0, 0, 0, 0, 0, 0, 0, 0, 0, 0, 0, 0, 0, 0, 0, 0, 0, 0, 0, 0, 0, 0, 0, 0, 0, 0, 0, 0, 0, 0, 0, 0, 0, 0, 0, 0, 0, 0, 0, 0, 0, 0, 0, 0, 0, 0, 0, 0, 0, 0, 0, 0, 0, 0, 0, 0, 0, 0, 0, 0, 0, 0, 0, 0, 0, 0, 0, 0, 0, 0, 0, 0, 0, 0, 0, 0, 0, 0, 0, 0, 0, 0, 0, 0, 0, 0, 0, 0, 0, 0, 0, 0, 0, 0, 0, 0, 0, 0, 0, 0, 0, 0, 0, 0, 0, 0, 0, 0, 0, 0, 0, 0, 0, 0, 0, 0, 0, 0, 0, 0, 0, 0, 0, 0, 0, 0, 0, 0, 0, 0, 0, 0, 0, 0, 0, 0, 0, 0, 0, 0, 0, 0, 0, 0, 0, 0, 0, 0, 0, 0, 0, 0, 0, 0, 0, 0, 0, 0, 0, 0, 0, 0, 0, 0, 0, 0, 0, 0, 0, 0, 0, 0, 0, 0, 0, 0, 0, 0, 0, 0, 0, 0, 0, 0, 0, 0, 0, 0, 0, 0, 0, 0, 0, 0, 0, 0, 0, 0, 0, 0, 0, 0, 0, 0, 0, 0, 0, 0, 0, 0, 0, 0, 0, 0, 0, 0, 0, 0, 0, 0, 0, 0, 0, 0, 0, 0, 0, 0, 0, 0, 0, 0, 0, 0, 0, 0, 0, 0, 0, 0, 0, 0, 0, 0, 0, 0, 0, 0, 0, 0, 0, 0, 0, 0, 0, 0, 0, 0, 0, 0, 0, 0, 0, 0, 0, 0, 0, 0, 0, 0, 0, 0, 0, 0, 0, 0, 0, 0, 0, 0, 0, 0, 0, 0, 0, 0, 0, 0, 0, 0, 0, 0, 0, 0, 0, 0, 0, 0, 0, 0, 0, 0, 0, 0, 0, 0, 0, 0, 0, 0, 0, 0, 0, 0, 0, 0, 0, 0, 0, 0, 0, 0, 0, 0, 0, 0, 0, 0, 0, 0, 0, 0, 0, 0, 0, 0, 0, 0, 0, 0, 0, 0, 0, 0, 0, 0, 0, 0, 0, 0, 0, 0, 0, 0, 0, 0, 0, 0, 0, 0, 0, 0, 0, 0, 0, 0, 0, 0, 0, 0, 0, 0, 0, 0, 0, 0, 0, 0, 0, 0, 0, 0, 0, 0, 0, 0, 0, 0, 0, 0, 0, 0, 0, 0, 0, 0, 0, 0, 0, 0, 0, 0, 0, 0, 0, 0, 0, 0, 0, 0, 0, 0, 0, 0, 0, 0, 0, 0, 0, 0, 0, 0, 0, 0, 0, 0, 0, 0, 0, 0, 0, 0, 0, 0, 0, 0, 0, 0, 0, 0, 0, 0, 0, 0, 0, 0, 0, 0, 0, 0, 0, 0, 0, 0, 0, 0, 0, 0, 0, 0, 0, 0, 0, 0, 0, 0, 0, 0, 0, 0, 0, 0, 0, 0, 0, 0, 0, 0, 0, 0, 0, 0, 0, 0, 0, 0, 0, 0, 0, 0, 0, 0, 0, 0, 0, 0, 0, 0, 0, 0, 0, 0, 0, 0, 0, 0, 0, 0, 0, 0, 0, 0, 0, 0, 0, 0, 0, 0, 0, 0, 0, 0, 0, 0, 0, 0, 0, 0, 0, 0, 0, 0, 0, 0, 0, 0, 0, 0, 0, 0, 0, 0, 0, 0, 0, 0, 0, 0, 0, 0, 0, 0, 0, 0, 0, 0, 0, 0, 0, 0, 0, 0, 0, 0, 0, 0, 0, 0, 0, 0, 0, 0, 0, 0, 0, 0, 0, 0, 0, 0, 0, 0, 0, 0, 0, 0, 0, 0, 0, 0, 0, 0, 0, 0, 0, 0, 0, 0, 0, 0, 0, 0, 0, 0, 0, 0, 0, 0, 0, 0, 0, 0, 0, 0, 0, 0, 0, 0, 0, 0, 0, 0, 0, 0, 0, 0, 0, 0, 0, 0, 0, 0, 0, 0, 0, 0, 0, 0, 0, 0, 0, 0, 0, 0, 0, 0, 0, 0, 0, 0, 0, 0, 0, 0, 0, 0, 0, 0, 0, 0, 0, 0, 0, 0, 0, 0, 0, 0, 0, 0, 0, 0, 0, 0, 0, 0, 0, 0, 0, 0, 0, 0, 0, 0, 0, 0, 0, 0, 0, 0, 0, 0, 0, 0, 0, 0, 0, 0, 0, 0, 0, 0, 0, 0, 0, 0, 0, 0, 0, 0, 0, 0, 0, 0, 0, 0, 0, 0, 0, 0, 0, 0, 0, 0, 0, 0, 0, 0, 0, 0, 0, 0, 0, 0, 0, 0, 0, 0, 0, 0, 0, 0, 0, 0, 0, 0, 0, 0, 0, 0, 0, 0, 0, 0, 0, 0, 0, 0, 0, 0, 0, 0, 0, 0, 0, 0, 0, 0, 0, 0, 0, 0, 0, 0, 0, 0, 0, 0, 0, 0, 0, 0, 0, 0, 0, 0, 0, 0, 0, 0, 0, 0, 0, 0, 0, 0, 0, 0, 0, 0, 0, 0, 0, 0, 0, 0, 0, 0, 0, 0, 0, 0, 0, 0, 0, 0, 0, 0, 0, 0, 0, 0, 0, 0, 0, 0, 0, 0, 0, 0, 0, 0, 0, 0, 0, 0, 0, 0, 0, 0, 0, 0, 0, 0, 0, 0, 0, 0, 0, 0, 0, 0, 0, 0, 0, 0, 0, 0, 0, 0, 0, 0, 0, 0, 0, 0, 0, 0, 0, 0, 0, 0, 0, 0, 0, 0, 0, 0, 0, 0, 0, 0, 0, 0, 0, 0, 0, 0, 0, 0, 0, 0, 0, 0, 0, 0, 0, 0, 0, 0, 0, 0, 0, 0, 0, 0, 0, 0, 0, 0, 0, 0, 0, 0, 0, 0, 0, 0, 0, 0, 0, 0, 0, 0, 0, 0, 0, 0, 0, 0, 0, 0, 0, 0, 0, 0, 0, 0, 0, 0, 0, 0, 0, 0, 0, 0, 0, 0, 0, 0, 0, 0, 0, 0, 0, 0, 0, 0, 0, 0, 0, 0, 0, 0, 0, 0, 0, 0, 0, 0, 0, 0, 0, 0, 0, 0, 0, 0, 0, 0, 0, 0, 0, 0, 0, 0, 0, 0, 0, 0, 0, 0, 0, 0, 0, 0, 0, 0, 0, 0, 0, 0, 0, 0, 0, 0, 0, 0, 0, 0, 0, 0, 0, 0, 0, 0, 0, 0, 0, 0, 0, 0, 0, 0, 0, 0, 0, 0, 0, 0, 0, 0, 0, 0, 0, 0, 0, 0, 0, 0, 0, 0, 0, 0, 0, 0, 0, 0, 0, 0, 0, 0, 0, 0, 0, 0, 0, 0, 0, 0, 0, 0, 0, 0, 0, 0, 0, 0, 0, 0, 0, 0, 0, 0, 0, 0, 0, 0, 0, 0, 0, 0, 0, 0, 0, 0, 0, 0, 0, 0, 0, 0, 0, 0, 0, 0, 0, 0, 0, 0, 0, 0, 0, 0, 0, 0, 0, 0, 0, 0, 0, 0, 0, 0, 0, 0, 0, 0, 0, 0, 0, 0, 0, 0, 0, 0, 0, 0, 0, 0, 0, 0, 0, 0, 0, 0, 0, 0, 0, 0, 0, 0, 0, 0, 0, 0, 0, 0, 0, 0, 0, 0, 0, 0, 0, 0, 0, 0, 0, 0, 0, 0, 0, 0, 0, 0, 0, 0, 0, 0, 0, 0, 0, 0, 0, 0, 0, 0, 0, 0, 0, 0, 0, 0, 0, 0, 0, 0, 0, 0, 0, 0, 0, 0, 0, 0, 0, 0, 0, 0, 0, 0, 0, 0, 0, 0, 0, 0, 0, 0, 0, 0, 0, 0, 0, 0, 0, 0, 0, 0, 0, 0, 0, 0, 0, 0, 0, 0, 0, 0, 0, 0, 0, 0, 0, 0, 0, 0, 0, 0, 0, 0, 0, 0, 0, 0, 0, 0, 0, 0, 0, 0, 0, 0, 0, 0, 0, 0, 0, 0, 0, 0, 0, 0, 0, 0, 0, 0, 0, 0, 0, 0, 0, 0, 0, 0, 0, 0, 0, 0, 0, 0, 0, 0, 0, 0, 0, 0, 0, 0, 0, 0, 0, 0, 0, 0, 0, 0, 0, 0, 0, 0, 0, 0, 0, 0, 0, 0, 0, 0, 0, 0, 0, 0, 0, 0, 0, 0, 0, 0, 0, 0, 0, 0, 0, 0, 0, 0, 0, 0, 0, 0, 0, 0, 0, 0, 0, 0, 0, 0, 0, 0, 0, 0, 0, 0, 0, 0, 0, 0, 0, 0, 0, 0, 0, 0, 0, 0, 0, 0, 0, 0, 0, 0, 0, 0, 0, 0, 0, 0, 0, 0, 0, 0, 0, 0, 0, 0, 0, 0, 0, 0, 0, 0, 0, 0, 0, 0, 0, 0, 0, 0, 0, 0, 0, 0, 0, 0, 0, 0, 0, 0, 0, 0, 0, 0, 0, 0, 0, 0, 0, 0, 0, 0, 0, 0, 0, 0, 0, 0, 0, 0, 0, 0, 0, 0, 0, 0, 0, 0, 0, 0, 0, 0, 0, 0, 0, 0, 0, 0, 0, 0, 0, 0, 0, 0, 0, 0, 0, 0, 0, 0, 0, 0, 0, 0, 0, 0, 0, 0, 0, 0, 0, 0, 0, 0, 0, 0, 0, 0, 0, 0, 0, 0, 0, 0, 0, 0, 0, 0, 0, 0, 0, 0, 0, 0, 0, 0, 0, 0, 0, 0, 0, 0, 0, 0, 0, 0, 0, 0, 0, 0, 0, 0, 0, 0, 0, 0, 0, 0, 0, 0, 0, 0, 0, 0, 0, 0, 0, 0, 0, 0, 0, 0, 0, 0, 0, 0, 0, 0, 0, 0, 0, 0, 0, 0, 0, 0, 0, 0, 0, 0, 0, 0, 0, 0, 0, 0, 0, 0, 0, 0, 0, 0, 0, 0, 0, 0, 0, 0, 0, 0, 0, 0, 0, 0, 0, 0, 0, 0, 0, 0, 0, 0, 0, 0, 0, 0, 0, 0, 0, 0, 0, 0, 0, 0, 0, 0, 0, 0, 0, 0, 0, 0, 0, 0, 0, 0, 0, 0, 0, 0, 0, 0, 0, 0, 0, 0, 0, 0, 0, 0, 0, 0, 0, 0, 0, 0, 0, 0, 0, 0, 0, 0, 0, 0, 0, 0, 0, 0, 0, 0, 0, 0, 0, 0, 0, 0, 0, 0, 0, 0, 0, 0, 0, 0, 0, 0, 0, 0, 0, 0, 0, 0, 0, 0, 0, 0, 0, 0, 0, 0, 0, 0, 0, 0, 0, 0, 0, 0, 0, 0, 0, 0, 0, 0, 0, 0, 0, 0, 0, 0, 0, 0, 0, 0, 0, 0, 0, 0, 0, 0, 0, 0, 0, 0, 0, 0, 0, 0, 0, 0, 0, 0, 0, 0, 0, 0, 0, 0, 0, 0, 0, 0, 0, 0, 0, 0, 0, 0, 0, 0, 0, 0, 0, 0, 0, 0, 0, 0, 0, 0, 0, 0, 0, 0, 0, 0, 0, 0, 0, 0, 0, 0, 0, 0, 0, 0, 0, 0, 0, 0, 0, 0, 0, 0, 0, 0, 0, 0, 0, 0, 0, 0, 0, 0, 0, 0, 0, 0, 0, 0, 0, 0, 0, 0, 0, 0, 0, 0, 0, 0, 0, 0, 0, 0, 0, 0, 0, 0, 0, 0, 0, 0, 0, 0, 0, 0, 0, 0, 0, 0, 0, 0, 0, 0, 0, 0, 0, 0, 0, 0, 0, 0, 0, 0, 0, 0, 0, 0, 0, 0, 0, 0, 0, 0, 0, 0, 0, 0, 0, 0, 0, 0, 0, 0, 0, 0, 0, 0, 0, 0, 0, 0, 0, 0, 0, 0, 0, 0, 0, 0, 0, 0, 0, 0, 0, 0, 0, 0, 0, 0, 0, 0, 0, 0, 0, 0, 0, 0, 0, 0, 0, 0, 0, 0, 0, 0, 0, 0, 0, 0, 0, 0, 0, 0, 0, 0, 0, 0, 0, 0, 0, 0, 0, 0, 0, 0, 0, 0, 0, 0, 0, 0, 0, 0, 0, 0, 0, 0, 0, 0, 0, 0, 0, 0, 0, 0, 0, 0, 0, 0, 0, 0, 0, 0, 0, 0, 0, 0, 0, 0, 0, 0, 0, 0, 0, 0, 0, 0, 0, 0, 0, 0, 0, 0, 0, 0, 0, 0, 0, 0, 0, 0, 0, 0, 0, 0, 0, 0, 0, 0, 0, 0, 0, 0, 0, 0, 0, 0, 0, 0, 0, 0, 0, 0, 0, 0, 0, 0, 0, 0, 0, 0, 0, 0, 0, 0, 0, 0, 0, 0, 0, 0, 0, 0, 0, 0, 0, 0, 0, 0, 0, 0, 0, 0, 0, 0, 0, 0, 0, 0, 0, 0, 0, 0, 0, 0, 0, 0, 0, 0, 0, 0, 0, 0, 0, 0, 0, 0, 0, 0, 0, 0, 0, 0, 0, 0, 0, 0, 0, 0, 0, 0, 0, 0, 0, 0, 0, 0, 0, 0, 0, 0, 0, 0, 0, 0, 0, 0, 0, 0, 0, 0, 0, 0, 0, 0, 0, 0, 0, 0, 0, 0, 0, 0, 0, 0, 0, 0, 0, 0, 0, 0, 0, 0, 0, 0, 0, 0, 0, 0, 0, 0, 0, 0, 0, 0, 0, 0, 0, 0, 0, 0, 0, 0, 0, 0, 0, 0, 0, 0, 0, 0, 0, 0, 0, 0, 0, 0, 0, 0, 0, 0, 0, 0, 0, 0, 0, 0, 0, 0, 0, 0, 0, 0, 0, 0, 0, 0, 0, 0, 0, 0, 0, 0, 0, 0, 0, 0, 0, 0, 0, 0, 0, 0, 0, 0, 0, 0, 0, 0, 0, 0, 0, 0, 0, 0, 0, 0, 0, 0, 0, 0, 0, 0, 0, 0, 0, 0, 0, 0, 0, 0, 0, 0, 0, 0, 0, 0, 0, 0, 0, 0, 0, 0, 0, 0, 0, 0, 0, 0, 0, 0, 0, 0, 0, 0, 0, 0, 0, 0, 0, 0, 0, 0, 0, 0, 0, 0, 0, 0, 0, 0, 0, 0, 0, 0, 0, 0, 0, 0, 0, 0, 0, 0, 0, 0, 0, 0, 0, 0, 0, 0, 0, 0, 0, 0, 0, 0, 0, 0, 0, 0, 0, 0, 0, 0, 0, 0, 0, 0, 0, 0, 0, 0, 0, 0, 0, 0, 0, 0, 0, 0, 0, 0, 0, 0, 0, 0, 0, 0, 0, 0, 0, 0, 0, 0, 0, 0, 0, 0, 0, 0, 0, 0, 0, 0, 0, 0, 0, 0, 0, 0, 0, 0, 0, 0, 0, 0, 0, 0, 0, 0, 0, 0, 0, 0, 0, 0, 0, 0, 0, 0, 0, 0, 0, 0, 0, 0, 0, 0, 0, 0, 0, 0, 0, 0, 0, 0, 0, 0, 0, 0, 0, 0, 0, 0, 0, 0, 0, 0, 0, 0, 0, 0, 0, 0, 0, 0, 0, 0, 0, 0, 0, 0, 0, 0, 0, 0, 0, 0, 0, 0, 0, 0, 0, 0, 0, 0, 0, 0, 0, 0, 0, 0, 0, 0, 0, 0, 0, 0, 0, 0, 0, 0, 0, 0, 0, 0, 0, 0, 0, 0, 0, 0, 0, 0, 0, 0, 0, 0, 0, 0, 0, 0, 0, 0, 0, 0, 0, 0, 0, 0, 0, 0, 0, 0, 1, 1, 1, 1, 1, 1, 1, 1, 1, 1, 1, 1, 1, 1, 1, 1, 1, 1, 1, 1, 1, 1, 1, 1, 1, 1, 1, 1, 1, 1, 1, 1, 1, 1, 1, 1, 1, 1, 1, 1, 1, 1, 1, 1, 1, 1, 1, 1, 1, 1, 1, 1, 1, 1, 1, 1, 1, 1, 1, 1, 1, 1, 1, 1, 1, 1, 1, 1, 1, 1, 1, 1, 1, 1, 1, 1, 1, 1, 1, 1, 1, 1, 1, 1, 1, 1, 1, 1, 1, 1, 1, 1, 1, 1, 1, 1, 1, 1, 1, 1, 1, 1, 1, 1, 1, 1, 1, 1, 1, 1, 1, 1, 1, 1, 1, 1, 1, 1, 1, 1, 1, 1, 1, 1, 1, 1, 1, 1, 1, 1, 1, 1, 1, 1, 1, 1, 1, 1, 1, 1, 1, 1, 1, 1, 1, 1, 1, 1, 1, 1, 1, 1, 1, 1, 1, 1, 1, 1, 1, 1, 1, 1, 1, 1, 1, 1, 1, 1, 1, 1, 1, 1, 1, 1, 1, 1, 1, 1, 1, 1, 1, 1, 1, 1, 1, 1, 1, 1, 1, 1, 1, 1, 1, 1, 1, 1, 1, 1, 1, 1, 1, 1, 1, 1, 1, 1, 1, 1, 1, 1, 1, 1, 1, 1, 1, 1, 1, 1, 1, 1, 1, 1, 1, 1, 1, 1, 1, 1, 1, 1, 1, 1, 1, 1, 1, 1, 1, 1, 1, 1, 1, 1, 1, 1, 1, 1, 1, 1, 1, 1, 1, 1, 1, 1, 1, 1, 1, 1, 1, 1, 1, 1, 1, 1, 1, 1, 1, 1, 1, 1, 1, 1, 1, 1, 1, 1, 1, 1, 1, 1, 1, 1, 1, 1, 1, 1, 1, 1, 1, 1, 1, 1, 1, 1, 1, 1, 1, 1, 1, 1, 1, 1, 1, 1, 1, 1, 1, 1, 1, 1, 1, 1, 1, 1, 1, 1, 1, 1, 1, 1, 1, 1, 1, 1, 1, 1, 1, 1, 1, 1, 1, 1, 1, 1, 1, 1, 1, 1, 1, 1, 1, 1, 1, 1, 1, 1, 1, 1, 1, 1, 1, 1, 1, 1, 1, 1, 1, 1, 1, 1, 1, 1, 1, 1, 1, 1, 1, 1, 1, 1, 1, 1, 1, 1, 1, 1, 1, 1, 1, 1, 1, 1, 1, 1, 1, 1, 1, 1, 1, 1, 1, 1, 1, 1, 1, 1, 1, 1, 1, 1, 1, 1, 1, 1, 1, 1, 1, 1, 1, 1, 1, 1, 1, 1, 1, 1, 1, 1, 1, 1, 1, 1, 1, 1, 1, 1, 1, 1, 1, 1, 1, 1, 1, 1, 1, 1, 1, 1, 1, 1, 1, 1, 1, 1, 1, 1, 1, 1, 1, 1, 1, 1, 1, 1, 1, 1, 1, 1, 1, 1, 1, 1, 1, 1, 1, 1, 1, 1, 1, 1, 1, 1, 1, 1, 1, 1, 1, 1, 1, 1, 1, 1, 1, 1, 1, 1, 1, 1, 1, 1, 1, 1, 1, 1, 1, 1, 1, 1, 1, 1, 1, 1, 1, 1, 1, 1, 1, 1, 1, 1, 1, 1, 1, 1, 1, 1, 1, 1, 1, 1, 1, 1, 1, 1, 1, 1, 1, 1, 1, 1, 1, 1, 1, 1, 1, 1, 1, 1, 1, 1, 1, 1, 1, 1, 1, 1, 1, 1, 1, 1, 1, 1, 1, 1, 1, 1, 1, 1, 1, 1, 1, 1, 1, 1, 1, 1, 1, 1, 1, 1, 1, 1, 1, 1, 1, 1, 1, 1, 1, 1, 1, 1, 1, 1, 1, 1, 1, 1, 1, 1, 1, 1, 1, 1, 1, 1, 1, 1, 1, 1, 1, 1, 1, 1, 1, 1, 1, 1, 1, 1, 1, 1, 1, 1, 1, 1, 1, 1, 1, 1, 1, 1, 1, 1, 1, 1, 1, 1, 1, 1, 1, 1, 1, 1, 1, 1, 1, 1, 1, 1, 1, 1, 1, 1, 1, 1, 1, 1, 1, 1, 1, 1, 1, 1, 1, 1, 1, 1, 1, 1, 1, 1, 1, 1, 1, 1, 1, 1, 1, 1, 1, 1, 1, 1, 1, 1, 1, 1, 1, 1, 1, 1, 1, 1, 1, 1, 1, 1, 1, 1, 1, 1, 1, 1, 1, 1, 1, 1, 1, 1, 1, 1, 1, 1, 1, 1, 1, 1, 1, 1, 1, 1, 1, 1, 1, 1, 1, 1, 1, 1, 1, 1, 1, 1, 1, 1, 1, 1, 1, 1, 1, 1, 1, 1, 1, 1, 1, 1, 1, 1, 1, 1, 1, 1, 1, 1, 1, 1, 1, 1, 1, 1, 1, 1, 1, 1, 1, 1, 1, 1, 1, 1, 1, 1, 1, 1, 1, 1, 1, 1, 1, 1, 1, 1, 1, 1, 1, 1, 1, 1, 1, 1, 1, 1, 1, 1, 1, 1, 1, 1, 1, 1, 1, 1, 1, 1, 1, 1, 1, 1, 1, 1, 1, 1, 1, 1, 1, 1, 1, 1, 1, 1, 1, 1, 1, 1, 1, 1, 1, 1, 1, 1, 1, 1, 1, 1, 1, 1, 1, 1, 1, 1, 1, 1, 1, 1, 1, 1, 1, 1, 1, 1, 1, 1, 1, 1, 1, 1, 1, 1, 1, 1, 1, 1, 1, 1, 1, 1, 1, 1, 1, 1, 1, 1, 1, 1, 1, 1, 1, 1, 1, 1, 1, 1, 1, 1, 1, 1, 1, 1, 1, 1, 1, 1, 1, 1, 1, 1, 1, 1, 1, 1, 1, 1, 1, 1, 1, 1, 1, 1, 1, 1, 1, 1, 1, 1, 1, 1, 1, 1, 1, 1, 1, 1, 1, 1, 1, 1, 1, 1, 1, 1, 1, 1, 1, 1, 1, 1, 1, 1, 1, 1, 1, 1, 1, 1, 1, 1, 1, 1, 1, 1, 1, 1, 1, 1, 1, 1, 1, 1, 1, 1, 1, 1, 1, 1, 1, 1, 1, 1, 1, 1, 1, 1, 1, 1, 1, 1, 1, 1, 1, 1, 1, 1, 1, 1, 1, 1, 1, 1, 1, 1, 1, 1, 1, 1, 1, 1, 1, 1, 1, 1, 1, 1, 1, 1, 1, 1, 1, 1, 1, 1, 1, 1, 1, 1, 1, 1, 1, 1, 1, 1, 1, 1, 1, 1, 1, 1, 1, 1, 1, 1, 1, 1, 1, 1, 1, 1, 1, 1, 1, 1, 1, 1, 1, 1, 1, 1, 1, 1, 1, 1, 1, 1, 1, 1, 1, 1, 1, 1, 1, 1, 1, 1, 1, 1, 1, 1, 1, 1, 1, 1, 1, 1, 1, 1, 1, 1, 1, 1, 1, 1, 1, 1, 1, 1, 1, 1, 1, 1, 1, 1, 1, 1, 1, 1, 1, 1, 1, 1, 1, 1, 1, 1, 1, 1, 1, 1, 1, 1, 1, 1, 1, 1, 1, 1, 1, 1, 1, 1, 1, 1, 1, 1, 1, 1, 1, 1, 1, 1, 1, 1, 1, 1, 1, 1, 1, 1, 1, 1, 1, 1, 1, 1, 1, 1, 1, 1, 1, 1, 1, 1, 1, 1, 1, 1, 1, 1, 1, 1, 1, 1, 1, 1, 1, 1, 1, 1, 1, 1, 1, 1, 1, 1, 1, 1, 1, 1, 1, 1, 1, 1, 1, 1, 1, 1, 1, 1, 1, 1, 1, 1, 1, 1, 1, 1, 1, 1, 1, 1, 1, 1, 1, 1, 1, 1, 1, 1, 1, 1, 1, 1, 1, 1, 1, 1, 1, 1, 1, 1, 1, 1, 1, 1, 1, 1, 1, 1, 1, 1, 1, 1, 1, 1, 1, 1, 1, 1, 1, 1, 1, 1, 1, 1, 1, 1, 1, 1, 1, 1, 1, 1, 1, 1, 1, 1, 1, 1, 1, 1, 1, 1, 1, 1, 1, 1, 1, 1, 1, 1, 1, 1, 1, 1, 1, 1, 1, 1, 1, 1, 1, 1, 1, 1, 1, 1, 1, 1, 1, 1, 1, 1, 1, 1, 1, 1, 1, 1, 1, 1, 1, 1, 1, 1, 1, 1, 1, 1, 1, 1, 1, 1, 1, 1, 1, 1, 1, 1, 1, 1, 1, 1, 1, 1, 1, 1, 1, 1, 1, 1, 1, 1, 1, 1, 1, 1, 1, 1, 1, 1, 1, 1, 1, 1, 1, 1, 1, 1, 1, 1, 1, 1, 1, 1, 1, 1, 1, 1, 1, 1, 1, 1, 1, 1, 1, 1, 1, 1, 1, 1, 1, 1, 1, 1, 1, 1, 1, 1, 1, 1, 1, 1, 1, 1, 1, 1, 1, 1, 1, 1, 1, 1, 1, 1, 1, 1, 1, 1, 1, 1, 1, 1, 1, 1, 1, 1, 1, 1, 1, 1, 1, 1, 1, 1, 1, 1, 1, 1, 1, 1, 1, 1, 1, 1, 1, 1, 1, 1, 1, 1, 1, 1, 1, 1, 1, 1, 1, 1, 1, 1, 1, 1, 1, 1, 1, 1, 1, 1, 1, 1, 1, 1, 1, 1, 1, 1, 1, 1, 1, 1, 1, 1, 1, 1, 1, 1, 1, 1, 1, 1, 1, 1, 1, 1, 1, 1, 1, 1, 1, 1, 1, 1, 1, 1, 1, 1, 1, 1, 1, 1, 1, 1, 1, 1, 1, 1, 1, 1, 1, 1, 1, 1, 1, 1, 1, 1, 1, 1, 1, 1, 1, 1, 1, 1, 1, 1, 1, 1, 1, 1, 1, 1, 1, 1, 1, 1, 1, 1, 1, 1, 1, 1, 1, 1, 1, 1, 1, 1, 1, 1, 1, 1, 1, 1, 1, 1, 1, 1, 1, 1, 1, 1, 1, 1, 1, 1, 1, 1, 1, 1, 1, 1, 1, 1, 1, 1, 1, 1, 1, 1, 1, 1, 1, 1, 1, 1, 1, 1, 1, 1, 1, 1, 1, 1, 1, 1, 1, 1, 1, 1, 1, 1, 1, 1, 1, 1, 1, 1, 1, 1, 1, 1, 1, 1, 1, 1, 1, 1, 1, 1, 1, 1, 1, 1, 1, 1, 1, 1, 1, 1, 1, 1, 1, 1, 1, 1, 1, 1, 1, 1, 1, 1, 1, 1, 1, 1, 1, 1, 1, 1, 1, 1, 1, 1, 1, 1, 1, 1, 1, 1, 1, 1, 1, 1, 1, 1, 1, 1, 1, 1, 1, 1, 1, 1, 1, 1, 1, 1, 1, 1, 1, 1, 1, 1, 1, 1, 1, 1, 1, 1, 1, 1, 1, 1, 1, 1, 1, 1, 1, 1, 1, 1, 1, 1, 1, 1, 1, 1, 1, 1, 1, 1, 1, 1, 1, 1, 1, 1, 1, 1, 1, 1, 1, 1, 1, 1, 1, 1, 1, 1, 1, 1, 1, 1, 1, 1, 1, 1, 1, 1, 1, 1, 1, 1, 1, 1, 1, 1, 1, 1, 1, 1, 1, 1, 1, 1, 1, 1, 1, 1, 1, 1, 1, 1, 1, 1, 1, 1, 1, 1, 1, 1, 1, 1, 1, 1, 1, 1, 1, 1, 1, 1, 1, 1, 1, 1, 1, 1, 1, 1, 1, 1, 1, 1, 1, 1, 1, 1, 1, 1, 1, 1, 1, 1, 1, 1, 1, 1, 1, 1, 1, 1, 1, 1, 1, 1, 1, 1, 1, 1, 1, 1, 1, 1, 1, 1, 1, 1, 1, 1, 1, 1, 1, 1, 1, 1, 1, 1, 1, 1, 1, 1, 1, 1, 1, 1, 1, 1, 1, 1, 1, 1, 1, 1, 1, 1, 1, 1, 1, 1, 1, 1, 1, 1, 1, 1, 1, 1, 1, 1, 1, 1, 1, 1, 1, 1, 1, 1, 1, 1, 1, 1, 1, 1, 1, 1, 1, 1, 1, 1, 1, 1, 1, 1, 1, 1, 1, 1, 1, 1, 1, 1, 1, 1, 1, 1, 1, 1, 1, 1, 1, 1, 1, 1, 1, 1, 1, 1, 1, 1, 1, 1, 1, 1, 1, 1, 1, 1, 1, 1, 1, 1, 1, 1, 1, 1, 1, 1, 1, 1, 1, 1, 1, 1, 1, 1, 1, 1, 1, 1, 1, 1, 1, 1, 1, 1, 1, 1, 1, 1, 1, 1, 1, 1, 1, 1, 1, 1, 1, 1, 1, 1, 1, 1, 1, 1, 1, 1, 1, 1, 1, 1, 1, 1, 1, 1, 1, 1, 1, 1, 1, 1, 1, 1, 1, 1, 1, 1, 1, 1, 1, 1, 1, 1, 1, 1, 1, 1, 1, 1, 1, 1, 1, 1, 1, 1, 1, 1, 1, 1, 1, 1, 1, 1, 1, 1, 1, 1, 1, 1, 1, 1, 1, 1, 1, 1, 1, 1, 1, 1, 1, 1, 1, 1, 1, 1, 1, 1, 1, 1, 1, 1, 1, 1, 1, 1, 1, 1, 1, 1, 1, 1, 1, 1, 1, 1, 1, 1, 1, 1, 1, 1, 1, 1, 1, 1, 1, 1, 1, 1, 1, 1, 1, 1, 1, 1, 1, 1, 1, 1, 1, 1, 1, 1, 1, 1, 1, 1, 1, 1, 1, 1, 1, 1, 1, 1, 1, 1, 1, 1, 1, 1, 1, 1, 1, 1, 1, 1, 1, 1, 1, 1, 1, 1, 1, 1, 1, 1, 1, 1, 1, 1, 1, 1, 1, 1, 1, 1, 1, 1, 1, 1, 1, 1, 1, 1, 1, 1, 1, 1, 1, 1, 1, 1, 1, 1, 1, 1, 1, 1, 1, 1, 1, 1, 1, 1, 1, 1, 1, 1, 1, 1, 1, 1, 1, 1, 1, 1, 1, 1, 1, 1, 1, 1, 1, 1, 1, 1, 1, 1, 1, 1, 1, 1, 1, 1, 1, 1, 1, 1, 1, 1, 1, 1, 1, 1, 1, 1, 1, 1, 1, 1, 1, 1, 1, 1, 1, 1, 1, 1, 1, 1, 1, 1, 1, 1, 1, 1, 1, 1, 1, 1, 1, 1, 1, 1, 1, 1, 1, 1, 1, 1, 1, 1, 1, 1, 1, 1, 1, 1, 1, 1, 1, 1, 1, 1, 1, 1, 1, 1, 1, 1, 1, 1, 1, 1, 1, 1, 1, 1, 1, 1, 1, 1, 1, 1, 1, 1, 1, 1, 1, 1, 1, 1, 1, 1, 1, 1, 1, 1, 1, 1, 1, 1, 1, 1, 1, 1, 1, 1, 1, 1, 1, 1, 1, 1, 1, 1, 1, 1, 1, 1, 1, 1, 1, 1, 1, 1, 1, 1, 1, 1, 1, 1, 1, 1, 1, 1, 1, 1, 1, 1, 1, 1, 1, 1, 1, 1, 1, 1, 1, 1, 1, 1, 1, 1, 1, 1, 1, 1, 1, 1, 1, 1, 1, 1, 1, 1, 1, 1, 1, 1, 1, 1, 1, 1, 1, 1, 1, 1, 1, 1, 1, 1, 1, 1, 1, 1, 1, 1, 1, 1, 1, 1, 1, 1, 1, 1, 1, 1, 1, 1, 1, 1, 1, 1, 1, 1, 1, 1, 1, 1, 1, 1, 1, 1, 1, 1, 1, 1, 1, 1, 1, 1, 1, 1, 1, 1, 1, 1, 1, 1, 1, 1, 1, 1, 1, 1, 1, 1, 1, 1, 1, 1, 1, 1, 1, 1, 1, 1, 1, 1, 1, 1, 1, 1, 1, 1, 1, 1, 1, 1, 1, 1, 1, 1, 1, 1, 1, 1, 1, 1, 1, 1, 1, 1, 1, 1, 1, 1, 1, 1, 1, 1, 1, 1, 1, 1, 1, 1, 1, 1, 1, 1, 1, 1, 1, 1, 1, 1, 1, 1, 1, 1, 1, 1, 1, 1, 1, 1, 1, 1, 1, 1, 1, 1, 1, 1, 1, 1, 1, 1, 1, 1, 1, 1, 1, 1, 1, 1, 1, 1, 1, 1, 1, 1, 1, 1, 1, 1, 1, 1, 1, 1, 1, 1, 1, 1, 1, 1, 1, 1, 1, 1, 1, 1, 1, 1, 1, 1, 1, 1, 1, 1, 1, 1, 1, 1, 1, 1, 1, 1, 1, 1, 1, 1, 1, 1, 1, 1, 1, 1, 1, 1, 1, 1, 1, 1, 1, 1, 1, 1, 1, 1, 1, 1, 1, 1, 1, 1, 1, 1, 1, 1, 1, 1, 1, 1, 1, 1, 1, 1, 1, 1, 1, 1, 1, 1, 1, 1, 1, 1, 1, 1, 1, 1, 1, 1, 1, 1, 1, 1, 1, 1, 1, 1, 1, 1, 1, 1, 1, 1, 1, 1, 1, 1, 1, 1, 1, 1, 1, 1, 1, 1, 1, 1, 1, 1, 1, 1, 1, 1, 1, 1, 1, 1, 1, 1, 1, 1, 1, 1, 1, 1, 1, 1, 1, 1, 1, 1, 1, 1, 1, 1, 1, 1, 1, 1, 1, 1, 1, 1, 1, 1, 1, 1, 1, 1, 1, 1, 1, 1, 1, 1, 1, 1, 1, 1, 1, 1, 1, 1, 1, 1, 1, 1, 1, 1, 1, 1, 1, 1, 1, 1, 1, 1, 1, 1, 1, 1, 1, 1, 1, 1, 1, 1, 1, 1, 1, 1, 1, 1, 1, 1, 1, 1, 1, 1, 1, 1, 1, 1, 1, 1, 1, 1, 1, 1, 1, 1, 1, 1, 1, 1, 1, 1, 1, 1, 1, 1, 1, 1, 1, 1, 1, 1, 1, 1, 1, 1, 1, 1, 1, 1, 1, 1, 1, 1, 1, 1, 1, 1, 1, 1, 1, 1, 1, 1, 1, 1, 1, 1, 1, 1, 1, 1, 1, 1, 1, 1, 1, 1, 1, 1, 1, 1, 1, 1, 1, 1, 1, 1, 1, 1, 1, 1, 1, 1, 1, 1, 1, 1, 1, 1, 1, 1, 1, 1, 1, 1, 1, 1, 1, 1, 1, 1, 1, 1, 1, 1, 1, 1, 1, 1, 1, 1, 1, 1, 1, 1, 1, 1, 1, 1, 1, 1, 1, 1, 1, 1, 1, 1, 1, 1, 1, 1, 1, 1, 1, 1, 1, 1, 1, 1, 1, 1, 1, 1, 1, 1, 1, 1, 1, 1, 1, 1, 1, 1, 1, 1, 1, 1, 1, 1, 1, 1, 1, 1, 1, 1, 1, 1, 1, 1, 1, 1, 1, 1, 1, 1, 1, 1, 1, 1, 1, 1, 1, 1, 1, 1, 1, 1, 1, 1, 1, 1, 1, 1, 1, 1, 1, 1, 1, 1, 1, 1, 1, 1, 1, 1, 1, 1, 1, 1, 1, 1, 1, 1, 1, 1, 1, 1, 1, 1, 1, 1, 1, 1, 1, 1, 1, 1, 1, 1, 1, 1, 1, 1, 1, 1, 1, 1, 1, 1, 1, 1, 1, 1, 1, 1, 1, 1, 1, 1, 1, 1, 1, 1, 1, 1, 1, 1, 1, 1, 1, 1, 1, 1, 1, 1, 1, 1, 1, 1, 1, 1, 1, 1, 1, 1, 1, 1, 1, 1, 1, 1, 1, 1, 1, 1, 1, 1, 1, 1, 1, 1, 1, 1, 1, 1, 1, 1, 1, 1, 1, 1, 1, 1, 1, 1, 1, 1, 1, 1, 1, 1, 1, 1, 1, 1, 1, 1, 1, 1, 1, 1, 1, 1, 1, 1, 1, 1, 1, 1, 1, 1, 1, 1, 1, 1, 1, 1, 1, 1, 1, 1, 1, 1, 1, 1, 1, 1, 1, 1, 1, 1, 1, 1, 1, 1, 1, 1, 1, 1, 1, 1, 1, 1, 1, 1, 1, 1, 1, 1, 1, 1, 1, 1, 1, 1, 1, 1, 1, 1, 1, 1, 1, 1, 1, 1, 1, 1, 1, 1, 1, 1, 1, 1, 1, 1, 1, 1, 1, 1, 1, 1, 1, 1, 1, 1, 1, 1, 1, 1, 1, 1, 1, 1, 1, 1, 1, 1, 1, 1, 1, 1, 1, 1, 1, 1, 1, 1, 1, 1, 1, 1, 1, 1, 1, 1, 1, 1, 1, 1, 1, 1, 1, 1, 1, 1, 1, 1, 1, 1, 1, 1, 1, 1, 1, 1, 1, 1, 1, 1, 1, 1, 1, 1, 1, 1, 1, 1, 1, 1, 1, 1, 1, 1, 1, 1, 1, 1, 1, 1, 1, 1, 1, 1, 1, 1, 1, 1, 1, 1, 1, 1, 1, 1, 1, 1, 1, 1, 1, 1, 1, 1, 1, 1, 1, 1, 1, 1, 1, 1, 1, 1, 1, 1, 1, 1, 1, 1, 1, 1, 1, 1, 1, 1, 1, 1, 1, 1, 1, 1, 1, 1, 1, 1, 1, 1, 1, 1, 1, 1, 1, 1, 1, 1, 1, 1, 1, 1, 1, 1, 1, 1, 1, 1, 1, 1, 1, 1, 1, 1, 1, 1, 1, 1, 1, 1, 1, 1, 1, 1, 1, 1, 1, 1, 1, 1, 1, 1, 1, 1, 1, 1, 1, 1, 1, 1, 1, 1, 1, 1, 1, 1, 1, 1, 1, 1, 1, 1, 1, 1, 1, 1, 1, 1, 1, 1, 1, 1, 1, 1, 1, 1, 1, 1, 1, 1, 1, 1, 1, 1, 1, 1, 1, 1, 1, 1, 1, 1, 1, 1, 1, 1, 1, 1, 1, 1, 1, 1, 1, 1, 1, 1, 1, 1, 1, 1, 1, 1, 1, 1, 1, 1, 1, 1, 1, 1, 1, 1, 1, 1, 1, 1, 1, 1, 1, 1, 1, 1, 1, 1, 1, 1, 1, 1, 1, 1, 1, 1, 1, 1, 1, 1, 1, 1, 1, 1, 1, 1, 1, 1, 1, 1, 1, 1, 1, 1, 1, 1, 1, 1, 1, 1, 1, 1, 1, 1, 1, 1, 1, 1, 1, 1, 1, 1, 1, 1, 1, 1, 1, 1, 1, 1, 1, 1, 1, 1, 1, 1, 1, 1, 1, 1, 1, 1, 1, 1, 1, 1, 1, 1, 1, 1, 1, 1, 1, 1, 1, 1, 1, 1, 1, 1, 1, 1, 1, 1, 1, 1, 1, 1, 1, 1, 1, 1, 1, 1, 1, 1, 1, 1, 1, 1, 1, 1, 1, 1, 1, 1, 1, 1, 1, 1, 1, 1, 1, 1, 1, 1, 1, 1, 1, 1, 1, 1, 1, 1, 1, 1, 1, 1, 1, 1, 1, 1, 1, 1, 1, 1, 1, 1, 1, 1, 1, 1, 1, 1, 1, 1, 1, 1, 1, 1, 1, 1, 1, 1, 1, 1, 1, 1, 1, 1, 1, 1, 1, 1, 1, 1, 1, 1, 1, 1, 1, 1, 1, 1, 1, 1, 1, 1, 1, 1, 1, 1, 1, 1, 1, 1, 1, 1, 1, 1, 1, 1, 1, 1, 1, 1, 1, 1, 1, 1, 1, 1, 1, 1, 1, 1, 1, 1, 1, 1, 1, 1, 1, 1, 1, 1, 1, 1, 1, 1, 1, 1, 1, 1, 1, 1, 1, 1, 1, 1, 1, 1, 1, 1, 1, 1, 1, 1, 1, 1, 1, 1, 1, 1, 1, 1, 1, 1, 1, 1, 1, 1, 1, 1, 1, 1, 1, 1, 1, 1, 1, 1, 1, 1, 1, 1, 1, 1, 1, 1, 1, 1, 1, 1, 1, 1, 1, 1, 1, 1, 1, 1, 1, 1, 1, 1, 1, 1, 1, 1, 1, 1, 1, 1, 1, 1, 1, 1, 1, 1, 1, 1, 1, 1, 1, 1, 1, 1, 1, 1, 1, 1, 1, 1, 1, 1, 1, 1, 1, 1, 1, 1, 1, 1, 1, 1, 1, 1, 1, 1, 1, 1, 1, 1, 1, 1, 1, 1, 1, 1, 1, 1, 1, 1, 1, 1, 1, 1, 1, 1, 1, 1, 1, 1, 1, 1, 1, 1, 1, 1, 1, 1, 1, 1, 1, 1, 1, 1, 1, 1, 1, 1, 1, 1, 1, 1, 1, 1, 1, 1, 1, 1, 1, 1, 1, 1, 1, 1, 1, 1, 1, 1, 1, 1, 1, 1, 1, 1, 1, 1, 1, 1, 1, 1, 1, 1, 1, 1, 1, 1, 1, 1, 1, 1, 1, 1, 1, 1, 1, 1, 1, 1, 1, 1, 1, 1, 1, 1, 1, 1, 1, 1, 1, 1, 1, 1, 1, 1, 1, 1, 1, 1, 1, 1, 1, 1, 1, 1, 1, 1, 1, 1, 1, 1, 1, 1, 1, 1, 1, 1, 1, 1, 1, 1, 1, 1, 1, 1, 1, 1, 1, 1, 1, 1, 1, 1, 1, 1, 1, 1, 1, 1, 1, 1, 1, 1, 1, 1, 1, 1, 1, 1, 1, 1, 1, 1, 1, 1, 1, 1, 1, 1, 1, 1, 1, 1, 1, 1, 1, 1, 1, 1, 1, 1, 1, 1, 1, 1, 1, 1, 1, 1, 1, 1, 1, 1, 1, 1, 1, 1, 1, 1, 1, 1, 1, 1, 1, 1, 1, 1, 1, 1, 1, 1, 1, 1, 1, 1, 1, 1, 1, 1, 1, 1, 1, 1, 1, 1, 1, 1, 1, 1, 1, 1, 1, 1, 1, 1, 1, 1, 1, 1, 1, 1, 1, 1, 1, 1, 1, 1, 1, 1, 1, 1, 1, 1, 1, 1, 1, 1, 1, 1, 1, 1, 1, 1, 1, 1, 1, 1, 1, 1, 1, 1, 1, 1, 1, 1, 1, 1, 1, 1, 1, 1, 1, 1, 1, 1, 1, 1, 1, 1, 1, 1, 1, 1, 1, 1, 1, 1, 1, 1, 1, 1, 1, 1, 1, 1, 1, 1, 1, 1, 1, 1, 1, 1, 1, 1, 1, 1, 1, 1, 1, 1, 1, 1, 1, 1, 1, 1, 1, 1, 1, 1, 1, 1, 1, 1, 1, 1, 1, 1, 1, 1, 1, 1, 1, 1, 1, 1, 1, 1, 1, 1, 1, 1, 1, 1, 1, 1, 1, 1, 1, 1, 1, 1, 1, 1, 1, 1, 1, 1, 1, 1, 1, 1, 1, 1, 1, 1, 1, 1, 1, 1, 1, 1, 1, 1, 1, 1, 1, 1, 1, 1, 1, 1, 1, 1, 1, 1, 1, 1, 1, 1, 1, 1, 1, 1, 1, 1, 1, 1, 1, 1, 1, 1, 1, 1, 1, 1, 1, 1, 1, 1, 1, 1, 1, 1, 1, 1, 1, 1, 1, 1, 1, 1, 1, 1, 1, 1, 1, 1, 1, 1, 1, 1, 1, 1, 1, 1, 1, 1, 1, 1, 1, 1, 1, 1, 1, 1, 1, 1, 1, 1, 1, 1, 1, 1, 1, 1, 1, 1, 1, 1, 1, 1, 1, 1, 1, 1, 1, 1, 1, 1, 1, 1, 1, 1, 1, 1, 1, 1, 1, 1, 1, 1, 1, 1, 1, 1, 1, 1, 1, 1, 1, 1, 1, 1, 1, 1, 1, 1, 1, 1, 1, 1, 1, 1, 1, 1, 1, 1, 1, 1, 1, 1, 1, 1, 1, 1, 1, 1, 1, 1, 1, 1, 1, 1, 1, 1, 1, 1, 1, 1, 1, 1, 1, 1, 1, 1, 1, 1, 1, 1, 1, 1, 1, 1, 1, 1, 1, 1, 1, 1, 1, 1, 1, 1, 1, 1, 1, 1, 1, 1, 1, 1, 1, 1, 1, 1, 1, 1, 1, 1, 1, 1, 1, 1, 1, 1, 1, 1, 1, 1, 1, 1, 1, 1, 1, 1, 1, 1, 1, 1, 1, 1, 1, 1, 1, 1, 1, 1, 1, 1, 1, 1, 1, 1, 1, 1, 1, 1, 1, 1, 1, 1, 1, 1, 1, 1, 1, 1, 1, 1, 1, 1, 1, 1, 1, 1, 1, 1, 1, 1, 1, 1, 1, 1, 1, 1, 1, 1, 1, 1, 1, 1, 1, 1, 1, 1, 1, 1, 1, 1, 1, 1, 1, 1, 1, 1, 1, 1, 1, 1, 1, 1, 1, 1, 1, 1, 1, 1, 1, 1, 1, 1, 1, 1, 1, 1, 1, 1, 1, 1, 1, 1, 1, 1, 1, 1, 1, 1, 1, 1, 1, 1, 1, 1, 1, 1, 1, 1, 1, 1, 1, 1, 1, 1, 1, 1, 1, 1, 1, 1, 1, 1, 1, 1, 1, 1, 1, 1, 1, 1, 1, 1, 1, 1, 1, 1, 1, 1, 1, 1, 1, 1, 1, 1, 1, 1, 1, 1, 1, 1, 1, 1, 1, 1, 1, 1, 1, 1, 1, 1, 1, 1, 1, 1, 1, 1, 1, 1, 1, 1, 1, 1, 1, 1, 1, 1, 1, 1, 1, 1, 1, 1, 1, 1, 1, 1, 1, 1, 1, 1, 1, 1, 1, 1, 1, 1, 1, 1, 1, 1, 1, 1, 1, 1, 1, 1, 1, 1, 1, 1, 1, 1, 1, 1, 1, 1, 1, 1, 1, 1, 1, 1, 1, 1, 1, 1, 1, 1, 1, 1, 1, 1, 1, 1, 1, 1, 1, 1, 1, 1, 1, 1, 1, 1, 1, 1, 1, 1, 1, 1, 1, 1, 1, 1, 1, 1, 1, 1, 1, 1, 1, 1, 1, 1, 1, 1, 1, 1, 1, 1, 1, 1, 1, 1, 1, 1, 1, 1, 1, 1, 1, 1, 1, 1, 1, 1, 1, 1, 1, 1, 1, 1, 1, 1, 1, 1, 1, 1, 1, 1, 1, 1, 1, 1, 1, 1, 1, 1, 1, 1, 1, 1, 1, 1, 1, 1, 1, 1, 1, 1, 1, 1, 1, 1, 1, 1, 1, 1, 1, 1, 1, 1, 1, 1, 1, 1, 1, 1, 1, 1, 1, 1, 1, 1, 1, 1, 1, 1, 1, 1, 1, 1, 1, 1, 1, 1, 1, 1, 1, 1, 1, 1, 1, 1, 1, 1, 1, 1, 1, 1, 1, 1, 1, 1, 1, 1, 1, 1, 1, 1, 1, 1, 1, 1, 1, 1, 1, 1, 1, 1, 1, 1, 1, 1, 1, 1, 1, 1, 1, 1, 1, 1, 1, 1, 1, 1, 1, 1, 1, 1, 1, 1, 1, 1, 1, 1, 1, 1, 1, 1, 1, 1, 1, 1, 1, 1, 1, 1, 1, 1, 1, 1, 1, 1, 1, 1, 1, 1, 1, 1, 1, 1, 1, 1, 1, 1, 1, 1, 1, 1, 1, 1, 1, 1, 1, 1, 1, 1, 1, 1, 1, 1, 1, 1, 1, 1, 1, 1, 1, 1, 1, 1, 1, 1, 1, 1, 1, 1, 1, 1, 1, 1, 1, 1, 1, 1, 1, 1, 1, 1, 1, 1, 1, 1, 1, 1, 1, 1, 1, 1, 1, 1, 1, 1, 1, 1, 1, 1, 1, 1, 1, 1, 1, 1, 1, 1, 1, 1, 1, 1, 1, 1, 1, 1, 1, 1, 1, 1, 1, 1, 1, 1, 1, 1, 1, 1, 1, 1, 1, 1, 1, 1, 1, 1, 1, 1, 1, 1, 1, 1, 1, 1, 1, 1, 1, 1, 1, 1, 1, 1, 1, 1, 1, 1, 1, 1, 1, 1, 1, 1, 1, 1, 1, 1, 1, 1, 1, 1, 1, 1, 1, 1, 1, 1, 1, 1, 1, 1, 1, 1, 1, 1, 1, 1, 1, 1, 1, 1, 1, 1, 1, 1, 1, 1, 1, 1, 1, 1, 1, 1, 1, 1, 1, 1, 1, 1, 1, 1, 1, 1, 1, 1, 1, 1, 1, 1, 1, 1, 1, 1, 1, 1, 1, 1, 1, 1, 1, 1, 1, 1, 1, 1, 1, 1, 1, 1, 1, 1, 1, 1, 1, 1, 1, 1, 1, 1, 1, 1, 1, 1, 1, 1, 1, 1, 1, 1, 1, 1, 1, 1, 1, 1, 1, 1, 1, 1, 1, 1, 1, 1, 1]\n"
          ],
          "name": "stdout"
        }
      ]
    },
    {
      "cell_type": "markdown",
      "metadata": {
        "id": "QXev_RR6Dj73"
      },
      "source": [
        "# Conclusion -2"
      ]
    },
    {
      "cell_type": "markdown",
      "metadata": {
        "id": "en_Se8XIDs7S"
      },
      "source": [
        "1. Since the maximum cluster value i gave to the model was 11, so first 1 lakh authors got divided in a group of 2. This shows that the way the authors write news headlines is not much different from each other\n"
      ]
    }
  ]
}